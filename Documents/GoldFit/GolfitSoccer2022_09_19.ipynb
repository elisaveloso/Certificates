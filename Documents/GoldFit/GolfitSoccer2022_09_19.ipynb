{
  "nbformat": 4,
  "nbformat_minor": 0,
  "metadata": {
    "colab": {
      "provenance": [],
      "collapsed_sections": [
        "e1uyoA99AD-3",
        "LHwAY_1wAMo6"
      ]
    },
    "kernelspec": {
      "name": "python3",
      "display_name": "Python 3"
    },
    "language_info": {
      "name": "python"
    }
  },
  "cells": [
    {
      "cell_type": "markdown",
      "source": [
        "# Get Data"
      ],
      "metadata": {
        "id": "5g3sVrQ5zFgk"
      }
    },
    {
      "cell_type": "code",
      "source": [
        "import pandas as pd\n",
        "from sklearn.model_selection import train_test_split"
      ],
      "metadata": {
        "id": "ILM5jtnXzgo4"
      },
      "execution_count": null,
      "outputs": []
    },
    {
      "cell_type": "code",
      "execution_count": null,
      "metadata": {
        "id": "3NCJDPFzywjf"
      },
      "outputs": [],
      "source": [
        "data = pd.read_excel('BDADOS_Modelagem Futebol_IC2022.xlsx')"
      ]
    },
    {
      "cell_type": "code",
      "source": [
        "''' x2015_diff = data.drop(['Codigo', 'Nome', 'PosiçãodeJogo',\n",
        "       'GoldEscore_ModeloLinear', 'GSS_Classificao', 'FezReteste',\n",
        "       'RetençãoPosTemporada', 'Ano_Avaliação', 'Ano_Nascimento', 'Idade',\n",
        "       'Quartil1', 'EAP_%Atingida', 'Maturação_EscoreZ',\n",
        "       'P_Lidar', 'P_Pressão', 'P_Metas',\n",
        "       'P_Concentração', 'P_LivrePreocupação', \n",
        "       'P_Treinabilidade', 'P_IdadeInicio',\n",
        "       'AtletaFamília', 'P_MassaCorporal', 'P_Estatura',\n",
        "       'EstaturaAdultaPrevista', 'P_Gordura', 'P_ForçaMão', 'P_Flexibilidade',\n",
        "       'P_VO2máx',\n",
        "       'P_Intangíveis', 'P_Treinador'], axis=1).loc[data['Ano_Avaliação'] == 2015]\n",
        "\n",
        "x2017_diff = data.drop(['Codigo', 'Nome', 'PosiçãodeJogo',\n",
        "       'GoldEscore_ModeloLinear', 'GSS_Classificao', 'FezReteste',\n",
        "       'RetençãoPosTemporada', 'Ano_Avaliação', 'Ano_Nascimento', 'Idade',\n",
        "       'Quartil1', 'EAP_%Atingida', 'Maturação_EscoreZ',\n",
        "       'P_Lidar', 'P_Pressão', 'P_Metas',\n",
        "       'P_Concentração', 'P_LivrePreocupação', \n",
        "       'P_Treinabilidade', 'P_IdadeInicio',\n",
        "       'AtletaFamília', 'P_MassaCorporal', 'P_Estatura',\n",
        "       'EstaturaAdultaPrevista', 'P_Gordura', 'P_ForçaMão', 'P_Flexibilidade',\n",
        "       'P_VO2máx',\n",
        "       'P_Intangíveis', 'P_Treinador'], axis=1).loc[data['Ano_Avaliação'] == 2017] '''"
      ],
      "metadata": {
        "id": "XoGloaDIzusV",
        "colab": {
          "base_uri": "https://localhost:8080/",
          "height": 244
        },
        "outputId": "a02b4508-5d10-41f9-ed13-4546cfb172cd"
      },
      "execution_count": null,
      "outputs": [
        {
          "output_type": "execute_result",
          "data": {
            "text/plain": [
              "\" x2015_diff = data.drop(['Codigo', 'Nome', 'PosiçãodeJogo',\\n       'GoldEscore_ModeloLinear', 'GSS_Classificao', 'FezReteste',\\n       'RetençãoPosTemporada', 'Ano_Avaliação', 'Ano_Nascimento', 'Idade',\\n       'Quartil1', 'EAP_%Atingida', 'Maturação_EscoreZ',\\n       'P_Lidar', 'P_Pressão', 'P_Metas',\\n       'P_Concentração', 'P_LivrePreocupação', \\n       'P_Treinabilidade', 'P_IdadeInicio',\\n       'AtletaFamília', 'P_MassaCorporal', 'P_Estatura',\\n       'EstaturaAdultaPrevista', 'P_Gordura', 'P_ForçaMão', 'P_Flexibilidade',\\n       'P_VO2máx',\\n       'P_Intangíveis', 'P_Treinador'], axis=1).loc[data['Ano_Avaliação'] == 2015]\\n\\nx2017_diff = data.drop(['Codigo', 'Nome', 'PosiçãodeJogo',\\n       'GoldEscore_ModeloLinear', 'GSS_Classificao', 'FezReteste',\\n       'RetençãoPosTemporada', 'Ano_Avaliação', 'Ano_Nascimento', 'Idade',\\n       'Quartil1', 'EAP_%Atingida', 'Maturação_EscoreZ',\\n       'P_Lidar', 'P_Pressão', 'P_Metas',\\n       'P_Concentração', 'P_LivrePreocupação', \\n       'P_Treinabilidade', 'P_IdadeInicio',\\n       'AtletaFamília', 'P_MassaCorporal', 'P_Estatura',\\n       'EstaturaAdultaPrevista', 'P_Gordura', 'P_ForçaMão', 'P_Flexibilidade',\\n       'P_VO2máx',\\n       'P_Intangíveis', 'P_Treinador'], axis=1).loc[data['Ano_Avaliação'] == 2017] \""
            ],
            "application/vnd.google.colaboratory.intrinsic+json": {
              "type": "string"
            }
          },
          "metadata": {},
          "execution_count": 3
        }
      ]
    },
    {
      "cell_type": "code",
      "source": [
        "x2015_diff = data[data['Ano_Avaliação']==2015]"
      ],
      "metadata": {
        "id": "iJESaPQ8elkc"
      },
      "execution_count": null,
      "outputs": []
    },
    {
      "cell_type": "code",
      "source": [
        "x2015_diff = data[['Status2020','GoldEscore_ModeloLinear','Ambidestro','CompetênciaPercebida', 'P_ConfiançaMotivação', 'P_Coping','P_ApoioFamilia', 'P_SaltoVertical', 'P_Agilidade', 'P_Velocidade20m','P_ResistênciaYOYO', 'P_Drible', 'P_Tática', 'IdadePVC']]"
      ],
      "metadata": {
        "id": "RhR9W68BSyLa"
      },
      "execution_count": null,
      "outputs": []
    },
    {
      "cell_type": "code",
      "source": [
        "x2015_diff.head()"
      ],
      "metadata": {
        "colab": {
          "base_uri": "https://localhost:8080/",
          "height": 270
        },
        "id": "tuJjI-arTiBR",
        "outputId": "5270f078-d0f8-4fd0-ad72-d8ed42811d90"
      },
      "execution_count": null,
      "outputs": [
        {
          "output_type": "execute_result",
          "data": {
            "text/plain": [
              "   Status2020  GoldEscore_ModeloLinear  Ambidestro  CompetênciaPercebida  \\\n",
              "0           0                50.989571           0                    70   \n",
              "1           0                50.085655           0                    80   \n",
              "2           0                44.474730           0                    70   \n",
              "3           0                46.645113           0                    80   \n",
              "4           0                45.482161           1                    70   \n",
              "\n",
              "   P_ConfiançaMotivação   P_Coping  P_ApoioFamilia  P_SaltoVertical  \\\n",
              "0             85.992891  88.493033       71.566115        74.857110   \n",
              "1             34.826827  81.326706       57.925971        92.219616   \n",
              "2             72.240468  90.490208       50.797831        44.828321   \n",
              "3              8.534345   6.300836       18.141125        22.965000   \n",
              "4             72.240468  35.569125       10.027257        88.876756   \n",
              "\n",
              "   P_Agilidade  P_Velocidade20m  P_ResistênciaYOYO   P_Drible   P_Tática  \\\n",
              "0    76.114793        22.965000           4.947147  41.293558  82.121362   \n",
              "1    83.891294        64.430875          24.825223  63.307174  90.490208   \n",
              "2    50.000000        51.595344          34.457826  50.000000  40.904588   \n",
              "3    61.791142        65.909703           9.012267  77.035000  40.904588   \n",
              "4    81.057035        98.808937          16.602325  44.038231  40.904588   \n",
              "\n",
              "    IdadePVC  \n",
              "0  15.836011  \n",
              "1  13.516524  \n",
              "2  14.320515  \n",
              "3  14.971890  \n",
              "4  12.867770  "
            ],
            "text/html": [
              "\n",
              "  <div id=\"df-b29009d8-8d9f-4888-b0c0-653c6b00fcbb\">\n",
              "    <div class=\"colab-df-container\">\n",
              "      <div>\n",
              "<style scoped>\n",
              "    .dataframe tbody tr th:only-of-type {\n",
              "        vertical-align: middle;\n",
              "    }\n",
              "\n",
              "    .dataframe tbody tr th {\n",
              "        vertical-align: top;\n",
              "    }\n",
              "\n",
              "    .dataframe thead th {\n",
              "        text-align: right;\n",
              "    }\n",
              "</style>\n",
              "<table border=\"1\" class=\"dataframe\">\n",
              "  <thead>\n",
              "    <tr style=\"text-align: right;\">\n",
              "      <th></th>\n",
              "      <th>Status2020</th>\n",
              "      <th>GoldEscore_ModeloLinear</th>\n",
              "      <th>Ambidestro</th>\n",
              "      <th>CompetênciaPercebida</th>\n",
              "      <th>P_ConfiançaMotivação</th>\n",
              "      <th>P_Coping</th>\n",
              "      <th>P_ApoioFamilia</th>\n",
              "      <th>P_SaltoVertical</th>\n",
              "      <th>P_Agilidade</th>\n",
              "      <th>P_Velocidade20m</th>\n",
              "      <th>P_ResistênciaYOYO</th>\n",
              "      <th>P_Drible</th>\n",
              "      <th>P_Tática</th>\n",
              "      <th>IdadePVC</th>\n",
              "    </tr>\n",
              "  </thead>\n",
              "  <tbody>\n",
              "    <tr>\n",
              "      <th>0</th>\n",
              "      <td>0</td>\n",
              "      <td>50.989571</td>\n",
              "      <td>0</td>\n",
              "      <td>70</td>\n",
              "      <td>85.992891</td>\n",
              "      <td>88.493033</td>\n",
              "      <td>71.566115</td>\n",
              "      <td>74.857110</td>\n",
              "      <td>76.114793</td>\n",
              "      <td>22.965000</td>\n",
              "      <td>4.947147</td>\n",
              "      <td>41.293558</td>\n",
              "      <td>82.121362</td>\n",
              "      <td>15.836011</td>\n",
              "    </tr>\n",
              "    <tr>\n",
              "      <th>1</th>\n",
              "      <td>0</td>\n",
              "      <td>50.085655</td>\n",
              "      <td>0</td>\n",
              "      <td>80</td>\n",
              "      <td>34.826827</td>\n",
              "      <td>81.326706</td>\n",
              "      <td>57.925971</td>\n",
              "      <td>92.219616</td>\n",
              "      <td>83.891294</td>\n",
              "      <td>64.430875</td>\n",
              "      <td>24.825223</td>\n",
              "      <td>63.307174</td>\n",
              "      <td>90.490208</td>\n",
              "      <td>13.516524</td>\n",
              "    </tr>\n",
              "    <tr>\n",
              "      <th>2</th>\n",
              "      <td>0</td>\n",
              "      <td>44.474730</td>\n",
              "      <td>0</td>\n",
              "      <td>70</td>\n",
              "      <td>72.240468</td>\n",
              "      <td>90.490208</td>\n",
              "      <td>50.797831</td>\n",
              "      <td>44.828321</td>\n",
              "      <td>50.000000</td>\n",
              "      <td>51.595344</td>\n",
              "      <td>34.457826</td>\n",
              "      <td>50.000000</td>\n",
              "      <td>40.904588</td>\n",
              "      <td>14.320515</td>\n",
              "    </tr>\n",
              "    <tr>\n",
              "      <th>3</th>\n",
              "      <td>0</td>\n",
              "      <td>46.645113</td>\n",
              "      <td>0</td>\n",
              "      <td>80</td>\n",
              "      <td>8.534345</td>\n",
              "      <td>6.300836</td>\n",
              "      <td>18.141125</td>\n",
              "      <td>22.965000</td>\n",
              "      <td>61.791142</td>\n",
              "      <td>65.909703</td>\n",
              "      <td>9.012267</td>\n",
              "      <td>77.035000</td>\n",
              "      <td>40.904588</td>\n",
              "      <td>14.971890</td>\n",
              "    </tr>\n",
              "    <tr>\n",
              "      <th>4</th>\n",
              "      <td>0</td>\n",
              "      <td>45.482161</td>\n",
              "      <td>1</td>\n",
              "      <td>70</td>\n",
              "      <td>72.240468</td>\n",
              "      <td>35.569125</td>\n",
              "      <td>10.027257</td>\n",
              "      <td>88.876756</td>\n",
              "      <td>81.057035</td>\n",
              "      <td>98.808937</td>\n",
              "      <td>16.602325</td>\n",
              "      <td>44.038231</td>\n",
              "      <td>40.904588</td>\n",
              "      <td>12.867770</td>\n",
              "    </tr>\n",
              "  </tbody>\n",
              "</table>\n",
              "</div>\n",
              "      <button class=\"colab-df-convert\" onclick=\"convertToInteractive('df-b29009d8-8d9f-4888-b0c0-653c6b00fcbb')\"\n",
              "              title=\"Convert this dataframe to an interactive table.\"\n",
              "              style=\"display:none;\">\n",
              "        \n",
              "  <svg xmlns=\"http://www.w3.org/2000/svg\" height=\"24px\"viewBox=\"0 0 24 24\"\n",
              "       width=\"24px\">\n",
              "    <path d=\"M0 0h24v24H0V0z\" fill=\"none\"/>\n",
              "    <path d=\"M18.56 5.44l.94 2.06.94-2.06 2.06-.94-2.06-.94-.94-2.06-.94 2.06-2.06.94zm-11 1L8.5 8.5l.94-2.06 2.06-.94-2.06-.94L8.5 2.5l-.94 2.06-2.06.94zm10 10l.94 2.06.94-2.06 2.06-.94-2.06-.94-.94-2.06-.94 2.06-2.06.94z\"/><path d=\"M17.41 7.96l-1.37-1.37c-.4-.4-.92-.59-1.43-.59-.52 0-1.04.2-1.43.59L10.3 9.45l-7.72 7.72c-.78.78-.78 2.05 0 2.83L4 21.41c.39.39.9.59 1.41.59.51 0 1.02-.2 1.41-.59l7.78-7.78 2.81-2.81c.8-.78.8-2.07 0-2.86zM5.41 20L4 18.59l7.72-7.72 1.47 1.35L5.41 20z\"/>\n",
              "  </svg>\n",
              "      </button>\n",
              "      \n",
              "  <style>\n",
              "    .colab-df-container {\n",
              "      display:flex;\n",
              "      flex-wrap:wrap;\n",
              "      gap: 12px;\n",
              "    }\n",
              "\n",
              "    .colab-df-convert {\n",
              "      background-color: #E8F0FE;\n",
              "      border: none;\n",
              "      border-radius: 50%;\n",
              "      cursor: pointer;\n",
              "      display: none;\n",
              "      fill: #1967D2;\n",
              "      height: 32px;\n",
              "      padding: 0 0 0 0;\n",
              "      width: 32px;\n",
              "    }\n",
              "\n",
              "    .colab-df-convert:hover {\n",
              "      background-color: #E2EBFA;\n",
              "      box-shadow: 0px 1px 2px rgba(60, 64, 67, 0.3), 0px 1px 3px 1px rgba(60, 64, 67, 0.15);\n",
              "      fill: #174EA6;\n",
              "    }\n",
              "\n",
              "    [theme=dark] .colab-df-convert {\n",
              "      background-color: #3B4455;\n",
              "      fill: #D2E3FC;\n",
              "    }\n",
              "\n",
              "    [theme=dark] .colab-df-convert:hover {\n",
              "      background-color: #434B5C;\n",
              "      box-shadow: 0px 1px 3px 1px rgba(0, 0, 0, 0.15);\n",
              "      filter: drop-shadow(0px 1px 2px rgba(0, 0, 0, 0.3));\n",
              "      fill: #FFFFFF;\n",
              "    }\n",
              "  </style>\n",
              "\n",
              "      <script>\n",
              "        const buttonEl =\n",
              "          document.querySelector('#df-b29009d8-8d9f-4888-b0c0-653c6b00fcbb button.colab-df-convert');\n",
              "        buttonEl.style.display =\n",
              "          google.colab.kernel.accessAllowed ? 'block' : 'none';\n",
              "\n",
              "        async function convertToInteractive(key) {\n",
              "          const element = document.querySelector('#df-b29009d8-8d9f-4888-b0c0-653c6b00fcbb');\n",
              "          const dataTable =\n",
              "            await google.colab.kernel.invokeFunction('convertToInteractive',\n",
              "                                                     [key], {});\n",
              "          if (!dataTable) return;\n",
              "\n",
              "          const docLinkHtml = 'Like what you see? Visit the ' +\n",
              "            '<a target=\"_blank\" href=https://colab.research.google.com/notebooks/data_table.ipynb>data table notebook</a>'\n",
              "            + ' to learn more about interactive tables.';\n",
              "          element.innerHTML = '';\n",
              "          dataTable['output_type'] = 'display_data';\n",
              "          await google.colab.output.renderOutput(dataTable, element);\n",
              "          const docLink = document.createElement('div');\n",
              "          docLink.innerHTML = docLinkHtml;\n",
              "          element.appendChild(docLink);\n",
              "        }\n",
              "      </script>\n",
              "    </div>\n",
              "  </div>\n",
              "  "
            ]
          },
          "metadata": {},
          "execution_count": 6
        }
      ]
    },
    {
      "cell_type": "code",
      "source": [
        "y = x2015_diff['Status2020']\n",
        "y = pd.DataFrame([0 if y[i] == 1 else 1 for i in range(len(y))])\n",
        "\n",
        "X = x2015_diff.drop(['Status2020'],axis=1)"
      ],
      "metadata": {
        "id": "D1s-qdst0y8c"
      },
      "execution_count": null,
      "outputs": []
    },
    {
      "cell_type": "code",
      "source": [
        "X.shape"
      ],
      "metadata": {
        "colab": {
          "base_uri": "https://localhost:8080/"
        },
        "id": "rPYCNgcv0d_o",
        "outputId": "b123dcf9-cf61-4dec-e12c-e0ff0495c013"
      },
      "execution_count": null,
      "outputs": [
        {
          "output_type": "execute_result",
          "data": {
            "text/plain": [
              "(165, 13)"
            ]
          },
          "metadata": {},
          "execution_count": 8
        }
      ]
    },
    {
      "cell_type": "code",
      "source": [
        "y.shape"
      ],
      "metadata": {
        "colab": {
          "base_uri": "https://localhost:8080/"
        },
        "id": "IkFhTjmp0mPA",
        "outputId": "4fe2c789-f384-4b71-d134-677f2137e2f2"
      },
      "execution_count": null,
      "outputs": [
        {
          "output_type": "execute_result",
          "data": {
            "text/plain": [
              "(165, 1)"
            ]
          },
          "metadata": {},
          "execution_count": 9
        }
      ]
    },
    {
      "cell_type": "code",
      "source": [
        "temp = y[y==1]\n",
        "temp.shape"
      ],
      "metadata": {
        "colab": {
          "base_uri": "https://localhost:8080/"
        },
        "id": "rIVy1sRH0Ta-",
        "outputId": "88b02014-181b-4868-bd44-e5b49ec7bdda"
      },
      "execution_count": null,
      "outputs": [
        {
          "output_type": "execute_result",
          "data": {
            "text/plain": [
              "(165, 1)"
            ]
          },
          "metadata": {},
          "execution_count": 10
        }
      ]
    },
    {
      "cell_type": "code",
      "source": [
        "X.shape"
      ],
      "metadata": {
        "colab": {
          "base_uri": "https://localhost:8080/"
        },
        "id": "RN7nQN2YBqAL",
        "outputId": "70e883a0-21e8-49bf-fd66-e7fdaf09a2b3"
      },
      "execution_count": null,
      "outputs": [
        {
          "output_type": "execute_result",
          "data": {
            "text/plain": [
              "(165, 13)"
            ]
          },
          "metadata": {},
          "execution_count": 11
        }
      ]
    },
    {
      "cell_type": "code",
      "source": [
        "import matplotlib.pyplot as plt\n",
        "\n",
        "plt.plot(y,'o')"
      ],
      "metadata": {
        "colab": {
          "base_uri": "https://localhost:8080/",
          "height": 282
        },
        "id": "IA8o_4vi7Qy_",
        "outputId": "4ecc87a2-22fa-44f4-cf8f-7be8d8857793"
      },
      "execution_count": null,
      "outputs": [
        {
          "output_type": "execute_result",
          "data": {
            "text/plain": [
              "[<matplotlib.lines.Line2D at 0x7f31102eae90>]"
            ]
          },
          "metadata": {},
          "execution_count": 12
        },
        {
          "output_type": "display_data",
          "data": {
            "text/plain": [
              "<Figure size 432x288 with 1 Axes>"
            ],
            "image/png": "[encoded data removed]"
          },
          "metadata": {
            "needs_background": "light"
          }
        }
      ]
    },
    {
      "cell_type": "code",
      "source": [
        "data['Status2020'].value_counts() ## check the count of each class"
      ],
      "metadata": {
        "colab": {
          "base_uri": "https://localhost:8080/"
        },
        "id": "H80XAoT4ItR1",
        "outputId": "1b2b2b12-f327-48c2-9c85-5cd52be2cb64"
      },
      "execution_count": null,
      "outputs": [
        {
          "output_type": "execute_result",
          "data": {
            "text/plain": [
              "0    132\n",
              "1     33\n",
              "Name: Status2020, dtype: int64"
            ]
          },
          "metadata": {},
          "execution_count": 13
        }
      ]
    },
    {
      "cell_type": "code",
      "source": [
        "##visualize the data\n",
        "'''plt.figure(figsize=(12, 8))\n",
        "sns.scatterplot(x = 'Idade', y = 'Idade', hue = 'Status2020', data = data)'''"
      ],
      "metadata": {
        "colab": {
          "base_uri": "https://localhost:8080/",
          "height": 53
        },
        "id": "cRfM2GRaT5EH",
        "outputId": "982ea676-a4ec-4610-a98a-03ae4df08112"
      },
      "execution_count": null,
      "outputs": [
        {
          "output_type": "execute_result",
          "data": {
            "text/plain": [
              "\"plt.figure(figsize=(12, 8))\\nsns.scatterplot(x = 'Idade', y = 'Idade', hue = 'Status2020', data = data)\""
            ],
            "application/vnd.google.colaboratory.intrinsic+json": {
              "type": "string"
            }
          },
          "metadata": {},
          "execution_count": 14
        }
      ]
    },
    {
      "cell_type": "markdown",
      "source": [
        "# Models"
      ],
      "metadata": {
        "id": "mkr3u6Fb20mo"
      }
    },
    {
      "cell_type": "code",
      "source": [
        "from sklearn.model_selection import train_test_split\n",
        "from sklearn.preprocessing import StandardScaler\n",
        "from sklearn.datasets import make_moons, make_circles, make_classification\n",
        "from sklearn.neural_network import MLPClassifier\n",
        "from sklearn.neighbors import KNeighborsClassifier\n",
        "from sklearn.svm import SVR\n",
        "from sklearn.gaussian_process import GaussianProcessClassifier\n",
        "from sklearn.gaussian_process.kernels import RBF\n",
        "from sklearn.tree import DecisionTreeClassifier\n",
        "from sklearn.ensemble import RandomForestClassifier, AdaBoostClassifier\n",
        "from sklearn.naive_bayes import GaussianNB\n",
        "from sklearn.discriminant_analysis import QuadraticDiscriminantAnalysis\n",
        "from sklearn.neighbors import KNeighborsClassifier\n",
        "from sklearn.linear_model import LogisticRegression\n",
        "from sklearn import preprocessing\n",
        "from sklearn.model_selection import GridSearchCV\n",
        "from sklearn.metrics import accuracy_score\n",
        "from sklearn.metrics import balanced_accuracy_score\n",
        "from sklearn.metrics import f1_score\n",
        "from sklearn.metrics import roc_auc_score\n",
        "from sklearn.metrics import precision_score\n",
        "from sklearn.metrics import recall_score\n",
        "from sklearn.linear_model import ElasticNet\n",
        "from sklearn.ensemble import GradientBoostingClassifier\n",
        "from sklearn.linear_model import LogisticRegression\n",
        "from sklearn.svm import SVC\n",
        "from sklearn.svm import SVR\n",
        "import xgboost as xgb\n",
        "from tqdm import tqdm"
      ],
      "metadata": {
        "id": "AY3EXDwX3ZhS"
      },
      "execution_count": null,
      "outputs": []
    },
    {
      "cell_type": "code",
      "source": [
        "\n",
        "model_list = {'SVM':SVC(),\n",
        "              #'SVM_poy':SVC(kernel='poly',class_weight='balanced'),\n",
        "                'RF': RandomForestClassifier(),\n",
        "                'LR': LogisticRegression(),\n",
        "                'GBC':GradientBoostingClassifier(),\n",
        "                'MLP': MLPClassifier(),\n",
        "                #'RF_1': RandomForestClassifier(n_estimators=1000,max_depth=3),\n",
        "                'DT': DecisionTreeClassifier(),\n",
        "                'XGB': xgb.XGBClassifier(),\n",
        "                'KNN': KNeighborsClassifier()\n",
        "              }"
      ],
      "metadata": {
        "id": "QR9q2M4B20Gn"
      },
      "execution_count": null,
      "outputs": []
    },
    {
      "cell_type": "markdown",
      "source": [
        "#Experimental Setup "
      ],
      "metadata": {
        "id": "j3y6xMAHzKKS"
      }
    },
    {
      "cell_type": "code",
      "source": [
        "import warnings\n",
        "warnings.filterwarnings(\"ignore\")"
      ],
      "metadata": {
        "id": "tRb8bAzXD1EO"
      },
      "execution_count": null,
      "outputs": []
    },
    {
      "cell_type": "code",
      "source": [
        "''' boot_samples = 100\n",
        "\n",
        "results_matrix = []\n",
        "\n",
        "for i in tqdm(range(boot_samples)):\n",
        "  X_train, X_test, y_train, y_test = train_test_split(X, y, test_size=0.10) ##10% de validação\n",
        "\n",
        "  row = []\n",
        "\n",
        "  for m_name, model in model_list.items():\n",
        "    estimator = model.fit(X_train,y_train)\n",
        "\n",
        "    y_pred = estimator.predict(X_test)\n",
        "\n",
        "    row = [m_name, accuracy_score(y_test,y_pred),precision_score(y_test,y_pred),recall_score(y_test,y_pred),balanced_accuracy_score(y_test,y_pred)]\n",
        "\n",
        "    results_matrix.append(row)\n",
        "\n",
        "# Save\n",
        "results = pd.DataFrame(results_matrix)\n",
        "results.columns = ['Model','Accuracy','Precision','Recall','BalancedAccuracy']\n",
        "results.to_csv('temp2.csv')\n",
        "\n",
        "results.head() '''\n"
      ],
      "metadata": {
        "colab": {
          "base_uri": "https://localhost:8080/",
          "height": 174
        },
        "id": "yGHvIGsXzL5_",
        "outputId": "13722e4b-44fb-4898-8727-5de8a795d520"
      },
      "execution_count": null,
      "outputs": [
        {
          "output_type": "execute_result",
          "data": {
            "text/plain": [
              "\" boot_samples = 100\\n\\nresults_matrix = []\\n\\nfor i in tqdm(range(boot_samples)):\\n  X_train, X_test, y_train, y_test = train_test_split(X, y, test_size=0.10) ##10% de validação\\n\\n  row = []\\n\\n  for m_name, model in model_list.items():\\n    estimator = model.fit(X_train,y_train)\\n\\n    y_pred = estimator.predict(X_test)\\n\\n    row = [m_name, accuracy_score(y_test,y_pred),precision_score(y_test,y_pred),recall_score(y_test,y_pred),balanced_accuracy_score(y_test,y_pred)]\\n\\n    results_matrix.append(row)\\n\\n# Save\\nresults = pd.DataFrame(results_matrix)\\nresults.columns = ['Model','Accuracy','Precision','Recall','BalancedAccuracy']\\nresults.to_csv('temp2.csv')\\n\\nresults.head() \""
            ],
            "application/vnd.google.colaboratory.intrinsic+json": {
              "type": "string"
            }
          },
          "metadata": {},
          "execution_count": 18
        }
      ]
    },
    {
      "cell_type": "code",
      "source": [
        "''' print(X_train) '''"
      ],
      "metadata": {
        "colab": {
          "base_uri": "https://localhost:8080/",
          "height": 36
        },
        "id": "Gan05YIF96p2",
        "outputId": "3d6f5add-56c7-40ce-c8e8-17491c12bd3d"
      },
      "execution_count": null,
      "outputs": [
        {
          "output_type": "execute_result",
          "data": {
            "text/plain": [
              "' print(X_train) '"
            ],
            "application/vnd.google.colaboratory.intrinsic+json": {
              "type": "string"
            }
          },
          "metadata": {},
          "execution_count": 19
        }
      ]
    },
    {
      "cell_type": "code",
      "source": [
        "''' import numpy as np\n",
        "\n",
        "print(f\"Modelo \\t\\t Acc \\t\\t Esp \\t\\t Sen\")\n",
        "for m_name, model in model_list.items():\n",
        "  temp = results[results['Model']==m_name]\n",
        "\n",
        "  print(f\"{m_name}\\t\\t {np.mean(temp['Accuracy']):.2f} \\u00B1 {np.std(temp['Accuracy']):.2f} \\t {np.mean(temp['Precision']):.2f} \\u00B1 {np.std(temp['Precision']):.2f}\\t {np.mean(temp['Recall']):.2f} \\u00B1 {np.std(temp['Recall']):.2f}\")\n",
        " '''"
      ],
      "metadata": {
        "id": "mBnEI35ROkd1",
        "colab": {
          "base_uri": "https://localhost:8080/",
          "height": 105
        },
        "outputId": "757a9092-6aa1-41af-9905-78622ed6a20e"
      },
      "execution_count": null,
      "outputs": [
        {
          "output_type": "execute_result",
          "data": {
            "text/plain": [
              "' import numpy as np\\n\\nprint(f\"Modelo \\t\\t Acc \\t\\t Esp \\t\\t Sen\")\\nfor m_name, model in model_list.items():\\n  temp = results[results[\\'Model\\']==m_name]\\n\\n  print(f\"{m_name}\\t\\t {np.mean(temp[\\'Accuracy\\']):.2f} ± {np.std(temp[\\'Accuracy\\']):.2f} \\t {np.mean(temp[\\'Precision\\']):.2f} ± {np.std(temp[\\'Precision\\']):.2f}\\t {np.mean(temp[\\'Recall\\']):.2f} ± {np.std(temp[\\'Recall\\']):.2f}\")\\n '"
            ],
            "application/vnd.google.colaboratory.intrinsic+json": {
              "type": "string"
            }
          },
          "metadata": {},
          "execution_count": 26
        }
      ]
    },
    {
      "cell_type": "code",
      "source": [
        "''' print(u\"\\u00B1\") '''"
      ],
      "metadata": {
        "id": "tA0BGupbXhVl"
      },
      "execution_count": null,
      "outputs": []
    },
    {
      "cell_type": "code",
      "source": [
        "pip install -U imbalanced-learn\n"
      ],
      "metadata": {
        "id": "awYdWQVvlrqB",
        "colab": {
          "base_uri": "https://localhost:8080/"
        },
        "outputId": "46a13a07-c491-439f-9725-54ce87e893a5"
      },
      "execution_count": null,
      "outputs": [
        {
          "output_type": "stream",
          "name": "stdout",
          "text": [
            "Looking in indexes: https://pypi.org/simple, https://us-python.pkg.dev/colab-wheels/public/simple/\n",
            "Requirement already satisfied: imbalanced-learn in /usr/local/lib/python3.7/dist-packages (0.8.1)\n",
            "Collecting imbalanced-learn\n",
            "  Downloading imbalanced_learn-0.9.1-py3-none-any.whl (199 kB)\n",
            "\u001b[K     |████████████████████████████████| 199 kB 12.6 MB/s \n",
            "\u001b[?25h  Downloading imbalanced_learn-0.9.0-py3-none-any.whl (199 kB)\n",
            "\u001b[K     |████████████████████████████████| 199 kB 55.5 MB/s \n",
            "\u001b[?25hRequirement already satisfied: joblib>=0.11 in /usr/local/lib/python3.7/dist-packages (from imbalanced-learn) (1.1.0)\n",
            "Requirement already satisfied: scikit-learn>=1.0.1 in /usr/local/lib/python3.7/dist-packages (from imbalanced-learn) (1.0.2)\n",
            "Requirement already satisfied: threadpoolctl>=2.0.0 in /usr/local/lib/python3.7/dist-packages (from imbalanced-learn) (3.1.0)\n",
            "Requirement already satisfied: scipy>=1.1.0 in /usr/local/lib/python3.7/dist-packages (from imbalanced-learn) (1.7.3)\n",
            "Requirement already satisfied: numpy>=1.14.6 in /usr/local/lib/python3.7/dist-packages (from imbalanced-learn) (1.21.6)\n",
            "Installing collected packages: imbalanced-learn\n",
            "  Attempting uninstall: imbalanced-learn\n",
            "    Found existing installation: imbalanced-learn 0.8.1\n",
            "    Uninstalling imbalanced-learn-0.8.1:\n",
            "      Successfully uninstalled imbalanced-learn-0.8.1\n",
            "Successfully installed imbalanced-learn-0.9.0\n"
          ]
        }
      ]
    },
    {
      "cell_type": "code",
      "source": [
        "# creating the modeling dataset\n",
        "from sklearn.datasets import make_classification\n",
        "\n",
        "# data processing\n",
        "  ## importation of pandas and numpy\n",
        "\n",
        "# data visualization\n",
        "  ## importation of matplotlib\n",
        "import seaborn as sns\n",
        "\n",
        "# model and performance\n",
        "  ## importation of train_test_split\n",
        "  ## importation of RandomForestClassifier\n",
        "from sklearn.metrics import classification_report\n",
        "\n",
        "# oversampling and undersampling\n",
        "from imblearn.over_sampling import RandomOverSampler, SMOTE\n",
        "from imblearn.under_sampling import RandomUnderSampler, NearMiss\n",
        "from imblearn.over_sampling import BorderlineSMOTE\n",
        "from collections import Counter #count after processing the data"
      ],
      "metadata": {
        "id": "Rn5a1PQTodPZ"
      },
      "execution_count": null,
      "outputs": []
    },
    {
      "cell_type": "markdown",
      "source": [
        "#Baseline Model"
      ],
      "metadata": {
        "id": "CnmqFcBbwLej"
      }
    },
    {
      "cell_type": "code",
      "source": [
        "## train random forest\n",
        "rf = RandomForestClassifier()\n",
        "baseline_model = rf.fit(X_train,y_train)\n",
        "baseline_prediction = baseline_model.predict(X_test)\n",
        "\n",
        "print(classification_report(y_test, baseline_prediction))\n",
        "\n",
        "## 0 -> 0% true positive rate -> rejeita falsamente -> minoritária\n",
        "## 1 -> 100% true positive rate -> maioritária"
      ],
      "metadata": {
        "colab": {
          "base_uri": "https://localhost:8080/"
        },
        "id": "kvOFZJLouveB",
        "outputId": "95d3ffe5-406e-4223-a762-7465a6187640"
      },
      "execution_count": null,
      "outputs": [
        {
          "output_type": "stream",
          "name": "stdout",
          "text": [
            "              precision    recall  f1-score   support\n",
            "\n",
            "           0       0.00      0.00      0.00         1\n",
            "           1       0.93      0.88      0.90        16\n",
            "\n",
            "    accuracy                           0.82        17\n",
            "   macro avg       0.47      0.44      0.45        17\n",
            "weighted avg       0.88      0.82      0.85        17\n",
            "\n"
          ]
        }
      ]
    },
    {
      "cell_type": "markdown",
      "source": [
        "#OVERSAMPLING"
      ],
      "metadata": {
        "id": "Ix7JWZ5ARBvH"
      }
    },
    {
      "cell_type": "markdown",
      "source": [
        "##Random Oversampling"
      ],
      "metadata": {
        "id": "e1uyoA99AD-3"
      }
    },
    {
      "cell_type": "markdown",
      "source": [
        "\n",
        "\n",
        "> Gera novas amostras randomicamente por repoisição\n",
        "\n"
      ],
      "metadata": {
        "id": "ZPEOatl_CZf6"
      }
    },
    {
      "cell_type": "code",
      "source": [
        "## precisão para a classe minoritária é a métrica que queremos otimizar\n",
        "##testing dataset needs to keep untouched\n",
        "\n",
        "# Randomly over sample the minority class\n",
        "ros = RandomOverSampler()\n",
        "X_train_ros, y_train_ros= ros.fit_resample(X_train, y_train)\n",
        "\n",
        "# Check the number of records after over sampling\n",
        "print(sorted(Counter(y_train_ros).items()))\n",
        "\n",
        "#print(X_train_ros)"
      ],
      "metadata": {
        "id": "aicDXN9Rqg2-",
        "colab": {
          "base_uri": "https://localhost:8080/"
        },
        "outputId": "68c973f2-107c-4a02-892d-ae874175b029"
      },
      "execution_count": null,
      "outputs": [
        {
          "output_type": "stream",
          "name": "stdout",
          "text": [
            "[(0, 1)]\n"
          ]
        }
      ]
    },
    {
      "cell_type": "code",
      "source": [
        "## arrumar visualização depois\n",
        "\n",
        "''' plt.plot(X_train_ros, 'o') '''\n",
        "''' df_ros = pd.DataFrame({'GoldEscore_ModeloLinear': X_train_ros[:, 0],'Ambidestro': X_train_ros[:, 1],'CompetênciaPercebida': X_train_ros[:, 2], 'P_ConfiançaMotivação': X_train_ros[:, 3], 'P_Coping' : X_train_ros[:, 4],'P_ApoioFamilia': X_train_ros[:, 5], 'P_SaltoVertical': X_train_ros[:, 6], 'P_Agilidade': X_train_ros[:, 7], 'P_Velocidade20m': X_train_ros[:, 8],'P_ResistênciaYOYO': X_train_ros[:, 9], 'P_Drible': X_train_ros[:, 10], 'P_Tática': X_train_ros[:, 11], 'IdadePVC': X_train_ros[:, 12], 'Satus2020': y_train_ros})\n",
        "\n",
        "plt.figure(figsize=(12, 8))\n",
        "sns.scatterplot(x = 'Idade', y = 'Idade', hue = 'Status2020', data = df_ros)\n",
        "plt.title('Random Over Sampling') '''"
      ],
      "metadata": {
        "id": "fMTZFFup2Ln7",
        "colab": {
          "base_uri": "https://localhost:8080/",
          "height": 174
        },
        "outputId": "9dd5bc7e-458c-416c-d6ae-9a87d2a55ad7"
      },
      "execution_count": null,
      "outputs": [
        {
          "output_type": "execute_result",
          "data": {
            "text/plain": [
              "\" df_ros = pd.DataFrame({'GoldEscore_ModeloLinear': X_train_ros[:, 0],'Ambidestro': X_train_ros[:, 1],'CompetênciaPercebida': X_train_ros[:, 2], 'P_ConfiançaMotivação': X_train_ros[:, 3], 'P_Coping' : X_train_ros[:, 4],'P_ApoioFamilia': X_train_ros[:, 5], 'P_SaltoVertical': X_train_ros[:, 6], 'P_Agilidade': X_train_ros[:, 7], 'P_Velocidade20m': X_train_ros[:, 8],'P_ResistênciaYOYO': X_train_ros[:, 9], 'P_Drible': X_train_ros[:, 10], 'P_Tática': X_train_ros[:, 11], 'IdadePVC': X_train_ros[:, 12], 'Satus2020': y_train_ros})\\n\\nplt.figure(figsize=(12, 8))\\nsns.scatterplot(x = 'Idade', y = 'Idade', hue = 'Status2020', data = df_ros)\\nplt.title('Random Over Sampling') \""
            ],
            "application/vnd.google.colaboratory.intrinsic+json": {
              "type": "string"
            }
          },
          "metadata": {},
          "execution_count": 29
        }
      ]
    },
    {
      "cell_type": "code",
      "source": [
        "''' plt.plot(X_train, 'o') '''"
      ],
      "metadata": {
        "id": "2GNp_RhC_r2B",
        "colab": {
          "base_uri": "https://localhost:8080/",
          "height": 36
        },
        "outputId": "880c25d1-8a56-4d9d-a878-e1e3380105ea"
      },
      "execution_count": null,
      "outputs": [
        {
          "output_type": "execute_result",
          "data": {
            "text/plain": [
              "\" plt.plot(X_train, 'o') \""
            ],
            "application/vnd.google.colaboratory.intrinsic+json": {
              "type": "string"
            }
          },
          "metadata": {},
          "execution_count": 31
        }
      ]
    },
    {
      "cell_type": "code",
      "source": [
        "# Train the random forest model\n",
        "# rf = RandomForestClassifier()\n",
        "ros_model = rf.fit(X_train_ros, y_train_ros)\n",
        "ros_prediction = ros_model.predict(X_test)\n",
        "\n",
        "# Check the model performance\n",
        "print(classification_report(y_test, ros_prediction))"
      ],
      "metadata": {
        "id": "GU1AFthM-U4c",
        "colab": {
          "base_uri": "https://localhost:8080/"
        },
        "outputId": "591c045e-ac32-496b-9387-c4455db2f759"
      },
      "execution_count": null,
      "outputs": [
        {
          "output_type": "stream",
          "name": "stdout",
          "text": [
            "              precision    recall  f1-score   support\n",
            "\n",
            "           0       0.00      0.00      0.00         1\n",
            "           1       0.93      0.88      0.90        16\n",
            "\n",
            "    accuracy                           0.82        17\n",
            "   macro avg       0.47      0.44      0.45        17\n",
            "weighted avg       0.88      0.82      0.85        17\n",
            "\n"
          ]
        }
      ]
    },
    {
      "cell_type": "markdown",
      "source": [
        "## SMOTE Oversampling"
      ],
      "metadata": {
        "id": "LHwAY_1wAMo6"
      }
    },
    {
      "cell_type": "code",
      "source": [
        "smote = SMOTE(random_state=42)\n",
        "X_train_smote, y_train_smote = smote.fit_resample(X_train, y_train)\n",
        "\n",
        "print(sorted(Counter(y_train_smote).items()))"
      ],
      "metadata": {
        "id": "B6dhPqJMkU9w"
      },
      "execution_count": null,
      "outputs": []
    },
    {
      "cell_type": "code",
      "source": [
        "''' print(X_train) '''"
      ],
      "metadata": {
        "id": "fq1r3Icyr49p"
      },
      "execution_count": null,
      "outputs": []
    },
    {
      "cell_type": "code",
      "source": [
        "''' print(X_train_smote) '''"
      ],
      "metadata": {
        "id": "NukFkKYvrsHo"
      },
      "execution_count": null,
      "outputs": []
    },
    {
      "cell_type": "code",
      "source": [
        "#plt.plot(X_train_smote, 'o')"
      ],
      "metadata": {
        "id": "nNqyo_rSzsKg"
      },
      "execution_count": null,
      "outputs": []
    },
    {
      "cell_type": "code",
      "source": [
        "#plt.plot(X_train, 'o')"
      ],
      "metadata": {
        "id": "_MhlusyNz_4w"
      },
      "execution_count": null,
      "outputs": []
    },
    {
      "cell_type": "code",
      "source": [
        "# Train the random forest model\n",
        "# rf = RandomForestClassifier()\n",
        "smote_model = rf.fit(X_train_smote, y_train_smote)\n",
        "smote_prediction = smote_model.predict(X_test)\n",
        "\n",
        "# Check the model performance\n",
        "print(classification_report(y_test, smote_prediction))"
      ],
      "metadata": {
        "id": "Ejc65ixMA6aM"
      },
      "execution_count": null,
      "outputs": []
    },
    {
      "cell_type": "markdown",
      "source": [
        "#Borderline-SMOTE\n",
        "\n",
        "> só faz cópias ao longo dos limites entre as duas classes\n",
        "\n"
      ],
      "metadata": {
        "id": "_oDVdR70LlNh"
      }
    },
    {
      "cell_type": "code",
      "source": [
        "boot_samples = 30\n",
        "\n",
        "results_matrix_resample = []\n",
        "\n",
        "sampling_strategy='minority'\n",
        "k_neighbors=20\n",
        "m_neighbors=30 \n",
        "kind='borderline-2'\n",
        "\n",
        "for i in tqdm(range(boot_samples)):\n",
        "  X_train, X_test, y_train, y_test = train_test_split(X, y, test_size=0.10) ##10% de validação\n",
        "\n",
        "  for m_name, model in model_list.items():\n",
        "      row = []\n",
        "\n",
        "      bs = BorderlineSMOTE(sampling_strategy=sampling_strategy, k_neighbors=k_neighbors, m_neighbors=m_neighbors, kind=kind)\n",
        "      X_train_bs, y_train_bs = bs.fit_resample(X_train, y_train)\n",
        "\n",
        "      bs_model = model.fit(X_train_bs, y_train_bs)\n",
        "      y_pred = bs_model.predict(X_test)\n",
        "\n",
        "      row = ['BorderlineSMOTE',m_name, sampling_strategy, k_neighbors, m_neighbors, kind,\n",
        "             accuracy_score(y_test,y_pred),precision_score(y_test,y_pred),recall_score(y_test,y_pred),balanced_accuracy_score(y_test,y_pred)]\n",
        "\n",
        "      results_matrix_resample.append(row)\n",
        "\n",
        "  #PANDAS -> Salvar como csv.\n",
        "\n",
        "print(classification_report(y_test, y_pred))"
      ],
      "metadata": {
        "colab": {
          "base_uri": "https://localhost:8080/",
          "height": 217
        },
        "id": "Rbl-OK94qNdo",
        "outputId": "910d0a58-dcff-4ff9-b231-49b3d2d0e689"
      },
      "execution_count": null,
      "outputs": [
        {
          "output_type": "stream",
          "name": "stderr",
          "text": [
            "100%|██████████| 30/30 [00:27<00:00,  1.09it/s]\n"
          ]
        },
        {
          "output_type": "error",
          "ename": "NameError",
          "evalue": "ignored",
          "traceback": [
            "\u001b[0;31m---------------------------------------------------------------------------\u001b[0m",
            "\u001b[0;31mNameError\u001b[0m                                 Traceback (most recent call last)",
            "\u001b[0;32m<ipython-input-25-448c6f1b2cb9>\u001b[0m in \u001b[0;36m<module>\u001b[0;34m\u001b[0m\n\u001b[1;32m     27\u001b[0m   \u001b[0;31m#PANDAS -> Salvar como csv.\u001b[0m\u001b[0;34m\u001b[0m\u001b[0;34m\u001b[0m\u001b[0;34m\u001b[0m\u001b[0m\n\u001b[1;32m     28\u001b[0m \u001b[0;34m\u001b[0m\u001b[0m\n\u001b[0;32m---> 29\u001b[0;31m \u001b[0mprint\u001b[0m\u001b[0;34m(\u001b[0m\u001b[0mclassification_report\u001b[0m\u001b[0;34m(\u001b[0m\u001b[0my_test\u001b[0m\u001b[0;34m,\u001b[0m \u001b[0mbs_prediction\u001b[0m\u001b[0;34m)\u001b[0m\u001b[0;34m)\u001b[0m\u001b[0;34m\u001b[0m\u001b[0;34m\u001b[0m\u001b[0m\n\u001b[0m",
            "\u001b[0;31mNameError\u001b[0m: name 'bs_prediction' is not defined"
          ]
        }
      ]
    },
    {
      "cell_type": "code",
      "source": [
        "print(results_matrix_resample)"
      ],
      "metadata": {
        "id": "RvVRmdTp8CsP"
      },
      "execution_count": null,
      "outputs": []
    },
    {
      "cell_type": "code",
      "source": [
        "''' boot_samples = 30\n",
        "\n",
        "results_matrix = []\n",
        "\n",
        "for i in tqdm(range(boot_samples)):\n",
        "  X_train, X_test, y_train, y_test = train_test_split(X, y, test_size=0.10) ##10% de validação\n",
        "\n",
        "  row = []\n",
        "\n",
        "  for m_name, model in model_list.items():\n",
        "    estimator = model.fit(X_train,y_train)\n",
        "\n",
        "    y_pred = estimator.predict(X_test)\n",
        "\n",
        "    row = [m_name, accuracy_score(y_test,y_pred),precision_score(y_test,y_pred),recall_score(y_test,y_pred),balanced_accuracy_score(y_test,y_pred)]\n",
        "\n",
        "    results_matrix.append(row)\n",
        "\n",
        "  bs = BorderlineSMOTE(sampling_strategy='minority', random_state=42, k_neighbors=20, m_neighbors=30, kind='borderline-2')\n",
        "  X_train_bs, y_train_bs = bs.fit_resample(X_train, y_train)\n",
        "\n",
        "  bs_model = rf.fit(X_train_bs, y_train_bs)\n",
        "  bs_prediction = bs_model.predict(X_test)\n",
        "\n",
        "print(classification_report(y_test, bs_prediction)) '''"
      ],
      "metadata": {
        "id": "Z8FCRHtrv2oJ"
      },
      "execution_count": null,
      "outputs": []
    },
    {
      "cell_type": "code",
      "source": [],
      "metadata": {
        "id": "60WWE9AFwawK"
      },
      "execution_count": null,
      "outputs": []
    }
  ]
}