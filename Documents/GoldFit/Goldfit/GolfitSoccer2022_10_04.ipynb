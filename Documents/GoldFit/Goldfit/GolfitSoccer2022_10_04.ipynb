{
  "cells": [
    {
      "cell_type": "markdown",
      "metadata": {
        "id": "5g3sVrQ5zFgk"
      },
      "source": [
        "# Get Data"
      ]
    },
    {
      "cell_type": "code",
      "execution_count": 1,
      "metadata": {},
      "outputs": [],
      "source": [
        "import pip"
      ]
    },
    {
      "cell_type": "code",
      "execution_count": 25,
      "metadata": {
        "id": "ILM5jtnXzgo4"
      },
      "outputs": [],
      "source": [
        "import pandas as pd\n",
        "import numpy as np\n",
        "from sklearn.model_selection import train_test_split"
      ]
    },
    {
      "cell_type": "code",
      "execution_count": 26,
      "metadata": {},
      "outputs": [
        {
          "name": "stdout",
          "output_type": "stream",
          "text": [
            "Requirement already satisfied: scikit-learn in c:\\anaconda\\lib\\site-packages (1.1.2)\n",
            "Requirement already satisfied: joblib>=1.0.0 in c:\\anaconda\\lib\\site-packages (from scikit-learn) (1.1.0)\n",
            "Requirement already satisfied: numpy>=1.17.3 in c:\\anaconda\\lib\\site-packages (from scikit-learn) (1.20.3)\n",
            "Requirement already satisfied: threadpoolctl>=2.0.0 in c:\\anaconda\\lib\\site-packages (from scikit-learn) (2.2.0)\n",
            "Requirement already satisfied: scipy>=1.3.2 in c:\\anaconda\\lib\\site-packages (from scikit-learn) (1.7.1)\n",
            "Note: you may need to restart the kernel to use updated packages.\n"
          ]
        }
      ],
      "source": [
        "%pip install -U scikit-learn"
      ]
    },
    {
      "cell_type": "code",
      "execution_count": 3,
      "metadata": {
        "id": "3NCJDPFzywjf"
      },
      "outputs": [],
      "source": [
        "data = pd.read_excel('BDADOS_Modelagem Futebol_IC2022.xlsx')"
      ]
    },
    {
      "cell_type": "code",
      "execution_count": 4,
      "metadata": {
        "id": "iJESaPQ8elkc"
      },
      "outputs": [],
      "source": [
        "x2015_diff = data[data['Ano_Avaliação']==2015]"
      ]
    },
    {
      "cell_type": "code",
      "execution_count": 5,
      "metadata": {
        "id": "RhR9W68BSyLa"
      },
      "outputs": [],
      "source": [
        "x2015_diff = data[['Status2020','GoldEscore_ModeloLinear','Ambidestro','CompetênciaPercebida', 'P_ConfiançaMotivação', 'P_Coping','P_ApoioFamilia', 'P_SaltoVertical', 'P_Agilidade', 'P_Velocidade20m','P_ResistênciaYOYO', 'P_Drible', 'P_Tática', 'IdadePVC']]"
      ]
    },
    {
      "cell_type": "code",
      "execution_count": 6,
      "metadata": {
        "colab": {
          "base_uri": "https://localhost:8080/",
          "height": 270
        },
        "id": "tuJjI-arTiBR",
        "outputId": "9647dee8-b83e-4dee-ba40-d97de242ee9a"
      },
      "outputs": [
        {
          "data": {
            "text/html": [
              "<div>\n",
              "<style scoped>\n",
              "    .dataframe tbody tr th:only-of-type {\n",
              "        vertical-align: middle;\n",
              "    }\n",
              "\n",
              "    .dataframe tbody tr th {\n",
              "        vertical-align: top;\n",
              "    }\n",
              "\n",
              "    .dataframe thead th {\n",
              "        text-align: right;\n",
              "    }\n",
              "</style>\n",
              "<table border=\"1\" class=\"dataframe\">\n",
              "  <thead>\n",
              "    <tr style=\"text-align: right;\">\n",
              "      <th></th>\n",
              "      <th>Status2020</th>\n",
              "      <th>GoldEscore_ModeloLinear</th>\n",
              "      <th>Ambidestro</th>\n",
              "      <th>CompetênciaPercebida</th>\n",
              "      <th>P_ConfiançaMotivação</th>\n",
              "      <th>P_Coping</th>\n",
              "      <th>P_ApoioFamilia</th>\n",
              "      <th>P_SaltoVertical</th>\n",
              "      <th>P_Agilidade</th>\n",
              "      <th>P_Velocidade20m</th>\n",
              "      <th>P_ResistênciaYOYO</th>\n",
              "      <th>P_Drible</th>\n",
              "      <th>P_Tática</th>\n",
              "      <th>IdadePVC</th>\n",
              "    </tr>\n",
              "  </thead>\n",
              "  <tbody>\n",
              "    <tr>\n",
              "      <th>0</th>\n",
              "      <td>0</td>\n",
              "      <td>50.989571</td>\n",
              "      <td>0</td>\n",
              "      <td>70</td>\n",
              "      <td>85.992891</td>\n",
              "      <td>88.493033</td>\n",
              "      <td>71.566115</td>\n",
              "      <td>74.857110</td>\n",
              "      <td>76.114793</td>\n",
              "      <td>22.965000</td>\n",
              "      <td>4.947147</td>\n",
              "      <td>41.293558</td>\n",
              "      <td>82.121362</td>\n",
              "      <td>15.836011</td>\n",
              "    </tr>\n",
              "    <tr>\n",
              "      <th>1</th>\n",
              "      <td>0</td>\n",
              "      <td>50.085655</td>\n",
              "      <td>0</td>\n",
              "      <td>80</td>\n",
              "      <td>34.826827</td>\n",
              "      <td>81.326706</td>\n",
              "      <td>57.925971</td>\n",
              "      <td>92.219616</td>\n",
              "      <td>83.891294</td>\n",
              "      <td>64.430875</td>\n",
              "      <td>24.825223</td>\n",
              "      <td>63.307174</td>\n",
              "      <td>90.490208</td>\n",
              "      <td>13.516524</td>\n",
              "    </tr>\n",
              "    <tr>\n",
              "      <th>2</th>\n",
              "      <td>0</td>\n",
              "      <td>44.474730</td>\n",
              "      <td>0</td>\n",
              "      <td>70</td>\n",
              "      <td>72.240468</td>\n",
              "      <td>90.490208</td>\n",
              "      <td>50.797831</td>\n",
              "      <td>44.828321</td>\n",
              "      <td>50.000000</td>\n",
              "      <td>51.595344</td>\n",
              "      <td>34.457826</td>\n",
              "      <td>50.000000</td>\n",
              "      <td>40.904588</td>\n",
              "      <td>14.320515</td>\n",
              "    </tr>\n",
              "    <tr>\n",
              "      <th>3</th>\n",
              "      <td>0</td>\n",
              "      <td>46.645113</td>\n",
              "      <td>0</td>\n",
              "      <td>80</td>\n",
              "      <td>8.534345</td>\n",
              "      <td>6.300836</td>\n",
              "      <td>18.141125</td>\n",
              "      <td>22.965000</td>\n",
              "      <td>61.791142</td>\n",
              "      <td>65.909703</td>\n",
              "      <td>9.012267</td>\n",
              "      <td>77.035000</td>\n",
              "      <td>40.904588</td>\n",
              "      <td>14.971890</td>\n",
              "    </tr>\n",
              "    <tr>\n",
              "      <th>4</th>\n",
              "      <td>0</td>\n",
              "      <td>45.482161</td>\n",
              "      <td>1</td>\n",
              "      <td>70</td>\n",
              "      <td>72.240468</td>\n",
              "      <td>35.569125</td>\n",
              "      <td>10.027257</td>\n",
              "      <td>88.876756</td>\n",
              "      <td>81.057035</td>\n",
              "      <td>98.808937</td>\n",
              "      <td>16.602325</td>\n",
              "      <td>44.038231</td>\n",
              "      <td>40.904588</td>\n",
              "      <td>12.867770</td>\n",
              "    </tr>\n",
              "  </tbody>\n",
              "</table>\n",
              "</div>"
            ],
            "text/plain": [
              "   Status2020  GoldEscore_ModeloLinear  Ambidestro  CompetênciaPercebida  \\\n",
              "0           0                50.989571           0                    70   \n",
              "1           0                50.085655           0                    80   \n",
              "2           0                44.474730           0                    70   \n",
              "3           0                46.645113           0                    80   \n",
              "4           0                45.482161           1                    70   \n",
              "\n",
              "   P_ConfiançaMotivação   P_Coping  P_ApoioFamilia  P_SaltoVertical  \\\n",
              "0             85.992891  88.493033       71.566115        74.857110   \n",
              "1             34.826827  81.326706       57.925971        92.219616   \n",
              "2             72.240468  90.490208       50.797831        44.828321   \n",
              "3              8.534345   6.300836       18.141125        22.965000   \n",
              "4             72.240468  35.569125       10.027257        88.876756   \n",
              "\n",
              "   P_Agilidade  P_Velocidade20m  P_ResistênciaYOYO   P_Drible   P_Tática  \\\n",
              "0    76.114793        22.965000           4.947147  41.293558  82.121362   \n",
              "1    83.891294        64.430875          24.825223  63.307174  90.490208   \n",
              "2    50.000000        51.595344          34.457826  50.000000  40.904588   \n",
              "3    61.791142        65.909703           9.012267  77.035000  40.904588   \n",
              "4    81.057035        98.808937          16.602325  44.038231  40.904588   \n",
              "\n",
              "    IdadePVC  \n",
              "0  15.836011  \n",
              "1  13.516524  \n",
              "2  14.320515  \n",
              "3  14.971890  \n",
              "4  12.867770  "
            ]
          },
          "execution_count": 6,
          "metadata": {},
          "output_type": "execute_result"
        }
      ],
      "source": [
        "x2015_diff.head()"
      ]
    },
    {
      "cell_type": "code",
      "execution_count": 7,
      "metadata": {
        "id": "D1s-qdst0y8c"
      },
      "outputs": [],
      "source": [
        "y = x2015_diff['Status2020']\n",
        "y = pd.DataFrame([0 if y[i] == 1 else 1 for i in range(len(y))])\n",
        "\n",
        "X = x2015_diff.drop(['Status2020'],axis=1)"
      ]
    },
    {
      "cell_type": "code",
      "execution_count": 8,
      "metadata": {
        "colab": {
          "base_uri": "https://localhost:8080/"
        },
        "id": "H80XAoT4ItR1",
        "outputId": "5b5930e0-61a5-4ed7-9daf-47fb40e49994"
      },
      "outputs": [
        {
          "data": {
            "text/plain": [
              "0    132\n",
              "1     33\n",
              "Name: Status2020, dtype: int64"
            ]
          },
          "execution_count": 8,
          "metadata": {},
          "output_type": "execute_result"
        }
      ],
      "source": [
        "data['Status2020'].value_counts() ## check the count of each class"
      ]
    },
    {
      "cell_type": "markdown",
      "metadata": {
        "id": "mkr3u6Fb20mo"
      },
      "source": [
        "# Models"
      ]
    },
    {
      "cell_type": "code",
      "execution_count": 30,
      "metadata": {
        "id": "AY3EXDwX3ZhS"
      },
      "outputs": [
        {
          "ename": "ModuleNotFoundError",
          "evalue": "No module named 'xgboost'",
          "output_type": "error",
          "traceback": [
            "\u001b[1;31m---------------------------------------------------------------------------\u001b[0m",
            "\u001b[1;31mModuleNotFoundError\u001b[0m                       Traceback (most recent call last)",
            "\u001b[1;32mC:\\Users\\ELISAV~1\\AppData\\Local\\Temp/ipykernel_5988/3415644003.py\u001b[0m in \u001b[0;36m<module>\u001b[1;34m\u001b[0m\n\u001b[0;32m     27\u001b[0m \u001b[1;32mfrom\u001b[0m \u001b[0msklearn\u001b[0m\u001b[1;33m.\u001b[0m\u001b[0msvm\u001b[0m \u001b[1;32mimport\u001b[0m \u001b[0mSVR\u001b[0m\u001b[1;33m\u001b[0m\u001b[1;33m\u001b[0m\u001b[0m\n\u001b[0;32m     28\u001b[0m \u001b[1;31m#from xgboost.xgbclassifier import XGBClassifier\u001b[0m\u001b[1;33m\u001b[0m\u001b[1;33m\u001b[0m\u001b[0m\n\u001b[1;32m---> 29\u001b[1;33m \u001b[1;32mimport\u001b[0m \u001b[0mxgboost\u001b[0m \u001b[1;32mas\u001b[0m \u001b[0mxgb\u001b[0m\u001b[1;33m\u001b[0m\u001b[1;33m\u001b[0m\u001b[0m\n\u001b[0m\u001b[0;32m     30\u001b[0m \u001b[1;32mfrom\u001b[0m \u001b[0mtqdm\u001b[0m \u001b[1;32mimport\u001b[0m \u001b[0mtqdm\u001b[0m\u001b[1;33m\u001b[0m\u001b[1;33m\u001b[0m\u001b[0m\n",
            "\u001b[1;31mModuleNotFoundError\u001b[0m: No module named 'xgboost'"
          ]
        }
      ],
      "source": [
        "from sklearn.model_selection import train_test_split\n",
        "from sklearn.preprocessing import StandardScaler\n",
        "from sklearn.datasets import make_moons, make_circles, make_classification\n",
        "from sklearn.neural_network import MLPClassifier\n",
        "from sklearn.neighbors import KNeighborsClassifier\n",
        "from sklearn.svm import SVR\n",
        "from sklearn.gaussian_process import GaussianProcessClassifier\n",
        "from sklearn.gaussian_process.kernels import RBF\n",
        "from sklearn.tree import DecisionTreeClassifier\n",
        "from sklearn.ensemble import RandomForestClassifier, AdaBoostClassifier\n",
        "from sklearn.naive_bayes import GaussianNB\n",
        "from sklearn.discriminant_analysis import QuadraticDiscriminantAnalysis\n",
        "from sklearn.neighbors import KNeighborsClassifier\n",
        "from sklearn.linear_model import LogisticRegression\n",
        "from sklearn import preprocessing\n",
        "from sklearn.model_selection import GridSearchCV\n",
        "from sklearn.metrics import accuracy_score\n",
        "from sklearn.metrics import balanced_accuracy_score\n",
        "from sklearn.metrics import f1_score\n",
        "from sklearn.metrics import roc_auc_score\n",
        "from sklearn.metrics import precision_score\n",
        "from sklearn.metrics import recall_score\n",
        "from sklearn.linear_model import ElasticNet\n",
        "from sklearn.ensemble import GradientBoostingClassifier\n",
        "from sklearn.linear_model import LogisticRegression\n",
        "from sklearn.svm import SVC\n",
        "from sklearn.svm import SVR\n",
        "#from xgboost.xgbclassifier import XGBClassifier\n",
        "import xgboost as xgb\n",
        "from tqdm import tqdm"
      ]
    },
    {
      "cell_type": "code",
      "execution_count": null,
      "metadata": {
        "id": "QR9q2M4B20Gn"
      },
      "outputs": [],
      "source": [
        "\n",
        "model_list = {'SVM':SVC(),\n",
        "              #'SVM_poy':SVC(kernel='poly',class_weight='balanced'),\n",
        "                'RF': RandomForestClassifier(),\n",
        "                'LR': LogisticRegression(),\n",
        "                'GBC':GradientBoostingClassifier(),\n",
        "                #'MLP': MLPClassifier(),\n",
        "                #'RF_1': RandomForestClassifier(n_estimators=1000,max_depth=3),\n",
        "                'DT': DecisionTreeClassifier(),\n",
        "                'XGB': xgb.XGBClassifier(),\n",
        "                'KNN': KNeighborsClassifier()\n",
        "              }"
      ]
    },
    {
      "cell_type": "markdown",
      "metadata": {
        "id": "j3y6xMAHzKKS"
      },
      "source": [
        "# Experimental Setup"
      ]
    },
    {
      "cell_type": "code",
      "execution_count": 10,
      "metadata": {
        "id": "tRb8bAzXD1EO"
      },
      "outputs": [],
      "source": [
        "import warnings\n",
        "warnings.filterwarnings(\"ignore\")"
      ]
    },
    {
      "cell_type": "code",
      "execution_count": null,
      "metadata": {
        "colab": {
          "base_uri": "https://localhost:8080/",
          "height": 87
        },
        "id": "yGHvIGsXzL5_",
        "outputId": "89e74011-8374-4fb1-e5ed-c8c66d964fe7"
      },
      "outputs": [],
      "source": [
        "''' boot_samples = 100\n",
        "\n",
        "results_matrix = []\n",
        "\n",
        "for i in tqdm(range(boot_samples)):\n",
        "  X_train, X_test, y_train, y_test = train_test_split(X, y, test_size=0.10) ##10% de validação\n",
        "\n",
        "  row = []\n",
        "\n",
        "  for m_name, model in model_list.items():\n",
        "    estimator = model.fit(X_train,y_train)\n",
        "\n",
        "    y_pred = estimator.predict(X_test)\n",
        "\n",
        "    row = [m_name, accuracy_score(y_test,y_pred),precision_score(y_test,y_pred),recall_score(y_test,y_pred),balanced_accuracy_score(y_test,y_pred)]\n",
        "\n",
        "    results_matrix.append(row)\n",
        "\n",
        "# Save\n",
        "results = pd.DataFrame(results_matrix)\n",
        "results.columns = ['Model','Accuracy','Precision','Recall','BalancedAccuracy']\n",
        "results.to_csv('temp2.csv')\n",
        "\n",
        "results.head() '''\n"
      ]
    },
    {
      "cell_type": "code",
      "execution_count": null,
      "metadata": {
        "colab": {
          "base_uri": "https://localhost:8080/",
          "height": 35
        },
        "id": "Gan05YIF96p2",
        "outputId": "fb89b19f-eaac-46a6-ea04-0f600b948d26"
      },
      "outputs": [],
      "source": [
        "''' print(X_train) '''"
      ]
    },
    {
      "cell_type": "code",
      "execution_count": null,
      "metadata": {
        "colab": {
          "base_uri": "https://localhost:8080/",
          "height": 70
        },
        "id": "mBnEI35ROkd1",
        "outputId": "30c1d4f3-3280-4509-ea97-b7fd5b690fa9"
      },
      "outputs": [],
      "source": [
        "''' import numpy as np\n",
        "\n",
        "print(f\"Modelo \\t\\t Acc \\t\\t Esp \\t\\t Sen\")\n",
        "for m_name, model in model_list.items():\n",
        "  temp = results[results['Model']==m_name]\n",
        "\n",
        "  print(f\"{m_name}\\t\\t {np.mean(temp['Accuracy']):.2f} \\u00B1 {np.std(temp['Accuracy']):.2f} \\t {np.mean(temp['Precision']):.2f} \\u00B1 {np.std(temp['Precision']):.2f}\\t {np.mean(temp['Recall']):.2f} \\u00B1 {np.std(temp['Recall']):.2f}\")\n",
        " '''"
      ]
    },
    {
      "cell_type": "code",
      "execution_count": null,
      "metadata": {
        "colab": {
          "base_uri": "https://localhost:8080/",
          "height": 35
        },
        "id": "tA0BGupbXhVl",
        "outputId": "08dc1cb6-9cca-4168-d467-15e2bf9cdc8a"
      },
      "outputs": [],
      "source": [
        "''' print(u\"\\u00B1\") '''"
      ]
    },
    {
      "cell_type": "code",
      "execution_count": 14,
      "metadata": {
        "colab": {
          "base_uri": "https://localhost:8080/"
        },
        "id": "awYdWQVvlrqB",
        "outputId": "c69b69a5-25a4-4b27-fba1-00dcad2a513c"
      },
      "outputs": [
        {
          "name": "stdout",
          "output_type": "stream",
          "text": [
            "Collecting imbalanced-learn\n",
            "  Using cached imbalanced_learn-0.9.1-py3-none-any.whl (199 kB)\n",
            "Requirement already satisfied: joblib>=1.0.0 in c:\\anaconda\\lib\\site-packages (from imbalanced-learn) (1.1.0)\n",
            "Requirement already satisfied: scipy>=1.3.2 in c:\\anaconda\\lib\\site-packages (from imbalanced-learn) (1.7.1)\n",
            "Requirement already satisfied: scikit-learn>=1.1.0 in c:\\anaconda\\lib\\site-packages (from imbalanced-learn) (1.1.2)\n",
            "Requirement already satisfied: threadpoolctl>=2.0.0 in c:\\anaconda\\lib\\site-packages (from imbalanced-learn) (2.2.0)\n",
            "Requirement already satisfied: numpy>=1.17.3 in c:\\anaconda\\lib\\site-packages (from imbalanced-learn) (1.20.3)\n",
            "Installing collected packages: imbalanced-learn\n",
            "Successfully installed imbalanced-learn-0.9.1\n",
            "Note: you may need to restart the kernel to use updated packages.\n"
          ]
        },
        {
          "name": "stderr",
          "output_type": "stream",
          "text": [
            "WARNING: Ignoring invalid distribution -cikit-learn (c:\\anaconda\\lib\\site-packages)\n",
            "WARNING: Ignoring invalid distribution -cikit-learn (c:\\anaconda\\lib\\site-packages)\n",
            "WARNING: Ignoring invalid distribution -cikit-learn (c:\\anaconda\\lib\\site-packages)\n",
            "WARNING: Ignoring invalid distribution -cikit-learn (c:\\anaconda\\lib\\site-packages)\n",
            "WARNING: Ignoring invalid distribution -cikit-learn (c:\\anaconda\\lib\\site-packages)\n",
            "WARNING: Ignoring invalid distribution -cikit-learn (c:\\anaconda\\lib\\site-packages)\n",
            "WARNING: Ignoring invalid distribution -cikit-learn (c:\\anaconda\\lib\\site-packages)\n"
          ]
        }
      ],
      "source": [
        "%pip install -U imbalanced-learn\n"
      ]
    },
    {
      "cell_type": "code",
      "execution_count": 28,
      "metadata": {
        "id": "Rn5a1PQTodPZ"
      },
      "outputs": [
        {
          "ename": "ImportError",
          "evalue": "cannot import name '_ClassNamePrefixFeaturesOutMixin' from 'sklearn.base' (c:\\Anaconda\\lib\\site-packages\\sklearn\\base.py)",
          "output_type": "error",
          "traceback": [
            "\u001b[1;31m---------------------------------------------------------------------------\u001b[0m",
            "\u001b[1;31mImportError\u001b[0m                               Traceback (most recent call last)",
            "\u001b[1;32mC:\\Users\\ELISAV~1\\AppData\\Local\\Temp/ipykernel_5988/3921566641.py\u001b[0m in \u001b[0;36m<module>\u001b[1;34m\u001b[0m\n\u001b[0;32m     15\u001b[0m \u001b[1;33m\u001b[0m\u001b[0m\n\u001b[0;32m     16\u001b[0m \u001b[1;31m# oversampling and undersampling\u001b[0m\u001b[1;33m\u001b[0m\u001b[1;33m\u001b[0m\u001b[0m\n\u001b[1;32m---> 17\u001b[1;33m \u001b[1;32mfrom\u001b[0m \u001b[0mimblearn\u001b[0m\u001b[1;33m.\u001b[0m\u001b[0mover_sampling\u001b[0m \u001b[1;32mimport\u001b[0m \u001b[0mRandomOverSampler\u001b[0m\u001b[1;33m,\u001b[0m \u001b[0mSMOTE\u001b[0m\u001b[1;33m\u001b[0m\u001b[1;33m\u001b[0m\u001b[0m\n\u001b[0m\u001b[0;32m     18\u001b[0m \u001b[1;32mfrom\u001b[0m \u001b[0mimblearn\u001b[0m\u001b[1;33m.\u001b[0m\u001b[0munder_sampling\u001b[0m \u001b[1;32mimport\u001b[0m \u001b[0mRandomUnderSampler\u001b[0m\u001b[1;33m,\u001b[0m \u001b[0mNearMiss\u001b[0m\u001b[1;33m\u001b[0m\u001b[1;33m\u001b[0m\u001b[0m\n\u001b[0;32m     19\u001b[0m \u001b[1;32mfrom\u001b[0m \u001b[0mimblearn\u001b[0m\u001b[1;33m.\u001b[0m\u001b[0mover_sampling\u001b[0m \u001b[1;32mimport\u001b[0m \u001b[0mBorderlineSMOTE\u001b[0m\u001b[1;33m\u001b[0m\u001b[1;33m\u001b[0m\u001b[0m\n",
            "\u001b[1;32mc:\\Anaconda\\lib\\site-packages\\imblearn\\__init__.py\u001b[0m in \u001b[0;36m<module>\u001b[1;34m\u001b[0m\n\u001b[0;32m     50\u001b[0m     \u001b[1;31m# process, as it may not be compiled yet\u001b[0m\u001b[1;33m\u001b[0m\u001b[1;33m\u001b[0m\u001b[0m\n\u001b[0;32m     51\u001b[0m \u001b[1;32melse\u001b[0m\u001b[1;33m:\u001b[0m\u001b[1;33m\u001b[0m\u001b[1;33m\u001b[0m\u001b[0m\n\u001b[1;32m---> 52\u001b[1;33m     \u001b[1;32mfrom\u001b[0m \u001b[1;33m.\u001b[0m \u001b[1;32mimport\u001b[0m \u001b[0mcombine\u001b[0m\u001b[1;33m\u001b[0m\u001b[1;33m\u001b[0m\u001b[0m\n\u001b[0m\u001b[0;32m     53\u001b[0m     \u001b[1;32mfrom\u001b[0m \u001b[1;33m.\u001b[0m \u001b[1;32mimport\u001b[0m \u001b[0mensemble\u001b[0m\u001b[1;33m\u001b[0m\u001b[1;33m\u001b[0m\u001b[0m\n\u001b[0;32m     54\u001b[0m     \u001b[1;32mfrom\u001b[0m \u001b[1;33m.\u001b[0m \u001b[1;32mimport\u001b[0m \u001b[0mexceptions\u001b[0m\u001b[1;33m\u001b[0m\u001b[1;33m\u001b[0m\u001b[0m\n",
            "\u001b[1;32mc:\\Anaconda\\lib\\site-packages\\imblearn\\combine\\__init__.py\u001b[0m in \u001b[0;36m<module>\u001b[1;34m\u001b[0m\n\u001b[0;32m      3\u001b[0m \"\"\"\n\u001b[0;32m      4\u001b[0m \u001b[1;33m\u001b[0m\u001b[0m\n\u001b[1;32m----> 5\u001b[1;33m \u001b[1;32mfrom\u001b[0m \u001b[1;33m.\u001b[0m\u001b[0m_smote_enn\u001b[0m \u001b[1;32mimport\u001b[0m \u001b[0mSMOTEENN\u001b[0m\u001b[1;33m\u001b[0m\u001b[1;33m\u001b[0m\u001b[0m\n\u001b[0m\u001b[0;32m      6\u001b[0m \u001b[1;32mfrom\u001b[0m \u001b[1;33m.\u001b[0m\u001b[0m_smote_tomek\u001b[0m \u001b[1;32mimport\u001b[0m \u001b[0mSMOTETomek\u001b[0m\u001b[1;33m\u001b[0m\u001b[1;33m\u001b[0m\u001b[0m\n\u001b[0;32m      7\u001b[0m \u001b[1;33m\u001b[0m\u001b[0m\n",
            "\u001b[1;32mc:\\Anaconda\\lib\\site-packages\\imblearn\\combine\\_smote_enn.py\u001b[0m in \u001b[0;36m<module>\u001b[1;34m\u001b[0m\n\u001b[0;32m      9\u001b[0m \u001b[1;33m\u001b[0m\u001b[0m\n\u001b[0;32m     10\u001b[0m \u001b[1;32mfrom\u001b[0m \u001b[1;33m.\u001b[0m\u001b[1;33m.\u001b[0m\u001b[0mbase\u001b[0m \u001b[1;32mimport\u001b[0m \u001b[0mBaseSampler\u001b[0m\u001b[1;33m\u001b[0m\u001b[1;33m\u001b[0m\u001b[0m\n\u001b[1;32m---> 11\u001b[1;33m \u001b[1;32mfrom\u001b[0m \u001b[1;33m.\u001b[0m\u001b[1;33m.\u001b[0m\u001b[0mover_sampling\u001b[0m \u001b[1;32mimport\u001b[0m \u001b[0mSMOTE\u001b[0m\u001b[1;33m\u001b[0m\u001b[1;33m\u001b[0m\u001b[0m\n\u001b[0m\u001b[0;32m     12\u001b[0m \u001b[1;32mfrom\u001b[0m \u001b[1;33m.\u001b[0m\u001b[1;33m.\u001b[0m\u001b[0mover_sampling\u001b[0m\u001b[1;33m.\u001b[0m\u001b[0mbase\u001b[0m \u001b[1;32mimport\u001b[0m \u001b[0mBaseOverSampler\u001b[0m\u001b[1;33m\u001b[0m\u001b[1;33m\u001b[0m\u001b[0m\n\u001b[0;32m     13\u001b[0m \u001b[1;32mfrom\u001b[0m \u001b[1;33m.\u001b[0m\u001b[1;33m.\u001b[0m\u001b[0munder_sampling\u001b[0m \u001b[1;32mimport\u001b[0m \u001b[0mEditedNearestNeighbours\u001b[0m\u001b[1;33m\u001b[0m\u001b[1;33m\u001b[0m\u001b[0m\n",
            "\u001b[1;32mc:\\Anaconda\\lib\\site-packages\\imblearn\\over_sampling\\__init__.py\u001b[0m in \u001b[0;36m<module>\u001b[1;34m\u001b[0m\n\u001b[0;32m      6\u001b[0m \u001b[1;32mfrom\u001b[0m \u001b[1;33m.\u001b[0m\u001b[0m_adasyn\u001b[0m \u001b[1;32mimport\u001b[0m \u001b[0mADASYN\u001b[0m\u001b[1;33m\u001b[0m\u001b[1;33m\u001b[0m\u001b[0m\n\u001b[0;32m      7\u001b[0m \u001b[1;32mfrom\u001b[0m \u001b[1;33m.\u001b[0m\u001b[0m_random_over_sampler\u001b[0m \u001b[1;32mimport\u001b[0m \u001b[0mRandomOverSampler\u001b[0m\u001b[1;33m\u001b[0m\u001b[1;33m\u001b[0m\u001b[0m\n\u001b[1;32m----> 8\u001b[1;33m \u001b[1;32mfrom\u001b[0m \u001b[1;33m.\u001b[0m\u001b[0m_smote\u001b[0m \u001b[1;32mimport\u001b[0m \u001b[0mSMOTE\u001b[0m\u001b[1;33m\u001b[0m\u001b[1;33m\u001b[0m\u001b[0m\n\u001b[0m\u001b[0;32m      9\u001b[0m \u001b[1;32mfrom\u001b[0m \u001b[1;33m.\u001b[0m\u001b[0m_smote\u001b[0m \u001b[1;32mimport\u001b[0m \u001b[0mBorderlineSMOTE\u001b[0m\u001b[1;33m\u001b[0m\u001b[1;33m\u001b[0m\u001b[0m\n\u001b[0;32m     10\u001b[0m \u001b[1;32mfrom\u001b[0m \u001b[1;33m.\u001b[0m\u001b[0m_smote\u001b[0m \u001b[1;32mimport\u001b[0m \u001b[0mKMeansSMOTE\u001b[0m\u001b[1;33m\u001b[0m\u001b[1;33m\u001b[0m\u001b[0m\n",
            "\u001b[1;32mc:\\Anaconda\\lib\\site-packages\\imblearn\\over_sampling\\_smote\\__init__.py\u001b[0m in \u001b[0;36m<module>\u001b[1;34m\u001b[0m\n\u001b[0;32m      3\u001b[0m \u001b[1;32mfrom\u001b[0m \u001b[1;33m.\u001b[0m\u001b[0mbase\u001b[0m \u001b[1;32mimport\u001b[0m \u001b[0mSMOTENC\u001b[0m\u001b[1;33m\u001b[0m\u001b[1;33m\u001b[0m\u001b[0m\n\u001b[0;32m      4\u001b[0m \u001b[1;33m\u001b[0m\u001b[0m\n\u001b[1;32m----> 5\u001b[1;33m \u001b[1;32mfrom\u001b[0m \u001b[1;33m.\u001b[0m\u001b[0mcluster\u001b[0m \u001b[1;32mimport\u001b[0m \u001b[0mKMeansSMOTE\u001b[0m\u001b[1;33m\u001b[0m\u001b[1;33m\u001b[0m\u001b[0m\n\u001b[0m\u001b[0;32m      6\u001b[0m \u001b[1;33m\u001b[0m\u001b[0m\n\u001b[0;32m      7\u001b[0m \u001b[1;32mfrom\u001b[0m \u001b[1;33m.\u001b[0m\u001b[0mfilter\u001b[0m \u001b[1;32mimport\u001b[0m \u001b[0mBorderlineSMOTE\u001b[0m\u001b[1;33m\u001b[0m\u001b[1;33m\u001b[0m\u001b[0m\n",
            "\u001b[1;32mc:\\Anaconda\\lib\\site-packages\\imblearn\\over_sampling\\_smote\\cluster.py\u001b[0m in \u001b[0;36m<module>\u001b[1;34m\u001b[0m\n\u001b[0;32m     12\u001b[0m \u001b[1;33m\u001b[0m\u001b[0m\n\u001b[0;32m     13\u001b[0m \u001b[1;32mfrom\u001b[0m \u001b[0msklearn\u001b[0m\u001b[1;33m.\u001b[0m\u001b[0mbase\u001b[0m \u001b[1;32mimport\u001b[0m \u001b[0mclone\u001b[0m\u001b[1;33m\u001b[0m\u001b[1;33m\u001b[0m\u001b[0m\n\u001b[1;32m---> 14\u001b[1;33m \u001b[1;32mfrom\u001b[0m \u001b[0msklearn\u001b[0m\u001b[1;33m.\u001b[0m\u001b[0mcluster\u001b[0m \u001b[1;32mimport\u001b[0m \u001b[0mMiniBatchKMeans\u001b[0m\u001b[1;33m\u001b[0m\u001b[1;33m\u001b[0m\u001b[0m\n\u001b[0m\u001b[0;32m     15\u001b[0m \u001b[1;32mfrom\u001b[0m \u001b[0msklearn\u001b[0m\u001b[1;33m.\u001b[0m\u001b[0mmetrics\u001b[0m \u001b[1;32mimport\u001b[0m \u001b[0mpairwise_distances\u001b[0m\u001b[1;33m\u001b[0m\u001b[1;33m\u001b[0m\u001b[0m\n\u001b[0;32m     16\u001b[0m \u001b[1;32mfrom\u001b[0m \u001b[0msklearn\u001b[0m\u001b[1;33m.\u001b[0m\u001b[0mutils\u001b[0m \u001b[1;32mimport\u001b[0m \u001b[0m_safe_indexing\u001b[0m\u001b[1;33m\u001b[0m\u001b[1;33m\u001b[0m\u001b[0m\n",
            "\u001b[1;32mc:\\Anaconda\\lib\\site-packages\\sklearn\\cluster\\__init__.py\u001b[0m in \u001b[0;36m<module>\u001b[1;34m\u001b[0m\n\u001b[0;32m      4\u001b[0m \"\"\"\n\u001b[0;32m      5\u001b[0m \u001b[1;33m\u001b[0m\u001b[0m\n\u001b[1;32m----> 6\u001b[1;33m \u001b[1;32mfrom\u001b[0m \u001b[1;33m.\u001b[0m\u001b[0m_spectral\u001b[0m \u001b[1;32mimport\u001b[0m \u001b[0mspectral_clustering\u001b[0m\u001b[1;33m,\u001b[0m \u001b[0mSpectralClustering\u001b[0m\u001b[1;33m\u001b[0m\u001b[1;33m\u001b[0m\u001b[0m\n\u001b[0m\u001b[0;32m      7\u001b[0m \u001b[1;32mfrom\u001b[0m \u001b[1;33m.\u001b[0m\u001b[0m_mean_shift\u001b[0m \u001b[1;32mimport\u001b[0m \u001b[0mmean_shift\u001b[0m\u001b[1;33m,\u001b[0m \u001b[0mMeanShift\u001b[0m\u001b[1;33m,\u001b[0m \u001b[0mestimate_bandwidth\u001b[0m\u001b[1;33m,\u001b[0m \u001b[0mget_bin_seeds\u001b[0m\u001b[1;33m\u001b[0m\u001b[1;33m\u001b[0m\u001b[0m\n\u001b[0;32m      8\u001b[0m \u001b[1;32mfrom\u001b[0m \u001b[1;33m.\u001b[0m\u001b[0m_affinity_propagation\u001b[0m \u001b[1;32mimport\u001b[0m \u001b[0maffinity_propagation\u001b[0m\u001b[1;33m,\u001b[0m \u001b[0mAffinityPropagation\u001b[0m\u001b[1;33m\u001b[0m\u001b[1;33m\u001b[0m\u001b[0m\n",
            "\u001b[1;32mc:\\Anaconda\\lib\\site-packages\\sklearn\\cluster\\_spectral.py\u001b[0m in \u001b[0;36m<module>\u001b[1;34m\u001b[0m\n\u001b[0;32m     19\u001b[0m \u001b[1;32mfrom\u001b[0m \u001b[1;33m.\u001b[0m\u001b[1;33m.\u001b[0m\u001b[0mmetrics\u001b[0m\u001b[1;33m.\u001b[0m\u001b[0mpairwise\u001b[0m \u001b[1;32mimport\u001b[0m \u001b[0mpairwise_kernels\u001b[0m\u001b[1;33m\u001b[0m\u001b[1;33m\u001b[0m\u001b[0m\n\u001b[0;32m     20\u001b[0m \u001b[1;32mfrom\u001b[0m \u001b[1;33m.\u001b[0m\u001b[1;33m.\u001b[0m\u001b[0mneighbors\u001b[0m \u001b[1;32mimport\u001b[0m \u001b[0mkneighbors_graph\u001b[0m\u001b[1;33m,\u001b[0m \u001b[0mNearestNeighbors\u001b[0m\u001b[1;33m\u001b[0m\u001b[1;33m\u001b[0m\u001b[0m\n\u001b[1;32m---> 21\u001b[1;33m \u001b[1;32mfrom\u001b[0m \u001b[1;33m.\u001b[0m\u001b[1;33m.\u001b[0m\u001b[0mmanifold\u001b[0m \u001b[1;32mimport\u001b[0m \u001b[0mspectral_embedding\u001b[0m\u001b[1;33m\u001b[0m\u001b[1;33m\u001b[0m\u001b[0m\n\u001b[0m\u001b[0;32m     22\u001b[0m \u001b[1;32mfrom\u001b[0m \u001b[1;33m.\u001b[0m\u001b[0m_kmeans\u001b[0m \u001b[1;32mimport\u001b[0m \u001b[0mk_means\u001b[0m\u001b[1;33m\u001b[0m\u001b[1;33m\u001b[0m\u001b[0m\n\u001b[0;32m     23\u001b[0m \u001b[1;33m\u001b[0m\u001b[0m\n",
            "\u001b[1;32mc:\\Anaconda\\lib\\site-packages\\sklearn\\manifold\\__init__.py\u001b[0m in \u001b[0;36m<module>\u001b[1;34m\u001b[0m\n\u001b[0;32m      3\u001b[0m \"\"\"\n\u001b[0;32m      4\u001b[0m \u001b[1;33m\u001b[0m\u001b[0m\n\u001b[1;32m----> 5\u001b[1;33m \u001b[1;32mfrom\u001b[0m \u001b[1;33m.\u001b[0m\u001b[0m_locally_linear\u001b[0m \u001b[1;32mimport\u001b[0m \u001b[0mlocally_linear_embedding\u001b[0m\u001b[1;33m,\u001b[0m \u001b[0mLocallyLinearEmbedding\u001b[0m\u001b[1;33m\u001b[0m\u001b[1;33m\u001b[0m\u001b[0m\n\u001b[0m\u001b[0;32m      6\u001b[0m \u001b[1;32mfrom\u001b[0m \u001b[1;33m.\u001b[0m\u001b[0m_isomap\u001b[0m \u001b[1;32mimport\u001b[0m \u001b[0mIsomap\u001b[0m\u001b[1;33m\u001b[0m\u001b[1;33m\u001b[0m\u001b[0m\n\u001b[0;32m      7\u001b[0m \u001b[1;32mfrom\u001b[0m \u001b[1;33m.\u001b[0m\u001b[0m_mds\u001b[0m \u001b[1;32mimport\u001b[0m \u001b[0mMDS\u001b[0m\u001b[1;33m,\u001b[0m \u001b[0msmacof\u001b[0m\u001b[1;33m\u001b[0m\u001b[1;33m\u001b[0m\u001b[0m\n",
            "\u001b[1;32mc:\\Anaconda\\lib\\site-packages\\sklearn\\manifold\\_locally_linear.py\u001b[0m in \u001b[0;36m<module>\u001b[1;34m\u001b[0m\n\u001b[0;32m     10\u001b[0m \u001b[1;32mfrom\u001b[0m \u001b[0mscipy\u001b[0m\u001b[1;33m.\u001b[0m\u001b[0msparse\u001b[0m\u001b[1;33m.\u001b[0m\u001b[0mlinalg\u001b[0m \u001b[1;32mimport\u001b[0m \u001b[0meigsh\u001b[0m\u001b[1;33m\u001b[0m\u001b[1;33m\u001b[0m\u001b[0m\n\u001b[0;32m     11\u001b[0m \u001b[1;33m\u001b[0m\u001b[0m\n\u001b[1;32m---> 12\u001b[1;33m from ..base import (\n\u001b[0m\u001b[0;32m     13\u001b[0m     \u001b[0mBaseEstimator\u001b[0m\u001b[1;33m,\u001b[0m\u001b[1;33m\u001b[0m\u001b[1;33m\u001b[0m\u001b[0m\n\u001b[0;32m     14\u001b[0m     \u001b[0mTransformerMixin\u001b[0m\u001b[1;33m,\u001b[0m\u001b[1;33m\u001b[0m\u001b[1;33m\u001b[0m\u001b[0m\n",
            "\u001b[1;31mImportError\u001b[0m: cannot import name '_ClassNamePrefixFeaturesOutMixin' from 'sklearn.base' (c:\\Anaconda\\lib\\site-packages\\sklearn\\base.py)"
          ]
        }
      ],
      "source": [
        "# creating the modeling dataset\n",
        "from sklearn.datasets import make_classification\n",
        "\n",
        "# data processing\n",
        "  ## importation of pandas and numpy\n",
        "\n",
        "# data visualization\n",
        "  ## importation of matplotlib\n",
        "import seaborn as sns\n",
        "\n",
        "# model and performance\n",
        "  ## importation of train_test_split\n",
        "  ## importation of RandomForestClassifier\n",
        "from sklearn.metrics import classification_report\n",
        "\n",
        "# oversampling and undersampling\n",
        "from imblearn.over_sampling import RandomOverSampler, SMOTE\n",
        "from imblearn.under_sampling import RandomUnderSampler, NearMiss\n",
        "from imblearn.over_sampling import BorderlineSMOTE\n",
        "from collections import Counter #count after processing the data"
      ]
    },
    {
      "cell_type": "markdown",
      "metadata": {
        "id": "CnmqFcBbwLej"
      },
      "source": [
        "#Baseline Model"
      ]
    },
    {
      "cell_type": "code",
      "execution_count": null,
      "metadata": {
        "colab": {
          "base_uri": "https://localhost:8080/"
        },
        "id": "kvOFZJLouveB",
        "outputId": "17639176-f23e-423b-9282-8629df60de6f"
      },
      "outputs": [],
      "source": [
        "## train random forest\n",
        "rf = RandomForestClassifier()\n",
        "baseline_model = rf.fit(X_train,y_train)\n",
        "baseline_prediction = baseline_model.predict(X_test)\n",
        "\n",
        "print(classification_report(y_test, baseline_prediction))\n",
        "\n",
        "## 0 -> 0% true positive rate -> rejeita falsamente -> minoritária\n",
        "## 1 -> 100% true positive rate -> maioritária"
      ]
    },
    {
      "cell_type": "markdown",
      "metadata": {
        "id": "Ix7JWZ5ARBvH"
      },
      "source": [
        "OVERSAMPLING"
      ]
    },
    {
      "cell_type": "markdown",
      "metadata": {},
      "source": [
        "Borderline SMOTE"
      ]
    },
    {
      "cell_type": "code",
      "execution_count": null,
      "metadata": {
        "id": "60WWE9AFwawK"
      },
      "outputs": [],
      "source": [
        "import statistics\n",
        "from sklearn.metrics import precision_recall_fscore_support\n",
        "import pickle"
      ]
    },
    {
      "cell_type": "code",
      "execution_count": null,
      "metadata": {
        "colab": {
          "base_uri": "https://localhost:8080/"
        },
        "id": "Rbl-OK94qNdo",
        "outputId": "f7586efd-e37a-4cae-8751-4eb8f2f5ced6"
      },
      "outputs": [],
      "source": [
        "boot_samples = 30\n",
        "\n",
        "results_matrix_resample = []\n",
        "\n",
        "sampling_strategy_list=['minority','all']\n",
        "k_neighbors_list=[5,10,20]\n",
        "m_neighbors_list=[5,10,20,30] \n",
        "kind_list=['borderline-1','borderline-2']\n",
        "\n",
        "for i in tqdm(range(boot_samples)):\n",
        "  \n",
        "  for sampling_strategy in sampling_strategy_list:\n",
        "    for k_neighbors in k_neighbors_list:\n",
        "      for m_neighbors in m_neighbors_list:\n",
        "        for kind in kind_list:\n",
        "\n",
        "          X_train, X_test, y_train, y_test = train_test_split(X, y, test_size=0.10) ##10% de validação\n",
        "        \n",
        "          for m_name, model in model_list.items():\n",
        "            row = []\n",
        "\n",
        "            bs = BorderlineSMOTE(sampling_strategy=sampling_strategy, k_neighbors=k_neighbors, m_neighbors=m_neighbors, kind=kind)\n",
        "            X_train_bs, y_train_bs = bs.fit_resample(X_train, y_train)\n",
        "\n",
        "            bs_model = model.fit(X_train_bs, y_train_bs)\n",
        "            y_pred = bs_model.predict(X_test)\n",
        "\n",
        "            p,r,f,s = precision_recall_fscore_support(y_test, y_pred)\n",
        "\n",
        "            row = ['BorderlineSMOTE',m_name, sampling_strategy, k_neighbors, m_neighbors, kind,\n",
        "            accuracy_score(y_test,y_pred),p[0],p[1],r[0],r[1],f[0],f[1],s[0],s[1]]\n",
        "\n",
        "            results_matrix_resample.append(row)\n",
        "\n",
        "            with open('results_matrix.pickle', 'wb') as handle:\n",
        "              pickle.dump(results_matrix_resample, handle, protocol=pickle.HIGHEST_PROTOCOL)"
      ]
    },
    {
      "cell_type": "code",
      "execution_count": null,
      "metadata": {
        "id": "ec2tXFoYceHn"
      },
      "outputs": [],
      "source": [
        "with open('results_matrix.pickle', 'rb') as handle:\n",
        "    results_matrix_resample = pickle.load(handle)"
      ]
    },
    {
      "cell_type": "code",
      "execution_count": null,
      "metadata": {
        "id": "MtcsSd6ceDRu"
      },
      "outputs": [],
      "source": [
        "for r in results_matrix_resample:\n",
        "  print(r)"
      ]
    },
    {
      "cell_type": "code",
      "execution_count": null,
      "metadata": {
        "id": "YJgMkKW1KHPS"
      },
      "outputs": [],
      "source": [
        "print(results_matrix_resample)"
      ]
    },
    {
      "cell_type": "code",
      "execution_count": null,
      "metadata": {
        "id": "K5mcSCPLmHoE"
      },
      "outputs": [],
      "source": [
        "dff = pd.DataFrame(results_matrix_resample)\n",
        "dff.columns = ['balancing_method','model','sampling_strategy','k-neighbors','m-neighbors','kind','accuracy','precision_0','precision_1',\n",
        "               'recall_0','recall_1','f_0','f_1','support_0','support_1']"
      ]
    },
    {
      "cell_type": "code",
      "execution_count": null,
      "metadata": {
        "id": "zZLzJ-ksUZZ_"
      },
      "outputs": [],
      "source": [
        "dff.to_csv('GoldFitSoccer_Balanceamento_2022_09_30.csv')"
      ]
    },
    {
      "cell_type": "code",
      "execution_count": null,
      "metadata": {
        "id": "RvVRmdTp8CsP"
      },
      "outputs": [],
      "source": [
        "#print(dff)"
      ]
    },
    {
      "cell_type": "code",
      "execution_count": null,
      "metadata": {
        "id": "aLYJ9NPDn4oL"
      },
      "outputs": [],
      "source": [
        "dff.head()"
      ]
    },
    {
      "cell_type": "code",
      "execution_count": null,
      "metadata": {
        "id": "vQukNphroE8D"
      },
      "outputs": [],
      "source": [
        "dff_RF= dff.loc[dff[1]=='RF']"
      ]
    },
    {
      "cell_type": "code",
      "execution_count": null,
      "metadata": {
        "id": "CobcTGNnoQ23"
      },
      "outputs": [],
      "source": [
        "print(dff_RF)"
      ]
    },
    {
      "cell_type": "code",
      "execution_count": null,
      "metadata": {
        "id": "UUmKRQK1OXPk"
      },
      "outputs": [],
      "source": [
        "results = dff\n",
        "#results.columns = ['Model','Accuracy','Precision','Recall','BalancedAccuracy']\n",
        "results.to_csv('dff_RF_Goldfit.csv')\n",
        "\n"
      ]
    }
  ],
  "metadata": {
    "colab": {
      "collapsed_sections": [
        "e1uyoA99AD-3",
        "LHwAY_1wAMo6"
      ],
      "provenance": []
    },
    "kernelspec": {
      "display_name": "Python 3.9.7 ('base')",
      "language": "python",
      "name": "python3"
    },
    "language_info": {
      "codemirror_mode": {
        "name": "ipython",
        "version": 3
      },
      "file_extension": ".py",
      "mimetype": "text/x-python",
      "name": "python",
      "nbconvert_exporter": "python",
      "pygments_lexer": "ipython3",
      "version": "3.9.7"
    },
    "vscode": {
      "interpreter": {
        "hash": "6f5583cf1d9466b5c27e75c89cc6b383bed5736d6b16c51c8074d8690011a952"
      }
    }
  },
  "nbformat": 4,
  "nbformat_minor": 0
}
