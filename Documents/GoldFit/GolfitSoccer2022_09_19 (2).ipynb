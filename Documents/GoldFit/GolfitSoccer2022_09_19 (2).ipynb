{
  "nbformat": 4,
  "nbformat_minor": 0,
  "metadata": {
    "colab": {
      "provenance": [],
      "collapsed_sections": [
        "e1uyoA99AD-3",
        "LHwAY_1wAMo6"
      ]
    },
    "kernelspec": {
      "name": "python3",
      "display_name": "Python 3"
    },
    "language_info": {
      "name": "python"
    }
  },
  "cells": [
    {
      "cell_type": "markdown",
      "source": [
        "# Get Data"
      ],
      "metadata": {
        "id": "5g3sVrQ5zFgk"
      }
    },
    {
      "cell_type": "code",
      "source": [
        "import pandas as pd\n",
        "from sklearn.model_selection import train_test_split"
      ],
      "metadata": {
        "id": "ILM5jtnXzgo4"
      },
      "execution_count": 1,
      "outputs": []
    },
    {
      "cell_type": "code",
      "execution_count": 2,
      "metadata": {
        "id": "3NCJDPFzywjf"
      },
      "outputs": [],
      "source": [
        "data = pd.read_excel('BDADOS_Modelagem Futebol_IC2022.xlsx')"
      ]
    },
    {
      "cell_type": "code",
      "source": [
        "''' x2015_diff = data.drop(['Codigo', 'Nome', 'PosiçãodeJogo',\n",
        "       'GoldEscore_ModeloLinear', 'GSS_Classificao', 'FezReteste',\n",
        "       'RetençãoPosTemporada', 'Ano_Avaliação', 'Ano_Nascimento', 'Idade',\n",
        "       'Quartil1', 'EAP_%Atingida', 'Maturação_EscoreZ',\n",
        "       'P_Lidar', 'P_Pressão', 'P_Metas',\n",
        "       'P_Concentração', 'P_LivrePreocupação', \n",
        "       'P_Treinabilidade', 'P_IdadeInicio',\n",
        "       'AtletaFamília', 'P_MassaCorporal', 'P_Estatura',\n",
        "       'EstaturaAdultaPrevista', 'P_Gordura', 'P_ForçaMão', 'P_Flexibilidade',\n",
        "       'P_VO2máx',\n",
        "       'P_Intangíveis', 'P_Treinador'], axis=1).loc[data['Ano_Avaliação'] == 2015]\n",
        "\n",
        "x2017_diff = data.drop(['Codigo', 'Nome', 'PosiçãodeJogo',\n",
        "       'GoldEscore_ModeloLinear', 'GSS_Classificao', 'FezReteste',\n",
        "       'RetençãoPosTemporada', 'Ano_Avaliação', 'Ano_Nascimento', 'Idade',\n",
        "       'Quartil1', 'EAP_%Atingida', 'Maturação_EscoreZ',\n",
        "       'P_Lidar', 'P_Pressão', 'P_Metas',\n",
        "       'P_Concentração', 'P_LivrePreocupação', \n",
        "       'P_Treinabilidade', 'P_IdadeInicio',\n",
        "       'AtletaFamília', 'P_MassaCorporal', 'P_Estatura',\n",
        "       'EstaturaAdultaPrevista', 'P_Gordura', 'P_ForçaMão', 'P_Flexibilidade',\n",
        "       'P_VO2máx',\n",
        "       'P_Intangíveis', 'P_Treinador'], axis=1).loc[data['Ano_Avaliação'] == 2017] '''"
      ],
      "metadata": {
        "id": "XoGloaDIzusV",
        "colab": {
          "base_uri": "https://localhost:8080/",
          "height": 244
        },
        "outputId": "3805ec59-2fff-4b01-aacc-ccec4eef124c"
      },
      "execution_count": 3,
      "outputs": [
        {
          "output_type": "execute_result",
          "data": {
            "text/plain": [
              "\" x2015_diff = data.drop(['Codigo', 'Nome', 'PosiçãodeJogo',\\n       'GoldEscore_ModeloLinear', 'GSS_Classificao', 'FezReteste',\\n       'RetençãoPosTemporada', 'Ano_Avaliação', 'Ano_Nascimento', 'Idade',\\n       'Quartil1', 'EAP_%Atingida', 'Maturação_EscoreZ',\\n       'P_Lidar', 'P_Pressão', 'P_Metas',\\n       'P_Concentração', 'P_LivrePreocupação', \\n       'P_Treinabilidade', 'P_IdadeInicio',\\n       'AtletaFamília', 'P_MassaCorporal', 'P_Estatura',\\n       'EstaturaAdultaPrevista', 'P_Gordura', 'P_ForçaMão', 'P_Flexibilidade',\\n       'P_VO2máx',\\n       'P_Intangíveis', 'P_Treinador'], axis=1).loc[data['Ano_Avaliação'] == 2015]\\n\\nx2017_diff = data.drop(['Codigo', 'Nome', 'PosiçãodeJogo',\\n       'GoldEscore_ModeloLinear', 'GSS_Classificao', 'FezReteste',\\n       'RetençãoPosTemporada', 'Ano_Avaliação', 'Ano_Nascimento', 'Idade',\\n       'Quartil1', 'EAP_%Atingida', 'Maturação_EscoreZ',\\n       'P_Lidar', 'P_Pressão', 'P_Metas',\\n       'P_Concentração', 'P_LivrePreocupação', \\n       'P_Treinabilidade', 'P_IdadeInicio',\\n       'AtletaFamília', 'P_MassaCorporal', 'P_Estatura',\\n       'EstaturaAdultaPrevista', 'P_Gordura', 'P_ForçaMão', 'P_Flexibilidade',\\n       'P_VO2máx',\\n       'P_Intangíveis', 'P_Treinador'], axis=1).loc[data['Ano_Avaliação'] == 2017] \""
            ],
            "application/vnd.google.colaboratory.intrinsic+json": {
              "type": "string"
            }
          },
          "metadata": {},
          "execution_count": 3
        }
      ]
    },
    {
      "cell_type": "code",
      "source": [
        "x2015_diff = data[data['Ano_Avaliação']==2015]"
      ],
      "metadata": {
        "id": "iJESaPQ8elkc"
      },
      "execution_count": 4,
      "outputs": []
    },
    {
      "cell_type": "code",
      "source": [
        "x2015_diff = data[['Status2020','GoldEscore_ModeloLinear','Ambidestro','CompetênciaPercebida', 'P_ConfiançaMotivação', 'P_Coping','P_ApoioFamilia', 'P_SaltoVertical', 'P_Agilidade', 'P_Velocidade20m','P_ResistênciaYOYO', 'P_Drible', 'P_Tática', 'IdadePVC']]"
      ],
      "metadata": {
        "id": "RhR9W68BSyLa"
      },
      "execution_count": 5,
      "outputs": []
    },
    {
      "cell_type": "code",
      "source": [
        "x2015_diff.head()"
      ],
      "metadata": {
        "colab": {
          "base_uri": "https://localhost:8080/",
          "height": 270
        },
        "id": "tuJjI-arTiBR",
        "outputId": "e3af650d-b433-4078-933f-312e704de0da"
      },
      "execution_count": 6,
      "outputs": [
        {
          "output_type": "execute_result",
          "data": {
            "text/plain": [
              "   Status2020  GoldEscore_ModeloLinear  Ambidestro  CompetênciaPercebida  \\\n",
              "0           0                50.989571           0                    70   \n",
              "1           0                50.085655           0                    80   \n",
              "2           0                44.474730           0                    70   \n",
              "3           0                46.645113           0                    80   \n",
              "4           0                45.482161           1                    70   \n",
              "\n",
              "   P_ConfiançaMotivação   P_Coping  P_ApoioFamilia  P_SaltoVertical  \\\n",
              "0             85.992891  88.493033       71.566115        74.857110   \n",
              "1             34.826827  81.326706       57.925971        92.219616   \n",
              "2             72.240468  90.490208       50.797831        44.828321   \n",
              "3              8.534345   6.300836       18.141125        22.965000   \n",
              "4             72.240468  35.569125       10.027257        88.876756   \n",
              "\n",
              "   P_Agilidade  P_Velocidade20m  P_ResistênciaYOYO   P_Drible   P_Tática  \\\n",
              "0    76.114793        22.965000           4.947147  41.293558  82.121362   \n",
              "1    83.891294        64.430875          24.825223  63.307174  90.490208   \n",
              "2    50.000000        51.595344          34.457826  50.000000  40.904588   \n",
              "3    61.791142        65.909703           9.012267  77.035000  40.904588   \n",
              "4    81.057035        98.808937          16.602325  44.038231  40.904588   \n",
              "\n",
              "    IdadePVC  \n",
              "0  15.836011  \n",
              "1  13.516524  \n",
              "2  14.320515  \n",
              "3  14.971890  \n",
              "4  12.867770  "
            ],
            "text/html": [
              "\n",
              "  <div id=\"df-2fe17891-4a2d-4347-8794-674f4330e657\">\n",
              "    <div class=\"colab-df-container\">\n",
              "      <div>\n",
              "<style scoped>\n",
              "    .dataframe tbody tr th:only-of-type {\n",
              "        vertical-align: middle;\n",
              "    }\n",
              "\n",
              "    .dataframe tbody tr th {\n",
              "        vertical-align: top;\n",
              "    }\n",
              "\n",
              "    .dataframe thead th {\n",
              "        text-align: right;\n",
              "    }\n",
              "</style>\n",
              "<table border=\"1\" class=\"dataframe\">\n",
              "  <thead>\n",
              "    <tr style=\"text-align: right;\">\n",
              "      <th></th>\n",
              "      <th>Status2020</th>\n",
              "      <th>GoldEscore_ModeloLinear</th>\n",
              "      <th>Ambidestro</th>\n",
              "      <th>CompetênciaPercebida</th>\n",
              "      <th>P_ConfiançaMotivação</th>\n",
              "      <th>P_Coping</th>\n",
              "      <th>P_ApoioFamilia</th>\n",
              "      <th>P_SaltoVertical</th>\n",
              "      <th>P_Agilidade</th>\n",
              "      <th>P_Velocidade20m</th>\n",
              "      <th>P_ResistênciaYOYO</th>\n",
              "      <th>P_Drible</th>\n",
              "      <th>P_Tática</th>\n",
              "      <th>IdadePVC</th>\n",
              "    </tr>\n",
              "  </thead>\n",
              "  <tbody>\n",
              "    <tr>\n",
              "      <th>0</th>\n",
              "      <td>0</td>\n",
              "      <td>50.989571</td>\n",
              "      <td>0</td>\n",
              "      <td>70</td>\n",
              "      <td>85.992891</td>\n",
              "      <td>88.493033</td>\n",
              "      <td>71.566115</td>\n",
              "      <td>74.857110</td>\n",
              "      <td>76.114793</td>\n",
              "      <td>22.965000</td>\n",
              "      <td>4.947147</td>\n",
              "      <td>41.293558</td>\n",
              "      <td>82.121362</td>\n",
              "      <td>15.836011</td>\n",
              "    </tr>\n",
              "    <tr>\n",
              "      <th>1</th>\n",
              "      <td>0</td>\n",
              "      <td>50.085655</td>\n",
              "      <td>0</td>\n",
              "      <td>80</td>\n",
              "      <td>34.826827</td>\n",
              "      <td>81.326706</td>\n",
              "      <td>57.925971</td>\n",
              "      <td>92.219616</td>\n",
              "      <td>83.891294</td>\n",
              "      <td>64.430875</td>\n",
              "      <td>24.825223</td>\n",
              "      <td>63.307174</td>\n",
              "      <td>90.490208</td>\n",
              "      <td>13.516524</td>\n",
              "    </tr>\n",
              "    <tr>\n",
              "      <th>2</th>\n",
              "      <td>0</td>\n",
              "      <td>44.474730</td>\n",
              "      <td>0</td>\n",
              "      <td>70</td>\n",
              "      <td>72.240468</td>\n",
              "      <td>90.490208</td>\n",
              "      <td>50.797831</td>\n",
              "      <td>44.828321</td>\n",
              "      <td>50.000000</td>\n",
              "      <td>51.595344</td>\n",
              "      <td>34.457826</td>\n",
              "      <td>50.000000</td>\n",
              "      <td>40.904588</td>\n",
              "      <td>14.320515</td>\n",
              "    </tr>\n",
              "    <tr>\n",
              "      <th>3</th>\n",
              "      <td>0</td>\n",
              "      <td>46.645113</td>\n",
              "      <td>0</td>\n",
              "      <td>80</td>\n",
              "      <td>8.534345</td>\n",
              "      <td>6.300836</td>\n",
              "      <td>18.141125</td>\n",
              "      <td>22.965000</td>\n",
              "      <td>61.791142</td>\n",
              "      <td>65.909703</td>\n",
              "      <td>9.012267</td>\n",
              "      <td>77.035000</td>\n",
              "      <td>40.904588</td>\n",
              "      <td>14.971890</td>\n",
              "    </tr>\n",
              "    <tr>\n",
              "      <th>4</th>\n",
              "      <td>0</td>\n",
              "      <td>45.482161</td>\n",
              "      <td>1</td>\n",
              "      <td>70</td>\n",
              "      <td>72.240468</td>\n",
              "      <td>35.569125</td>\n",
              "      <td>10.027257</td>\n",
              "      <td>88.876756</td>\n",
              "      <td>81.057035</td>\n",
              "      <td>98.808937</td>\n",
              "      <td>16.602325</td>\n",
              "      <td>44.038231</td>\n",
              "      <td>40.904588</td>\n",
              "      <td>12.867770</td>\n",
              "    </tr>\n",
              "  </tbody>\n",
              "</table>\n",
              "</div>\n",
              "      <button class=\"colab-df-convert\" onclick=\"convertToInteractive('df-2fe17891-4a2d-4347-8794-674f4330e657')\"\n",
              "              title=\"Convert this dataframe to an interactive table.\"\n",
              "              style=\"display:none;\">\n",
              "        \n",
              "  <svg xmlns=\"http://www.w3.org/2000/svg\" height=\"24px\"viewBox=\"0 0 24 24\"\n",
              "       width=\"24px\">\n",
              "    <path d=\"M0 0h24v24H0V0z\" fill=\"none\"/>\n",
              "    <path d=\"M18.56 5.44l.94 2.06.94-2.06 2.06-.94-2.06-.94-.94-2.06-.94 2.06-2.06.94zm-11 1L8.5 8.5l.94-2.06 2.06-.94-2.06-.94L8.5 2.5l-.94 2.06-2.06.94zm10 10l.94 2.06.94-2.06 2.06-.94-2.06-.94-.94-2.06-.94 2.06-2.06.94z\"/><path d=\"M17.41 7.96l-1.37-1.37c-.4-.4-.92-.59-1.43-.59-.52 0-1.04.2-1.43.59L10.3 9.45l-7.72 7.72c-.78.78-.78 2.05 0 2.83L4 21.41c.39.39.9.59 1.41.59.51 0 1.02-.2 1.41-.59l7.78-7.78 2.81-2.81c.8-.78.8-2.07 0-2.86zM5.41 20L4 18.59l7.72-7.72 1.47 1.35L5.41 20z\"/>\n",
              "  </svg>\n",
              "      </button>\n",
              "      \n",
              "  <style>\n",
              "    .colab-df-container {\n",
              "      display:flex;\n",
              "      flex-wrap:wrap;\n",
              "      gap: 12px;\n",
              "    }\n",
              "\n",
              "    .colab-df-convert {\n",
              "      background-color: #E8F0FE;\n",
              "      border: none;\n",
              "      border-radius: 50%;\n",
              "      cursor: pointer;\n",
              "      display: none;\n",
              "      fill: #1967D2;\n",
              "      height: 32px;\n",
              "      padding: 0 0 0 0;\n",
              "      width: 32px;\n",
              "    }\n",
              "\n",
              "    .colab-df-convert:hover {\n",
              "      background-color: #E2EBFA;\n",
              "      box-shadow: 0px 1px 2px rgba(60, 64, 67, 0.3), 0px 1px 3px 1px rgba(60, 64, 67, 0.15);\n",
              "      fill: #174EA6;\n",
              "    }\n",
              "\n",
              "    [theme=dark] .colab-df-convert {\n",
              "      background-color: #3B4455;\n",
              "      fill: #D2E3FC;\n",
              "    }\n",
              "\n",
              "    [theme=dark] .colab-df-convert:hover {\n",
              "      background-color: #434B5C;\n",
              "      box-shadow: 0px 1px 3px 1px rgba(0, 0, 0, 0.15);\n",
              "      filter: drop-shadow(0px 1px 2px rgba(0, 0, 0, 0.3));\n",
              "      fill: #FFFFFF;\n",
              "    }\n",
              "  </style>\n",
              "\n",
              "      <script>\n",
              "        const buttonEl =\n",
              "          document.querySelector('#df-2fe17891-4a2d-4347-8794-674f4330e657 button.colab-df-convert');\n",
              "        buttonEl.style.display =\n",
              "          google.colab.kernel.accessAllowed ? 'block' : 'none';\n",
              "\n",
              "        async function convertToInteractive(key) {\n",
              "          const element = document.querySelector('#df-2fe17891-4a2d-4347-8794-674f4330e657');\n",
              "          const dataTable =\n",
              "            await google.colab.kernel.invokeFunction('convertToInteractive',\n",
              "                                                     [key], {});\n",
              "          if (!dataTable) return;\n",
              "\n",
              "          const docLinkHtml = 'Like what you see? Visit the ' +\n",
              "            '<a target=\"_blank\" href=https://colab.research.google.com/notebooks/data_table.ipynb>data table notebook</a>'\n",
              "            + ' to learn more about interactive tables.';\n",
              "          element.innerHTML = '';\n",
              "          dataTable['output_type'] = 'display_data';\n",
              "          await google.colab.output.renderOutput(dataTable, element);\n",
              "          const docLink = document.createElement('div');\n",
              "          docLink.innerHTML = docLinkHtml;\n",
              "          element.appendChild(docLink);\n",
              "        }\n",
              "      </script>\n",
              "    </div>\n",
              "  </div>\n",
              "  "
            ]
          },
          "metadata": {},
          "execution_count": 6
        }
      ]
    },
    {
      "cell_type": "code",
      "source": [
        "y = x2015_diff['Status2020']\n",
        "y = pd.DataFrame([0 if y[i] == 1 else 1 for i in range(len(y))])\n",
        "\n",
        "X = x2015_diff.drop(['Status2020'],axis=1)"
      ],
      "metadata": {
        "id": "D1s-qdst0y8c"
      },
      "execution_count": 7,
      "outputs": []
    },
    {
      "cell_type": "code",
      "source": [
        "X.shape"
      ],
      "metadata": {
        "colab": {
          "base_uri": "https://localhost:8080/"
        },
        "id": "rPYCNgcv0d_o",
        "outputId": "69763d5d-1083-4abd-d11d-b3a7bf5e4308"
      },
      "execution_count": 8,
      "outputs": [
        {
          "output_type": "execute_result",
          "data": {
            "text/plain": [
              "(165, 13)"
            ]
          },
          "metadata": {},
          "execution_count": 8
        }
      ]
    },
    {
      "cell_type": "code",
      "source": [
        "y.shape"
      ],
      "metadata": {
        "colab": {
          "base_uri": "https://localhost:8080/"
        },
        "id": "IkFhTjmp0mPA",
        "outputId": "fb7912b0-d8a7-4f3c-dd16-16334c840077"
      },
      "execution_count": 9,
      "outputs": [
        {
          "output_type": "execute_result",
          "data": {
            "text/plain": [
              "(165, 1)"
            ]
          },
          "metadata": {},
          "execution_count": 9
        }
      ]
    },
    {
      "cell_type": "code",
      "source": [
        "temp = y[y==1]\n",
        "temp.shape"
      ],
      "metadata": {
        "colab": {
          "base_uri": "https://localhost:8080/"
        },
        "id": "rIVy1sRH0Ta-",
        "outputId": "e6fc049f-0f6a-4bc8-fbfb-129bc5e2b33f"
      },
      "execution_count": 10,
      "outputs": [
        {
          "output_type": "execute_result",
          "data": {
            "text/plain": [
              "(165, 1)"
            ]
          },
          "metadata": {},
          "execution_count": 10
        }
      ]
    },
    {
      "cell_type": "code",
      "source": [
        "X.shape"
      ],
      "metadata": {
        "colab": {
          "base_uri": "https://localhost:8080/"
        },
        "id": "RN7nQN2YBqAL",
        "outputId": "f322f948-eec9-4bd8-a46f-3e32b7e54349"
      },
      "execution_count": 11,
      "outputs": [
        {
          "output_type": "execute_result",
          "data": {
            "text/plain": [
              "(165, 13)"
            ]
          },
          "metadata": {},
          "execution_count": 11
        }
      ]
    },
    {
      "cell_type": "code",
      "source": [
        "import matplotlib.pyplot as plt\n",
        "\n",
        "plt.plot(y,'o')"
      ],
      "metadata": {
        "colab": {
          "base_uri": "https://localhost:8080/",
          "height": 282
        },
        "id": "IA8o_4vi7Qy_",
        "outputId": "d3ee15b1-3606-407f-930a-3938a1048fd9"
      },
      "execution_count": 12,
      "outputs": [
        {
          "output_type": "execute_result",
          "data": {
            "text/plain": [
              "[<matplotlib.lines.Line2D at 0x7f30df1acb10>]"
            ]
          },
          "metadata": {},
          "execution_count": 12
        },
        {
          "output_type": "display_data",
          "data": {
            "text/plain": [
              "<Figure size 432x288 with 1 Axes>"
            ],
            "image/png": "[encoded data removed]"
          },
          "metadata": {
            "needs_background": "light"
          }
        }
      ]
    },
    {
      "cell_type": "code",
      "source": [
        "data['Status2020'].value_counts() ## check the count of each class"
      ],
      "metadata": {
        "colab": {
          "base_uri": "https://localhost:8080/"
        },
        "id": "H80XAoT4ItR1",
        "outputId": "dedeac4d-7d09-42a9-ad64-4812fe2f7a04"
      },
      "execution_count": 13,
      "outputs": [
        {
          "output_type": "execute_result",
          "data": {
            "text/plain": [
              "0    132\n",
              "1     33\n",
              "Name: Status2020, dtype: int64"
            ]
          },
          "metadata": {},
          "execution_count": 13
        }
      ]
    },
    {
      "cell_type": "code",
      "source": [
        "##visualize the data\n",
        "'''plt.figure(figsize=(12, 8))\n",
        "sns.scatterplot(x = 'Idade', y = 'Idade', hue = 'Status2020', data = data)'''"
      ],
      "metadata": {
        "colab": {
          "base_uri": "https://localhost:8080/",
          "height": 53
        },
        "id": "cRfM2GRaT5EH",
        "outputId": "93719113-9ed3-4487-ec1e-4d0b31250405"
      },
      "execution_count": 14,
      "outputs": [
        {
          "output_type": "execute_result",
          "data": {
            "text/plain": [
              "\"plt.figure(figsize=(12, 8))\\nsns.scatterplot(x = 'Idade', y = 'Idade', hue = 'Status2020', data = data)\""
            ],
            "application/vnd.google.colaboratory.intrinsic+json": {
              "type": "string"
            }
          },
          "metadata": {},
          "execution_count": 14
        }
      ]
    },
    {
      "cell_type": "markdown",
      "source": [
        "# Models"
      ],
      "metadata": {
        "id": "mkr3u6Fb20mo"
      }
    },
    {
      "cell_type": "code",
      "source": [
        "from sklearn.model_selection import train_test_split\n",
        "from sklearn.preprocessing import StandardScaler\n",
        "from sklearn.datasets import make_moons, make_circles, make_classification\n",
        "from sklearn.neural_network import MLPClassifier\n",
        "from sklearn.neighbors import KNeighborsClassifier\n",
        "from sklearn.svm import SVR\n",
        "from sklearn.gaussian_process import GaussianProcessClassifier\n",
        "from sklearn.gaussian_process.kernels import RBF\n",
        "from sklearn.tree import DecisionTreeClassifier\n",
        "from sklearn.ensemble import RandomForestClassifier, AdaBoostClassifier\n",
        "from sklearn.naive_bayes import GaussianNB\n",
        "from sklearn.discriminant_analysis import QuadraticDiscriminantAnalysis\n",
        "from sklearn.neighbors import KNeighborsClassifier\n",
        "from sklearn.linear_model import LogisticRegression\n",
        "from sklearn import preprocessing\n",
        "from sklearn.model_selection import GridSearchCV\n",
        "from sklearn.metrics import accuracy_score\n",
        "from sklearn.metrics import balanced_accuracy_score\n",
        "from sklearn.metrics import f1_score\n",
        "from sklearn.metrics import roc_auc_score\n",
        "from sklearn.metrics import precision_score\n",
        "from sklearn.metrics import recall_score\n",
        "from sklearn.linear_model import ElasticNet\n",
        "from sklearn.ensemble import GradientBoostingClassifier\n",
        "from sklearn.linear_model import LogisticRegression\n",
        "from sklearn.svm import SVC\n",
        "from sklearn.svm import SVR\n",
        "import xgboost as xgb\n",
        "from tqdm import tqdm"
      ],
      "metadata": {
        "id": "AY3EXDwX3ZhS"
      },
      "execution_count": 15,
      "outputs": []
    },
    {
      "cell_type": "code",
      "source": [
        "\n",
        "model_list = {'SVM':SVC(),\n",
        "              #'SVM_poy':SVC(kernel='poly',class_weight='balanced'),\n",
        "                'RF': RandomForestClassifier(),\n",
        "                'LR': LogisticRegression(),\n",
        "                'GBC':GradientBoostingClassifier(),\n",
        "                'MLP': MLPClassifier(),\n",
        "                #'RF_1': RandomForestClassifier(n_estimators=1000,max_depth=3),\n",
        "                'DT': DecisionTreeClassifier(),\n",
        "                'XGB': xgb.XGBClassifier(),\n",
        "                'KNN': KNeighborsClassifier()\n",
        "              }"
      ],
      "metadata": {
        "id": "QR9q2M4B20Gn"
      },
      "execution_count": 16,
      "outputs": []
    },
    {
      "cell_type": "markdown",
      "source": [
        "#Experimental Setup "
      ],
      "metadata": {
        "id": "j3y6xMAHzKKS"
      }
    },
    {
      "cell_type": "code",
      "source": [
        "import warnings\n",
        "warnings.filterwarnings(\"ignore\")"
      ],
      "metadata": {
        "id": "tRb8bAzXD1EO"
      },
      "execution_count": 17,
      "outputs": []
    },
    {
      "cell_type": "code",
      "source": [
        "''' boot_samples = 100\n",
        "\n",
        "results_matrix = []\n",
        "\n",
        "for i in tqdm(range(boot_samples)):\n",
        "  X_train, X_test, y_train, y_test = train_test_split(X, y, test_size=0.10) ##10% de validação\n",
        "\n",
        "  row = []\n",
        "\n",
        "  for m_name, model in model_list.items():\n",
        "    estimator = model.fit(X_train,y_train)\n",
        "\n",
        "    y_pred = estimator.predict(X_test)\n",
        "\n",
        "    row = [m_name, accuracy_score(y_test,y_pred),precision_score(y_test,y_pred),recall_score(y_test,y_pred),balanced_accuracy_score(y_test,y_pred)]\n",
        "\n",
        "    results_matrix.append(row)\n",
        "\n",
        "# Save\n",
        "results = pd.DataFrame(results_matrix)\n",
        "results.columns = ['Model','Accuracy','Precision','Recall','BalancedAccuracy']\n",
        "results.to_csv('temp2.csv')\n",
        "\n",
        "results.head() '''\n"
      ],
      "metadata": {
        "colab": {
          "base_uri": "https://localhost:8080/",
          "height": 174
        },
        "id": "yGHvIGsXzL5_",
        "outputId": "6702f5d7-befd-43f9-86f2-f9763f10d32a"
      },
      "execution_count": 18,
      "outputs": [
        {
          "output_type": "execute_result",
          "data": {
            "text/plain": [
              "\" boot_samples = 100\\n\\nresults_matrix = []\\n\\nfor i in tqdm(range(boot_samples)):\\n  X_train, X_test, y_train, y_test = train_test_split(X, y, test_size=0.10) ##10% de validação\\n\\n  row = []\\n\\n  for m_name, model in model_list.items():\\n    estimator = model.fit(X_train,y_train)\\n\\n    y_pred = estimator.predict(X_test)\\n\\n    row = [m_name, accuracy_score(y_test,y_pred),precision_score(y_test,y_pred),recall_score(y_test,y_pred),balanced_accuracy_score(y_test,y_pred)]\\n\\n    results_matrix.append(row)\\n\\n# Save\\nresults = pd.DataFrame(results_matrix)\\nresults.columns = ['Model','Accuracy','Precision','Recall','BalancedAccuracy']\\nresults.to_csv('temp2.csv')\\n\\nresults.head() \""
            ],
            "application/vnd.google.colaboratory.intrinsic+json": {
              "type": "string"
            }
          },
          "metadata": {},
          "execution_count": 18
        }
      ]
    },
    {
      "cell_type": "code",
      "source": [
        "''' print(X_train) '''"
      ],
      "metadata": {
        "colab": {
          "base_uri": "https://localhost:8080/",
          "height": 36
        },
        "id": "Gan05YIF96p2",
        "outputId": "ec7c14f1-1696-4fcf-d52b-237e65e92194"
      },
      "execution_count": 19,
      "outputs": [
        {
          "output_type": "execute_result",
          "data": {
            "text/plain": [
              "' print(X_train) '"
            ],
            "application/vnd.google.colaboratory.intrinsic+json": {
              "type": "string"
            }
          },
          "metadata": {},
          "execution_count": 19
        }
      ]
    },
    {
      "cell_type": "code",
      "source": [
        "''' import numpy as np\n",
        "\n",
        "print(f\"Modelo \\t\\t Acc \\t\\t Esp \\t\\t Sen\")\n",
        "for m_name, model in model_list.items():\n",
        "  temp = results[results['Model']==m_name]\n",
        "\n",
        "  print(f\"{m_name}\\t\\t {np.mean(temp['Accuracy']):.2f} \\u00B1 {np.std(temp['Accuracy']):.2f} \\t {np.mean(temp['Precision']):.2f} \\u00B1 {np.std(temp['Precision']):.2f}\\t {np.mean(temp['Recall']):.2f} \\u00B1 {np.std(temp['Recall']):.2f}\")\n",
        " '''"
      ],
      "metadata": {
        "id": "mBnEI35ROkd1",
        "colab": {
          "base_uri": "https://localhost:8080/",
          "height": 105
        },
        "outputId": "77c2badd-cb3d-477e-b983-b69b3814c41f"
      },
      "execution_count": 20,
      "outputs": [
        {
          "output_type": "execute_result",
          "data": {
            "text/plain": [
              "' import numpy as np\\n\\nprint(f\"Modelo \\t\\t Acc \\t\\t Esp \\t\\t Sen\")\\nfor m_name, model in model_list.items():\\n  temp = results[results[\\'Model\\']==m_name]\\n\\n  print(f\"{m_name}\\t\\t {np.mean(temp[\\'Accuracy\\']):.2f} ± {np.std(temp[\\'Accuracy\\']):.2f} \\t {np.mean(temp[\\'Precision\\']):.2f} ± {np.std(temp[\\'Precision\\']):.2f}\\t {np.mean(temp[\\'Recall\\']):.2f} ± {np.std(temp[\\'Recall\\']):.2f}\")\\n '"
            ],
            "application/vnd.google.colaboratory.intrinsic+json": {
              "type": "string"
            }
          },
          "metadata": {},
          "execution_count": 20
        }
      ]
    },
    {
      "cell_type": "code",
      "source": [
        "''' print(u\"\\u00B1\") '''"
      ],
      "metadata": {
        "id": "tA0BGupbXhVl",
        "colab": {
          "base_uri": "https://localhost:8080/",
          "height": 36
        },
        "outputId": "72f11597-7dec-48e0-8357-c6fee737ba60"
      },
      "execution_count": 21,
      "outputs": [
        {
          "output_type": "execute_result",
          "data": {
            "text/plain": [
              "' print(u\"±\") '"
            ],
            "application/vnd.google.colaboratory.intrinsic+json": {
              "type": "string"
            }
          },
          "metadata": {},
          "execution_count": 21
        }
      ]
    },
    {
      "cell_type": "code",
      "source": [
        "pip install -U imbalanced-learn\n"
      ],
      "metadata": {
        "id": "awYdWQVvlrqB",
        "colab": {
          "base_uri": "https://localhost:8080/"
        },
        "outputId": "90b401f6-b081-4c55-eaea-a0e40f127388"
      },
      "execution_count": 22,
      "outputs": [
        {
          "output_type": "stream",
          "name": "stdout",
          "text": [
            "Looking in indexes: https://pypi.org/simple, https://us-python.pkg.dev/colab-wheels/public/simple/\n",
            "Requirement already satisfied: imbalanced-learn in /usr/local/lib/python3.7/dist-packages (0.8.1)\n",
            "Collecting imbalanced-learn\n",
            "  Downloading imbalanced_learn-0.9.1-py3-none-any.whl (199 kB)\n",
            "\u001b[K     |████████████████████████████████| 199 kB 5.4 MB/s \n",
            "\u001b[?25hRequirement already satisfied: numpy>=1.17.3 in /usr/local/lib/python3.7/dist-packages (from imbalanced-learn) (1.21.6)\n",
            "Requirement already satisfied: scipy>=1.3.2 in /usr/local/lib/python3.7/dist-packages (from imbalanced-learn) (1.7.3)\n",
            "Requirement already satisfied: joblib>=1.0.0 in /usr/local/lib/python3.7/dist-packages (from imbalanced-learn) (1.1.0)\n",
            "  Downloading imbalanced_learn-0.9.0-py3-none-any.whl (199 kB)\n",
            "\u001b[K     |████████████████████████████████| 199 kB 34.1 MB/s \n",
            "\u001b[?25hRequirement already satisfied: scikit-learn>=1.0.1 in /usr/local/lib/python3.7/dist-packages (from imbalanced-learn) (1.0.2)\n",
            "Requirement already satisfied: threadpoolctl>=2.0.0 in /usr/local/lib/python3.7/dist-packages (from imbalanced-learn) (3.1.0)\n",
            "Installing collected packages: imbalanced-learn\n",
            "  Attempting uninstall: imbalanced-learn\n",
            "    Found existing installation: imbalanced-learn 0.8.1\n",
            "    Uninstalling imbalanced-learn-0.8.1:\n",
            "      Successfully uninstalled imbalanced-learn-0.8.1\n",
            "Successfully installed imbalanced-learn-0.9.0\n"
          ]
        }
      ]
    },
    {
      "cell_type": "code",
      "source": [
        "# creating the modeling dataset\n",
        "from sklearn.datasets import make_classification\n",
        "\n",
        "# data processing\n",
        "  ## importation of pandas and numpy\n",
        "\n",
        "# data visualization\n",
        "  ## importation of matplotlib\n",
        "import seaborn as sns\n",
        "\n",
        "# model and performance\n",
        "  ## importation of train_test_split\n",
        "  ## importation of RandomForestClassifier\n",
        "from sklearn.metrics import classification_report\n",
        "\n",
        "# oversampling and undersampling\n",
        "from imblearn.over_sampling import RandomOverSampler, SMOTE\n",
        "from imblearn.under_sampling import RandomUnderSampler, NearMiss\n",
        "from imblearn.over_sampling import BorderlineSMOTE\n",
        "from collections import Counter #count after processing the data"
      ],
      "metadata": {
        "id": "Rn5a1PQTodPZ"
      },
      "execution_count": 23,
      "outputs": []
    },
    {
      "cell_type": "markdown",
      "source": [
        "#Baseline Model"
      ],
      "metadata": {
        "id": "CnmqFcBbwLej"
      }
    },
    {
      "cell_type": "code",
      "source": [
        "## train random forest\n",
        "rf = RandomForestClassifier()\n",
        "baseline_model = rf.fit(X_train,y_train)\n",
        "baseline_prediction = baseline_model.predict(X_test)\n",
        "\n",
        "print(classification_report(y_test, baseline_prediction))\n",
        "\n",
        "## 0 -> 0% true positive rate -> rejeita falsamente -> minoritária\n",
        "## 1 -> 100% true positive rate -> maioritária"
      ],
      "metadata": {
        "colab": {
          "base_uri": "https://localhost:8080/",
          "height": 235
        },
        "id": "kvOFZJLouveB",
        "outputId": "188502fb-44f9-48c0-b9c9-2837b1357899"
      },
      "execution_count": 24,
      "outputs": [
        {
          "output_type": "error",
          "ename": "NameError",
          "evalue": "ignored",
          "traceback": [
            "\u001b[0;31m---------------------------------------------------------------------------\u001b[0m",
            "\u001b[0;31mNameError\u001b[0m                                 Traceback (most recent call last)",
            "\u001b[0;32m<ipython-input-24-fed4512a27f9>\u001b[0m in \u001b[0;36m<module>\u001b[0;34m\u001b[0m\n\u001b[1;32m      1\u001b[0m \u001b[0;31m## train random forest\u001b[0m\u001b[0;34m\u001b[0m\u001b[0;34m\u001b[0m\u001b[0;34m\u001b[0m\u001b[0m\n\u001b[1;32m      2\u001b[0m \u001b[0mrf\u001b[0m \u001b[0;34m=\u001b[0m \u001b[0mRandomForestClassifier\u001b[0m\u001b[0;34m(\u001b[0m\u001b[0;34m)\u001b[0m\u001b[0;34m\u001b[0m\u001b[0;34m\u001b[0m\u001b[0m\n\u001b[0;32m----> 3\u001b[0;31m \u001b[0mbaseline_model\u001b[0m \u001b[0;34m=\u001b[0m \u001b[0mrf\u001b[0m\u001b[0;34m.\u001b[0m\u001b[0mfit\u001b[0m\u001b[0;34m(\u001b[0m\u001b[0mX_train\u001b[0m\u001b[0;34m,\u001b[0m\u001b[0my_train\u001b[0m\u001b[0;34m)\u001b[0m\u001b[0;34m\u001b[0m\u001b[0;34m\u001b[0m\u001b[0m\n\u001b[0m\u001b[1;32m      4\u001b[0m \u001b[0mbaseline_prediction\u001b[0m \u001b[0;34m=\u001b[0m \u001b[0mbaseline_model\u001b[0m\u001b[0;34m.\u001b[0m\u001b[0mpredict\u001b[0m\u001b[0;34m(\u001b[0m\u001b[0mX_test\u001b[0m\u001b[0;34m)\u001b[0m\u001b[0;34m\u001b[0m\u001b[0;34m\u001b[0m\u001b[0m\n\u001b[1;32m      5\u001b[0m \u001b[0;34m\u001b[0m\u001b[0m\n",
            "\u001b[0;31mNameError\u001b[0m: name 'X_train' is not defined"
          ]
        }
      ]
    },
    {
      "cell_type": "markdown",
      "source": [
        "#OVERSAMPLING"
      ],
      "metadata": {
        "id": "Ix7JWZ5ARBvH"
      }
    },
    {
      "cell_type": "markdown",
      "source": [
        "##Random Oversampling"
      ],
      "metadata": {
        "id": "e1uyoA99AD-3"
      }
    },
    {
      "cell_type": "markdown",
      "source": [
        "\n",
        "\n",
        "> Gera novas amostras randomicamente por repoisição\n",
        "\n"
      ],
      "metadata": {
        "id": "ZPEOatl_CZf6"
      }
    },
    {
      "cell_type": "code",
      "source": [
        "## precisão para a classe minoritária é a métrica que queremos otimizar\n",
        "##testing dataset needs to keep untouched\n",
        "\n",
        "# Randomly over sample the minority class\n",
        "ros = RandomOverSampler()\n",
        "X_train_ros, y_train_ros= ros.fit_resample(X_train, y_train)\n",
        "\n",
        "# Check the number of records after over sampling\n",
        "print(sorted(Counter(y_train_ros).items()))\n",
        "\n",
        "#print(X_train_ros)"
      ],
      "metadata": {
        "id": "aicDXN9Rqg2-"
      },
      "execution_count": null,
      "outputs": []
    },
    {
      "cell_type": "code",
      "source": [
        "## arrumar visualização depois\n",
        "\n",
        "''' plt.plot(X_train_ros, 'o') '''\n",
        "''' df_ros = pd.DataFrame({'GoldEscore_ModeloLinear': X_train_ros[:, 0],'Ambidestro': X_train_ros[:, 1],'CompetênciaPercebida': X_train_ros[:, 2], 'P_ConfiançaMotivação': X_train_ros[:, 3], 'P_Coping' : X_train_ros[:, 4],'P_ApoioFamilia': X_train_ros[:, 5], 'P_SaltoVertical': X_train_ros[:, 6], 'P_Agilidade': X_train_ros[:, 7], 'P_Velocidade20m': X_train_ros[:, 8],'P_ResistênciaYOYO': X_train_ros[:, 9], 'P_Drible': X_train_ros[:, 10], 'P_Tática': X_train_ros[:, 11], 'IdadePVC': X_train_ros[:, 12], 'Satus2020': y_train_ros})\n",
        "\n",
        "plt.figure(figsize=(12, 8))\n",
        "sns.scatterplot(x = 'Idade', y = 'Idade', hue = 'Status2020', data = df_ros)\n",
        "plt.title('Random Over Sampling') '''"
      ],
      "metadata": {
        "id": "fMTZFFup2Ln7"
      },
      "execution_count": null,
      "outputs": []
    },
    {
      "cell_type": "code",
      "source": [
        "''' plt.plot(X_train, 'o') '''"
      ],
      "metadata": {
        "id": "2GNp_RhC_r2B"
      },
      "execution_count": null,
      "outputs": []
    },
    {
      "cell_type": "code",
      "source": [
        "# Train the random forest model\n",
        "# rf = RandomForestClassifier()\n",
        "ros_model = rf.fit(X_train_ros, y_train_ros)\n",
        "ros_prediction = ros_model.predict(X_test)\n",
        "\n",
        "# Check the model performance\n",
        "print(classification_report(y_test, ros_prediction))"
      ],
      "metadata": {
        "id": "GU1AFthM-U4c"
      },
      "execution_count": null,
      "outputs": []
    },
    {
      "cell_type": "markdown",
      "source": [
        "## SMOTE Oversampling"
      ],
      "metadata": {
        "id": "LHwAY_1wAMo6"
      }
    },
    {
      "cell_type": "code",
      "source": [
        "smote = SMOTE(random_state=42)\n",
        "X_train_smote, y_train_smote = smote.fit_resample(X_train, y_train)\n",
        "\n",
        "print(sorted(Counter(y_train_smote).items()))"
      ],
      "metadata": {
        "id": "B6dhPqJMkU9w"
      },
      "execution_count": null,
      "outputs": []
    },
    {
      "cell_type": "code",
      "source": [
        "''' print(X_train) '''"
      ],
      "metadata": {
        "id": "fq1r3Icyr49p"
      },
      "execution_count": null,
      "outputs": []
    },
    {
      "cell_type": "code",
      "source": [
        "''' print(X_train_smote) '''"
      ],
      "metadata": {
        "id": "NukFkKYvrsHo"
      },
      "execution_count": null,
      "outputs": []
    },
    {
      "cell_type": "code",
      "source": [
        "#plt.plot(X_train_smote, 'o')"
      ],
      "metadata": {
        "id": "nNqyo_rSzsKg"
      },
      "execution_count": null,
      "outputs": []
    },
    {
      "cell_type": "code",
      "source": [
        "#plt.plot(X_train, 'o')"
      ],
      "metadata": {
        "id": "_MhlusyNz_4w"
      },
      "execution_count": null,
      "outputs": []
    },
    {
      "cell_type": "code",
      "source": [
        "# Train the random forest model\n",
        "# rf = RandomForestClassifier()\n",
        "smote_model = rf.fit(X_train_smote, y_train_smote)\n",
        "smote_prediction = smote_model.predict(X_test)\n",
        "\n",
        "# Check the model performance\n",
        "print(classification_report(y_test, smote_prediction))"
      ],
      "metadata": {
        "id": "Ejc65ixMA6aM"
      },
      "execution_count": null,
      "outputs": []
    },
    {
      "cell_type": "markdown",
      "source": [
        "#Borderline-SMOTE\n",
        "\n",
        "> só faz cópias ao longo dos limites entre as duas classes\n",
        "\n"
      ],
      "metadata": {
        "id": "_oDVdR70LlNh"
      }
    },
    {
      "cell_type": "code",
      "source": [
        "boot_samples = 30\n",
        "\n",
        "results_matrix_resample = []\n",
        "\n",
        "sampling_strategy='minority'\n",
        "k_neighbors=20\n",
        "m_neighbors=30 \n",
        "kind='borderline-2'\n",
        "\n",
        "for i in tqdm(range(boot_samples)):\n",
        "  X_train, X_test, y_train, y_test = train_test_split(X, y, test_size=0.10) ##10% de validação\n",
        "\n",
        "  for m_name, model in model_list.items():\n",
        "      row = []\n",
        "\n",
        "      bs = BorderlineSMOTE(sampling_strategy=sampling_strategy, k_neighbors=k_neighbors, m_neighbors=m_neighbors, kind=kind)\n",
        "      X_train_bs, y_train_bs = bs.fit_resample(X_train, y_train)\n",
        "\n",
        "      bs_model = model.fit(X_train_bs, y_train_bs)\n",
        "      y_pred = bs_model.predict(X_test)\n",
        "\n",
        "      row = ['BorderlineSMOTE',m_name, sampling_strategy, k_neighbors, m_neighbors, kind,\n",
        "             accuracy_score(y_test,y_pred),precision_score(y_test,y_pred),recall_score(y_test,y_pred),balanced_accuracy_score(y_test,y_pred)]\n",
        "\n",
        "      results_matrix_resample.append(row)\n",
        "\n",
        "  #PANDAS -> Salvar como csv.\n",
        "\n",
        "print(classification_report(y_test, y_pred))"
      ],
      "metadata": {
        "colab": {
          "base_uri": "https://localhost:8080/"
        },
        "id": "Rbl-OK94qNdo",
        "outputId": "bb34a9ca-d565-4f09-a529-7cc192d0b94c"
      },
      "execution_count": 25,
      "outputs": [
        {
          "output_type": "stream",
          "name": "stderr",
          "text": [
            "100%|██████████| 30/30 [00:44<00:00,  1.47s/it]"
          ]
        },
        {
          "output_type": "stream",
          "name": "stdout",
          "text": [
            "              precision    recall  f1-score   support\n",
            "\n",
            "           0       0.43      0.60      0.50         5\n",
            "           1       0.80      0.67      0.73        12\n",
            "\n",
            "    accuracy                           0.65        17\n",
            "   macro avg       0.61      0.63      0.61        17\n",
            "weighted avg       0.69      0.65      0.66        17\n",
            "\n"
          ]
        },
        {
          "output_type": "stream",
          "name": "stderr",
          "text": [
            "\n"
          ]
        }
      ]
    },
    {
      "cell_type": "code",
      "source": [
        "df_test=pd.DataFrame(results_matrix_resample)"
      ],
      "metadata": {
        "id": "OrAyP5wslq5R"
      },
      "execution_count": 35,
      "outputs": []
    },
    {
      "cell_type": "code",
      "source": [
        "print(df_test)"
      ],
      "metadata": {
        "colab": {
          "base_uri": "https://localhost:8080/"
        },
        "id": "4NySprlDmHVG",
        "outputId": "adb70f52-85f5-4042-dc93-e4bd8b55061d"
      },
      "execution_count": 36,
      "outputs": [
        {
          "output_type": "stream",
          "name": "stdout",
          "text": [
            "                   0    1         2   3   4             5         6         7  \\\n",
            "0    BorderlineSMOTE  SVM  minority  20  30  borderline-2  0.764706  0.846154   \n",
            "1    BorderlineSMOTE   RF  minority  20  30  borderline-2  0.882353  0.866667   \n",
            "2    BorderlineSMOTE   LR  minority  20  30  borderline-2  0.705882  0.833333   \n",
            "3    BorderlineSMOTE  GBC  minority  20  30  borderline-2  0.764706  0.800000   \n",
            "4    BorderlineSMOTE  MLP  minority  20  30  borderline-2  0.647059  0.769231   \n",
            "..               ...  ...       ...  ..  ..           ...       ...       ...   \n",
            "235  BorderlineSMOTE  GBC  minority  20  30  borderline-2  0.705882  0.818182   \n",
            "236  BorderlineSMOTE  MLP  minority  20  30  borderline-2  0.705882  0.818182   \n",
            "237  BorderlineSMOTE   DT  minority  20  30  borderline-2  0.823529  1.000000   \n",
            "238  BorderlineSMOTE  XGB  minority  20  30  borderline-2  0.705882  0.818182   \n",
            "239  BorderlineSMOTE  KNN  minority  20  30  borderline-2  0.647059  0.800000   \n",
            "\n",
            "            8         9  \n",
            "0    0.846154  0.673077  \n",
            "1    1.000000  0.750000  \n",
            "2    0.769231  0.634615  \n",
            "3    0.923077  0.586538  \n",
            "4    0.769231  0.509615  \n",
            "..        ...       ...  \n",
            "235  0.750000  0.675000  \n",
            "236  0.750000  0.675000  \n",
            "237  0.750000  0.875000  \n",
            "238  0.750000  0.675000  \n",
            "239  0.666667  0.633333  \n",
            "\n",
            "[240 rows x 10 columns]\n"
          ]
        }
      ]
    },
    {
      "cell_type": "code",
      "source": [
        "print(results_matrix_resample)"
      ],
      "metadata": {
        "id": "RvVRmdTp8CsP",
        "colab": {
          "base_uri": "https://localhost:8080/"
        },
        "outputId": "e0fee23c-bd60-45df-98c6-50bdb68392d5"
      },
      "execution_count": 26,
      "outputs": [
        {
          "output_type": "stream",
          "name": "stdout",
          "text": [
            "[['BorderlineSMOTE', 'SVM', 'minority', 20, 30, 'borderline-2', 0.7647058823529411, 0.8461538461538461, 0.8461538461538461, 0.6730769230769231], ['BorderlineSMOTE', 'RF', 'minority', 20, 30, 'borderline-2', 0.8823529411764706, 0.8666666666666667, 1.0, 0.75], ['BorderlineSMOTE', 'LR', 'minority', 20, 30, 'borderline-2', 0.7058823529411765, 0.8333333333333334, 0.7692307692307693, 0.6346153846153846], ['BorderlineSMOTE', 'GBC', 'minority', 20, 30, 'borderline-2', 0.7647058823529411, 0.8, 0.9230769230769231, 0.5865384615384616], ['BorderlineSMOTE', 'MLP', 'minority', 20, 30, 'borderline-2', 0.6470588235294118, 0.7692307692307693, 0.7692307692307693, 0.5096153846153846], ['BorderlineSMOTE', 'DT', 'minority', 20, 30, 'borderline-2', 0.8235294117647058, 0.8125, 1.0, 0.625], ['BorderlineSMOTE', 'XGB', 'minority', 20, 30, 'borderline-2', 0.7647058823529411, 0.8461538461538461, 0.8461538461538461, 0.6730769230769231], ['BorderlineSMOTE', 'KNN', 'minority', 20, 30, 'borderline-2', 0.7647058823529411, 0.9090909090909091, 0.7692307692307693, 0.7596153846153846], ['BorderlineSMOTE', 'SVM', 'minority', 20, 30, 'borderline-2', 0.8235294117647058, 0.875, 0.9333333333333333, 0.4666666666666667], ['BorderlineSMOTE', 'RF', 'minority', 20, 30, 'borderline-2', 0.7647058823529411, 0.8666666666666667, 0.8666666666666667, 0.43333333333333335], ['BorderlineSMOTE', 'LR', 'minority', 20, 30, 'borderline-2', 0.8235294117647058, 0.9285714285714286, 0.8666666666666667, 0.6833333333333333], ['BorderlineSMOTE', 'GBC', 'minority', 20, 30, 'borderline-2', 0.8235294117647058, 0.9285714285714286, 0.8666666666666667, 0.6833333333333333], ['BorderlineSMOTE', 'MLP', 'minority', 20, 30, 'borderline-2', 0.7647058823529411, 0.8666666666666667, 0.8666666666666667, 0.43333333333333335], ['BorderlineSMOTE', 'DT', 'minority', 20, 30, 'borderline-2', 0.6470588235294118, 1.0, 0.6, 0.8], ['BorderlineSMOTE', 'XGB', 'minority', 20, 30, 'borderline-2', 0.8823529411764706, 0.9333333333333333, 0.9333333333333333, 0.7166666666666667], ['BorderlineSMOTE', 'KNN', 'minority', 20, 30, 'borderline-2', 0.7058823529411765, 0.9166666666666666, 0.7333333333333333, 0.6166666666666667], ['BorderlineSMOTE', 'SVM', 'minority', 20, 30, 'borderline-2', 0.5882352941176471, 0.8181818181818182, 0.6428571428571429, 0.48809523809523814], ['BorderlineSMOTE', 'RF', 'minority', 20, 30, 'borderline-2', 0.5294117647058824, 0.75, 0.6428571428571429, 0.32142857142857145], ['BorderlineSMOTE', 'LR', 'minority', 20, 30, 'borderline-2', 0.6470588235294118, 1.0, 0.5714285714285714, 0.7857142857142857], ['BorderlineSMOTE', 'GBC', 'minority', 20, 30, 'borderline-2', 0.5294117647058824, 0.75, 0.6428571428571429, 0.32142857142857145], ['BorderlineSMOTE', 'MLP', 'minority', 20, 30, 'borderline-2', 0.7058823529411765, 0.8461538461538461, 0.7857142857142857, 0.5595238095238095], ['BorderlineSMOTE', 'DT', 'minority', 20, 30, 'borderline-2', 0.7647058823529411, 0.8571428571428571, 0.8571428571428571, 0.5952380952380952], ['BorderlineSMOTE', 'XGB', 'minority', 20, 30, 'borderline-2', 0.6470588235294118, 0.8333333333333334, 0.7142857142857143, 0.5238095238095238], ['BorderlineSMOTE', 'KNN', 'minority', 20, 30, 'borderline-2', 0.5294117647058824, 0.875, 0.5, 0.5833333333333333], ['BorderlineSMOTE', 'SVM', 'minority', 20, 30, 'borderline-2', 0.7647058823529411, 0.9230769230769231, 0.8, 0.65], ['BorderlineSMOTE', 'RF', 'minority', 20, 30, 'borderline-2', 0.8235294117647058, 0.9285714285714286, 0.8666666666666667, 0.6833333333333333], ['BorderlineSMOTE', 'LR', 'minority', 20, 30, 'borderline-2', 0.6470588235294118, 1.0, 0.6, 0.8], ['BorderlineSMOTE', 'GBC', 'minority', 20, 30, 'borderline-2', 0.7058823529411765, 0.8571428571428571, 0.8, 0.4], ['BorderlineSMOTE', 'MLP', 'minority', 20, 30, 'borderline-2', 0.8235294117647058, 0.9285714285714286, 0.8666666666666667, 0.6833333333333333], ['BorderlineSMOTE', 'DT', 'minority', 20, 30, 'borderline-2', 0.5882352941176471, 0.9, 0.6, 0.55], ['BorderlineSMOTE', 'XGB', 'minority', 20, 30, 'borderline-2', 0.7058823529411765, 0.8571428571428571, 0.8, 0.4], ['BorderlineSMOTE', 'KNN', 'minority', 20, 30, 'borderline-2', 0.5882352941176471, 1.0, 0.5333333333333333, 0.7666666666666666], ['BorderlineSMOTE', 'SVM', 'minority', 20, 30, 'borderline-2', 0.7647058823529411, 1.0, 0.7333333333333333, 0.8666666666666667], ['BorderlineSMOTE', 'RF', 'minority', 20, 30, 'borderline-2', 0.9411764705882353, 1.0, 0.9333333333333333, 0.9666666666666667], ['BorderlineSMOTE', 'LR', 'minority', 20, 30, 'borderline-2', 0.7647058823529411, 1.0, 0.7333333333333333, 0.8666666666666667], ['BorderlineSMOTE', 'GBC', 'minority', 20, 30, 'borderline-2', 0.8823529411764706, 0.9333333333333333, 0.9333333333333333, 0.7166666666666667], ['BorderlineSMOTE', 'MLP', 'minority', 20, 30, 'borderline-2', 0.8235294117647058, 0.9285714285714286, 0.8666666666666667, 0.6833333333333333], ['BorderlineSMOTE', 'DT', 'minority', 20, 30, 'borderline-2', 0.8823529411764706, 0.9333333333333333, 0.9333333333333333, 0.7166666666666667], ['BorderlineSMOTE', 'XGB', 'minority', 20, 30, 'borderline-2', 0.8823529411764706, 1.0, 0.8666666666666667, 0.9333333333333333], ['BorderlineSMOTE', 'KNN', 'minority', 20, 30, 'borderline-2', 0.4117647058823529, 1.0, 0.3333333333333333, 0.6666666666666666], ['BorderlineSMOTE', 'SVM', 'minority', 20, 30, 'borderline-2', 0.7647058823529411, 0.9090909090909091, 0.7692307692307693, 0.7596153846153846], ['BorderlineSMOTE', 'RF', 'minority', 20, 30, 'borderline-2', 0.8235294117647058, 0.8125, 1.0, 0.625], ['BorderlineSMOTE', 'LR', 'minority', 20, 30, 'borderline-2', 0.7647058823529411, 0.9090909090909091, 0.7692307692307693, 0.7596153846153846], ['BorderlineSMOTE', 'GBC', 'minority', 20, 30, 'borderline-2', 0.8823529411764706, 0.9230769230769231, 0.9230769230769231, 0.8365384615384616], ['BorderlineSMOTE', 'MLP', 'minority', 20, 30, 'borderline-2', 0.5294117647058824, 0.8571428571428571, 0.46153846153846156, 0.6057692307692308], ['BorderlineSMOTE', 'DT', 'minority', 20, 30, 'borderline-2', 0.7647058823529411, 0.8, 0.9230769230769231, 0.5865384615384616], ['BorderlineSMOTE', 'XGB', 'minority', 20, 30, 'borderline-2', 0.7647058823529411, 0.8461538461538461, 0.8461538461538461, 0.6730769230769231], ['BorderlineSMOTE', 'KNN', 'minority', 20, 30, 'borderline-2', 0.6470588235294118, 1.0, 0.5384615384615384, 0.7692307692307692], ['BorderlineSMOTE', 'SVM', 'minority', 20, 30, 'borderline-2', 0.5294117647058824, 1.0, 0.4666666666666667, 0.7333333333333334], ['BorderlineSMOTE', 'RF', 'minority', 20, 30, 'borderline-2', 0.6470588235294118, 1.0, 0.6, 0.8], ['BorderlineSMOTE', 'LR', 'minority', 20, 30, 'borderline-2', 0.4117647058823529, 0.8571428571428571, 0.4, 0.45], ['BorderlineSMOTE', 'GBC', 'minority', 20, 30, 'borderline-2', 0.5882352941176471, 1.0, 0.5333333333333333, 0.7666666666666666], ['BorderlineSMOTE', 'MLP', 'minority', 20, 30, 'borderline-2', 0.6470588235294118, 0.9090909090909091, 0.6666666666666666, 0.5833333333333333], ['BorderlineSMOTE', 'DT', 'minority', 20, 30, 'borderline-2', 0.4117647058823529, 0.8571428571428571, 0.4, 0.45], ['BorderlineSMOTE', 'XGB', 'minority', 20, 30, 'borderline-2', 0.5294117647058824, 0.8888888888888888, 0.5333333333333333, 0.5166666666666666], ['BorderlineSMOTE', 'KNN', 'minority', 20, 30, 'borderline-2', 0.47058823529411764, 1.0, 0.4, 0.7], ['BorderlineSMOTE', 'SVM', 'minority', 20, 30, 'borderline-2', 0.6470588235294118, 0.7142857142857143, 0.8333333333333334, 0.5166666666666667], ['BorderlineSMOTE', 'RF', 'minority', 20, 30, 'borderline-2', 0.7058823529411765, 0.7692307692307693, 0.8333333333333334, 0.6166666666666667], ['BorderlineSMOTE', 'LR', 'minority', 20, 30, 'borderline-2', 0.6470588235294118, 0.75, 0.75, 0.575], ['BorderlineSMOTE', 'GBC', 'minority', 20, 30, 'borderline-2', 0.6470588235294118, 0.7142857142857143, 0.8333333333333334, 0.5166666666666667], ['BorderlineSMOTE', 'MLP', 'minority', 20, 30, 'borderline-2', 0.5882352941176471, 0.6923076923076923, 0.75, 0.475], ['BorderlineSMOTE', 'DT', 'minority', 20, 30, 'borderline-2', 0.5882352941176471, 0.6666666666666666, 0.8333333333333334, 0.4166666666666667], ['BorderlineSMOTE', 'XGB', 'minority', 20, 30, 'borderline-2', 0.5882352941176471, 0.6923076923076923, 0.75, 0.475], ['BorderlineSMOTE', 'KNN', 'minority', 20, 30, 'borderline-2', 0.4117647058823529, 0.6, 0.5, 0.35], ['BorderlineSMOTE', 'SVM', 'minority', 20, 30, 'borderline-2', 0.5882352941176471, 0.6923076923076923, 0.75, 0.475], ['BorderlineSMOTE', 'RF', 'minority', 20, 30, 'borderline-2', 0.7058823529411765, 0.7692307692307693, 0.8333333333333334, 0.6166666666666667], ['BorderlineSMOTE', 'LR', 'minority', 20, 30, 'borderline-2', 0.6470588235294118, 0.75, 0.75, 0.575], ['BorderlineSMOTE', 'GBC', 'minority', 20, 30, 'borderline-2', 0.7058823529411765, 0.8181818181818182, 0.75, 0.675], ['BorderlineSMOTE', 'MLP', 'minority', 20, 30, 'borderline-2', 0.6470588235294118, 0.6875, 0.9166666666666666, 0.4583333333333333], ['BorderlineSMOTE', 'DT', 'minority', 20, 30, 'borderline-2', 0.7647058823529411, 0.8333333333333334, 0.8333333333333334, 0.7166666666666667], ['BorderlineSMOTE', 'XGB', 'minority', 20, 30, 'borderline-2', 0.8235294117647058, 0.8461538461538461, 0.9166666666666666, 0.7583333333333333], ['BorderlineSMOTE', 'KNN', 'minority', 20, 30, 'borderline-2', 0.5882352941176471, 0.7272727272727273, 0.6666666666666666, 0.5333333333333333], ['BorderlineSMOTE', 'SVM', 'minority', 20, 30, 'borderline-2', 0.7647058823529411, 0.8333333333333334, 0.8333333333333334, 0.7166666666666667], ['BorderlineSMOTE', 'RF', 'minority', 20, 30, 'borderline-2', 0.7647058823529411, 0.9, 0.75, 0.775], ['BorderlineSMOTE', 'LR', 'minority', 20, 30, 'borderline-2', 0.6470588235294118, 0.875, 0.5833333333333334, 0.6916666666666667], ['BorderlineSMOTE', 'GBC', 'minority', 20, 30, 'borderline-2', 0.7058823529411765, 0.8181818181818182, 0.75, 0.675], ['BorderlineSMOTE', 'MLP', 'minority', 20, 30, 'borderline-2', 0.5882352941176471, 0.7272727272727273, 0.6666666666666666, 0.5333333333333333], ['BorderlineSMOTE', 'DT', 'minority', 20, 30, 'borderline-2', 0.7058823529411765, 0.8888888888888888, 0.6666666666666666, 0.7333333333333334], ['BorderlineSMOTE', 'XGB', 'minority', 20, 30, 'borderline-2', 0.7058823529411765, 0.8181818181818182, 0.75, 0.675], ['BorderlineSMOTE', 'KNN', 'minority', 20, 30, 'borderline-2', 0.7647058823529411, 0.9, 0.75, 0.775], ['BorderlineSMOTE', 'SVM', 'minority', 20, 30, 'borderline-2', 0.7058823529411765, 0.8181818181818182, 0.75, 0.675], ['BorderlineSMOTE', 'RF', 'minority', 20, 30, 'borderline-2', 0.7647058823529411, 0.8333333333333334, 0.8333333333333334, 0.7166666666666667], ['BorderlineSMOTE', 'LR', 'minority', 20, 30, 'borderline-2', 0.6470588235294118, 0.8, 0.6666666666666666, 0.6333333333333333], ['BorderlineSMOTE', 'GBC', 'minority', 20, 30, 'borderline-2', 0.7647058823529411, 0.8333333333333334, 0.8333333333333334, 0.7166666666666667], ['BorderlineSMOTE', 'MLP', 'minority', 20, 30, 'borderline-2', 0.6470588235294118, 0.875, 0.5833333333333334, 0.6916666666666667], ['BorderlineSMOTE', 'DT', 'minority', 20, 30, 'borderline-2', 0.8235294117647058, 0.8461538461538461, 0.9166666666666666, 0.7583333333333333], ['BorderlineSMOTE', 'XGB', 'minority', 20, 30, 'borderline-2', 0.8235294117647058, 0.8461538461538461, 0.9166666666666666, 0.7583333333333333], ['BorderlineSMOTE', 'KNN', 'minority', 20, 30, 'borderline-2', 0.5294117647058824, 0.75, 0.5, 0.55], ['BorderlineSMOTE', 'SVM', 'minority', 20, 30, 'borderline-2', 0.7647058823529411, 0.8, 0.9230769230769231, 0.5865384615384616], ['BorderlineSMOTE', 'RF', 'minority', 20, 30, 'borderline-2', 0.7058823529411765, 0.7857142857142857, 0.8461538461538461, 0.5480769230769231], ['BorderlineSMOTE', 'LR', 'minority', 20, 30, 'borderline-2', 0.7647058823529411, 0.8461538461538461, 0.8461538461538461, 0.6730769230769231], ['BorderlineSMOTE', 'GBC', 'minority', 20, 30, 'borderline-2', 0.7647058823529411, 0.8461538461538461, 0.8461538461538461, 0.6730769230769231], ['BorderlineSMOTE', 'MLP', 'minority', 20, 30, 'borderline-2', 0.7647058823529411, 0.8, 0.9230769230769231, 0.5865384615384616], ['BorderlineSMOTE', 'DT', 'minority', 20, 30, 'borderline-2', 0.7058823529411765, 0.7857142857142857, 0.8461538461538461, 0.5480769230769231], ['BorderlineSMOTE', 'XGB', 'minority', 20, 30, 'borderline-2', 0.6470588235294118, 0.7692307692307693, 0.7692307692307693, 0.5096153846153846], ['BorderlineSMOTE', 'KNN', 'minority', 20, 30, 'borderline-2', 0.5882352941176471, 0.8, 0.6153846153846154, 0.5576923076923077], ['BorderlineSMOTE', 'SVM', 'minority', 20, 30, 'borderline-2', 0.7647058823529411, 0.8333333333333334, 0.8333333333333334, 0.7166666666666667], ['BorderlineSMOTE', 'RF', 'minority', 20, 30, 'borderline-2', 0.7058823529411765, 0.7692307692307693, 0.8333333333333334, 0.6166666666666667], ['BorderlineSMOTE', 'LR', 'minority', 20, 30, 'borderline-2', 0.7058823529411765, 0.8181818181818182, 0.75, 0.675], ['BorderlineSMOTE', 'GBC', 'minority', 20, 30, 'borderline-2', 0.5294117647058824, 0.7, 0.5833333333333334, 0.4916666666666667], ['BorderlineSMOTE', 'MLP', 'minority', 20, 30, 'borderline-2', 0.7647058823529411, 0.8333333333333334, 0.8333333333333334, 0.7166666666666667], ['BorderlineSMOTE', 'DT', 'minority', 20, 30, 'borderline-2', 0.5294117647058824, 0.6666666666666666, 0.6666666666666666, 0.43333333333333335], ['BorderlineSMOTE', 'XGB', 'minority', 20, 30, 'borderline-2', 0.7647058823529411, 0.8333333333333334, 0.8333333333333334, 0.7166666666666667], ['BorderlineSMOTE', 'KNN', 'minority', 20, 30, 'borderline-2', 0.5882352941176471, 1.0, 0.4166666666666667, 0.7083333333333334], ['BorderlineSMOTE', 'SVM', 'minority', 20, 30, 'borderline-2', 0.8823529411764706, 0.9333333333333333, 0.9333333333333333, 0.7166666666666667], ['BorderlineSMOTE', 'RF', 'minority', 20, 30, 'borderline-2', 0.9411764705882353, 0.9375, 1.0, 0.75], ['BorderlineSMOTE', 'LR', 'minority', 20, 30, 'borderline-2', 0.8235294117647058, 0.9285714285714286, 0.8666666666666667, 0.6833333333333333], ['BorderlineSMOTE', 'GBC', 'minority', 20, 30, 'borderline-2', 0.9411764705882353, 0.9375, 1.0, 0.75], ['BorderlineSMOTE', 'MLP', 'minority', 20, 30, 'borderline-2', 0.8823529411764706, 0.9333333333333333, 0.9333333333333333, 0.7166666666666667], ['BorderlineSMOTE', 'DT', 'minority', 20, 30, 'borderline-2', 0.8823529411764706, 0.9333333333333333, 0.9333333333333333, 0.7166666666666667], ['BorderlineSMOTE', 'XGB', 'minority', 20, 30, 'borderline-2', 0.9411764705882353, 0.9375, 1.0, 0.75], ['BorderlineSMOTE', 'KNN', 'minority', 20, 30, 'borderline-2', 0.8235294117647058, 1.0, 0.8, 0.9], ['BorderlineSMOTE', 'SVM', 'minority', 20, 30, 'borderline-2', 0.7058823529411765, 0.8571428571428571, 0.8, 0.4], ['BorderlineSMOTE', 'RF', 'minority', 20, 30, 'borderline-2', 0.6470588235294118, 0.8461538461538461, 0.7333333333333333, 0.36666666666666664], ['BorderlineSMOTE', 'LR', 'minority', 20, 30, 'borderline-2', 0.7058823529411765, 0.9166666666666666, 0.7333333333333333, 0.6166666666666667], ['BorderlineSMOTE', 'GBC', 'minority', 20, 30, 'borderline-2', 0.7647058823529411, 0.8666666666666667, 0.8666666666666667, 0.43333333333333335], ['BorderlineSMOTE', 'MLP', 'minority', 20, 30, 'borderline-2', 0.5294117647058824, 0.8888888888888888, 0.5333333333333333, 0.5166666666666666], ['BorderlineSMOTE', 'DT', 'minority', 20, 30, 'borderline-2', 0.7647058823529411, 0.8666666666666667, 0.8666666666666667, 0.43333333333333335], ['BorderlineSMOTE', 'XGB', 'minority', 20, 30, 'borderline-2', 0.7058823529411765, 0.8571428571428571, 0.8, 0.4], ['BorderlineSMOTE', 'KNN', 'minority', 20, 30, 'borderline-2', 0.29411764705882354, 0.7142857142857143, 0.3333333333333333, 0.16666666666666666], ['BorderlineSMOTE', 'SVM', 'minority', 20, 30, 'borderline-2', 0.7058823529411765, 0.8, 0.7272727272727273, 0.696969696969697], ['BorderlineSMOTE', 'RF', 'minority', 20, 30, 'borderline-2', 0.8235294117647058, 0.8333333333333334, 0.9090909090909091, 0.7878787878787878], ['BorderlineSMOTE', 'LR', 'minority', 20, 30, 'borderline-2', 0.7058823529411765, 0.8, 0.7272727272727273, 0.696969696969697], ['BorderlineSMOTE', 'GBC', 'minority', 20, 30, 'borderline-2', 0.9411764705882353, 1.0, 0.9090909090909091, 0.9545454545454546], ['BorderlineSMOTE', 'MLP', 'minority', 20, 30, 'borderline-2', 0.6470588235294118, 0.6923076923076923, 0.8181818181818182, 0.5757575757575758], ['BorderlineSMOTE', 'DT', 'minority', 20, 30, 'borderline-2', 0.6470588235294118, 0.6666666666666666, 0.9090909090909091, 0.5378787878787878], ['BorderlineSMOTE', 'XGB', 'minority', 20, 30, 'borderline-2', 0.8235294117647058, 0.9, 0.8181818181818182, 0.8257575757575758], ['BorderlineSMOTE', 'KNN', 'minority', 20, 30, 'borderline-2', 0.5294117647058824, 0.7142857142857143, 0.45454545454545453, 0.5606060606060606], ['BorderlineSMOTE', 'SVM', 'minority', 20, 30, 'borderline-2', 0.6470588235294118, 0.7142857142857143, 0.8333333333333334, 0.5166666666666667], ['BorderlineSMOTE', 'RF', 'minority', 20, 30, 'borderline-2', 0.6470588235294118, 0.6875, 0.9166666666666666, 0.4583333333333333], ['BorderlineSMOTE', 'LR', 'minority', 20, 30, 'borderline-2', 0.7058823529411765, 0.8181818181818182, 0.75, 0.675], ['BorderlineSMOTE', 'GBC', 'minority', 20, 30, 'borderline-2', 0.47058823529411764, 0.6153846153846154, 0.6666666666666666, 0.3333333333333333], ['BorderlineSMOTE', 'MLP', 'minority', 20, 30, 'borderline-2', 0.6470588235294118, 0.6875, 0.9166666666666666, 0.4583333333333333], ['BorderlineSMOTE', 'DT', 'minority', 20, 30, 'borderline-2', 0.7058823529411765, 0.7333333333333333, 0.9166666666666666, 0.5583333333333333], ['BorderlineSMOTE', 'XGB', 'minority', 20, 30, 'borderline-2', 0.6470588235294118, 0.7142857142857143, 0.8333333333333334, 0.5166666666666667], ['BorderlineSMOTE', 'KNN', 'minority', 20, 30, 'borderline-2', 0.7058823529411765, 0.7692307692307693, 0.8333333333333334, 0.6166666666666667], ['BorderlineSMOTE', 'SVM', 'minority', 20, 30, 'borderline-2', 0.7058823529411765, 0.8, 0.8571428571428571, 0.42857142857142855], ['BorderlineSMOTE', 'RF', 'minority', 20, 30, 'borderline-2', 0.7647058823529411, 0.8125, 0.9285714285714286, 0.4642857142857143], ['BorderlineSMOTE', 'LR', 'minority', 20, 30, 'borderline-2', 0.5882352941176471, 0.8888888888888888, 0.5714285714285714, 0.6190476190476191], ['BorderlineSMOTE', 'GBC', 'minority', 20, 30, 'borderline-2', 0.6470588235294118, 0.8333333333333334, 0.7142857142857143, 0.5238095238095238], ['BorderlineSMOTE', 'MLP', 'minority', 20, 30, 'borderline-2', 0.7647058823529411, 0.8571428571428571, 0.8571428571428571, 0.5952380952380952], ['BorderlineSMOTE', 'DT', 'minority', 20, 30, 'borderline-2', 0.5882352941176471, 0.7692307692307693, 0.7142857142857143, 0.35714285714285715], ['BorderlineSMOTE', 'XGB', 'minority', 20, 30, 'borderline-2', 0.6470588235294118, 0.8333333333333334, 0.7142857142857143, 0.5238095238095238], ['BorderlineSMOTE', 'KNN', 'minority', 20, 30, 'borderline-2', 0.5882352941176471, 0.8888888888888888, 0.5714285714285714, 0.6190476190476191], ['BorderlineSMOTE', 'SVM', 'minority', 20, 30, 'borderline-2', 0.8235294117647058, 0.9166666666666666, 0.8461538461538461, 0.7980769230769231], ['BorderlineSMOTE', 'RF', 'minority', 20, 30, 'borderline-2', 0.8235294117647058, 0.9166666666666666, 0.8461538461538461, 0.7980769230769231], ['BorderlineSMOTE', 'LR', 'minority', 20, 30, 'borderline-2', 0.7058823529411765, 0.8333333333333334, 0.7692307692307693, 0.6346153846153846], ['BorderlineSMOTE', 'GBC', 'minority', 20, 30, 'borderline-2', 0.7647058823529411, 0.8461538461538461, 0.8461538461538461, 0.6730769230769231], ['BorderlineSMOTE', 'MLP', 'minority', 20, 30, 'borderline-2', 0.7647058823529411, 0.9090909090909091, 0.7692307692307693, 0.7596153846153846], ['BorderlineSMOTE', 'DT', 'minority', 20, 30, 'borderline-2', 0.5882352941176471, 0.7142857142857143, 0.7692307692307693, 0.38461538461538464], ['BorderlineSMOTE', 'XGB', 'minority', 20, 30, 'borderline-2', 0.7647058823529411, 0.8461538461538461, 0.8461538461538461, 0.6730769230769231], ['BorderlineSMOTE', 'KNN', 'minority', 20, 30, 'borderline-2', 0.5294117647058824, 0.7777777777777778, 0.5384615384615384, 0.5192307692307692], ['BorderlineSMOTE', 'SVM', 'minority', 20, 30, 'borderline-2', 0.8235294117647058, 0.9333333333333333, 0.875, 0.4375], ['BorderlineSMOTE', 'RF', 'minority', 20, 30, 'borderline-2', 0.9411764705882353, 1.0, 0.9375, 0.96875], ['BorderlineSMOTE', 'LR', 'minority', 20, 30, 'borderline-2', 0.6470588235294118, 1.0, 0.625, 0.8125], ['BorderlineSMOTE', 'GBC', 'minority', 20, 30, 'borderline-2', 0.8823529411764706, 1.0, 0.875, 0.9375], ['BorderlineSMOTE', 'MLP', 'minority', 20, 30, 'borderline-2', 0.8235294117647058, 0.9333333333333333, 0.875, 0.4375], ['BorderlineSMOTE', 'DT', 'minority', 20, 30, 'borderline-2', 0.8823529411764706, 1.0, 0.875, 0.9375], ['BorderlineSMOTE', 'XGB', 'minority', 20, 30, 'borderline-2', 0.8235294117647058, 1.0, 0.8125, 0.90625], ['BorderlineSMOTE', 'KNN', 'minority', 20, 30, 'borderline-2', 0.5882352941176471, 0.9090909090909091, 0.625, 0.3125], ['BorderlineSMOTE', 'SVM', 'minority', 20, 30, 'borderline-2', 0.8235294117647058, 0.8666666666666667, 0.9285714285714286, 0.6309523809523809], ['BorderlineSMOTE', 'RF', 'minority', 20, 30, 'borderline-2', 0.7647058823529411, 0.9166666666666666, 0.7857142857142857, 0.7261904761904762], ['BorderlineSMOTE', 'LR', 'minority', 20, 30, 'borderline-2', 0.7647058823529411, 1.0, 0.7142857142857143, 0.8571428571428572], ['BorderlineSMOTE', 'GBC', 'minority', 20, 30, 'borderline-2', 0.7647058823529411, 0.9166666666666666, 0.7857142857142857, 0.7261904761904762], ['BorderlineSMOTE', 'MLP', 'minority', 20, 30, 'borderline-2', 0.8823529411764706, 0.9285714285714286, 0.9285714285714286, 0.7976190476190477], ['BorderlineSMOTE', 'DT', 'minority', 20, 30, 'borderline-2', 0.7058823529411765, 0.9090909090909091, 0.7142857142857143, 0.6904761904761905], ['BorderlineSMOTE', 'XGB', 'minority', 20, 30, 'borderline-2', 0.6470588235294118, 0.9, 0.6428571428571429, 0.6547619047619048], ['BorderlineSMOTE', 'KNN', 'minority', 20, 30, 'borderline-2', 0.7058823529411765, 0.9090909090909091, 0.7142857142857143, 0.6904761904761905], ['BorderlineSMOTE', 'SVM', 'minority', 20, 30, 'borderline-2', 0.8235294117647058, 1.0, 0.8125, 0.90625], ['BorderlineSMOTE', 'RF', 'minority', 20, 30, 'borderline-2', 0.8823529411764706, 1.0, 0.875, 0.9375], ['BorderlineSMOTE', 'LR', 'minority', 20, 30, 'borderline-2', 0.6470588235294118, 1.0, 0.625, 0.8125], ['BorderlineSMOTE', 'GBC', 'minority', 20, 30, 'borderline-2', 0.8235294117647058, 0.9333333333333333, 0.875, 0.4375], ['BorderlineSMOTE', 'MLP', 'minority', 20, 30, 'borderline-2', 0.8235294117647058, 0.9333333333333333, 0.875, 0.4375], ['BorderlineSMOTE', 'DT', 'minority', 20, 30, 'borderline-2', 0.7647058823529411, 0.9285714285714286, 0.8125, 0.40625], ['BorderlineSMOTE', 'XGB', 'minority', 20, 30, 'borderline-2', 0.7647058823529411, 1.0, 0.75, 0.875], ['BorderlineSMOTE', 'KNN', 'minority', 20, 30, 'borderline-2', 0.8235294117647058, 1.0, 0.8125, 0.90625], ['BorderlineSMOTE', 'SVM', 'minority', 20, 30, 'borderline-2', 0.7647058823529411, 0.8461538461538461, 0.8461538461538461, 0.6730769230769231], ['BorderlineSMOTE', 'RF', 'minority', 20, 30, 'borderline-2', 0.8235294117647058, 0.8571428571428571, 0.9230769230769231, 0.7115384615384616], ['BorderlineSMOTE', 'LR', 'minority', 20, 30, 'borderline-2', 0.7058823529411765, 0.8333333333333334, 0.7692307692307693, 0.6346153846153846], ['BorderlineSMOTE', 'GBC', 'minority', 20, 30, 'borderline-2', 0.7058823529411765, 0.8333333333333334, 0.7692307692307693, 0.6346153846153846], ['BorderlineSMOTE', 'MLP', 'minority', 20, 30, 'borderline-2', 0.8235294117647058, 0.8571428571428571, 0.9230769230769231, 0.7115384615384616], ['BorderlineSMOTE', 'DT', 'minority', 20, 30, 'borderline-2', 0.7058823529411765, 0.8333333333333334, 0.7692307692307693, 0.6346153846153846], ['BorderlineSMOTE', 'XGB', 'minority', 20, 30, 'borderline-2', 0.7647058823529411, 0.9090909090909091, 0.7692307692307693, 0.7596153846153846], ['BorderlineSMOTE', 'KNN', 'minority', 20, 30, 'borderline-2', 0.6470588235294118, 0.8888888888888888, 0.6153846153846154, 0.6826923076923077], ['BorderlineSMOTE', 'SVM', 'minority', 20, 30, 'borderline-2', 0.6470588235294118, 1.0, 0.6, 0.8], ['BorderlineSMOTE', 'RF', 'minority', 20, 30, 'borderline-2', 0.7647058823529411, 1.0, 0.7333333333333333, 0.8666666666666667], ['BorderlineSMOTE', 'LR', 'minority', 20, 30, 'borderline-2', 0.5882352941176471, 0.9, 0.6, 0.55], ['BorderlineSMOTE', 'GBC', 'minority', 20, 30, 'borderline-2', 0.7647058823529411, 0.9230769230769231, 0.8, 0.65], ['BorderlineSMOTE', 'MLP', 'minority', 20, 30, 'borderline-2', 0.7058823529411765, 1.0, 0.6666666666666666, 0.8333333333333333], ['BorderlineSMOTE', 'DT', 'minority', 20, 30, 'borderline-2', 0.6470588235294118, 0.9090909090909091, 0.6666666666666666, 0.5833333333333333], ['BorderlineSMOTE', 'XGB', 'minority', 20, 30, 'borderline-2', 0.8823529411764706, 1.0, 0.8666666666666667, 0.9333333333333333], ['BorderlineSMOTE', 'KNN', 'minority', 20, 30, 'borderline-2', 0.4117647058823529, 1.0, 0.3333333333333333, 0.6666666666666666], ['BorderlineSMOTE', 'SVM', 'minority', 20, 30, 'borderline-2', 0.7058823529411765, 0.9, 0.6923076923076923, 0.7211538461538461], ['BorderlineSMOTE', 'RF', 'minority', 20, 30, 'borderline-2', 0.7647058823529411, 1.0, 0.6923076923076923, 0.8461538461538461], ['BorderlineSMOTE', 'LR', 'minority', 20, 30, 'borderline-2', 0.5882352941176471, 0.875, 0.5384615384615384, 0.6442307692307692], ['BorderlineSMOTE', 'GBC', 'minority', 20, 30, 'borderline-2', 0.6470588235294118, 0.8888888888888888, 0.6153846153846154, 0.6826923076923077], ['BorderlineSMOTE', 'MLP', 'minority', 20, 30, 'borderline-2', 0.7647058823529411, 0.8461538461538461, 0.8461538461538461, 0.6730769230769231], ['BorderlineSMOTE', 'DT', 'minority', 20, 30, 'borderline-2', 0.5882352941176471, 0.8, 0.6153846153846154, 0.5576923076923077], ['BorderlineSMOTE', 'XGB', 'minority', 20, 30, 'borderline-2', 0.6470588235294118, 0.8888888888888888, 0.6153846153846154, 0.6826923076923077], ['BorderlineSMOTE', 'KNN', 'minority', 20, 30, 'borderline-2', 0.6470588235294118, 0.8888888888888888, 0.6153846153846154, 0.6826923076923077], ['BorderlineSMOTE', 'SVM', 'minority', 20, 30, 'borderline-2', 0.7058823529411765, 0.8461538461538461, 0.7857142857142857, 0.5595238095238095], ['BorderlineSMOTE', 'RF', 'minority', 20, 30, 'borderline-2', 0.9411764705882353, 1.0, 0.9285714285714286, 0.9642857142857143], ['BorderlineSMOTE', 'LR', 'minority', 20, 30, 'borderline-2', 0.8235294117647058, 1.0, 0.7857142857142857, 0.8928571428571428], ['BorderlineSMOTE', 'GBC', 'minority', 20, 30, 'borderline-2', 0.8823529411764706, 1.0, 0.8571428571428571, 0.9285714285714286], ['BorderlineSMOTE', 'MLP', 'minority', 20, 30, 'borderline-2', 0.6470588235294118, 0.8333333333333334, 0.7142857142857143, 0.5238095238095238], ['BorderlineSMOTE', 'DT', 'minority', 20, 30, 'borderline-2', 0.7058823529411765, 0.9090909090909091, 0.7142857142857143, 0.6904761904761905], ['BorderlineSMOTE', 'XGB', 'minority', 20, 30, 'borderline-2', 0.9411764705882353, 1.0, 0.9285714285714286, 0.9642857142857143], ['BorderlineSMOTE', 'KNN', 'minority', 20, 30, 'borderline-2', 0.7058823529411765, 1.0, 0.6428571428571429, 0.8214285714285714], ['BorderlineSMOTE', 'SVM', 'minority', 20, 30, 'borderline-2', 0.5882352941176471, 0.8333333333333334, 0.45454545454545453, 0.6439393939393939], ['BorderlineSMOTE', 'RF', 'minority', 20, 30, 'borderline-2', 0.7058823529411765, 0.75, 0.8181818181818182, 0.6590909090909092], ['BorderlineSMOTE', 'LR', 'minority', 20, 30, 'borderline-2', 0.7058823529411765, 0.875, 0.6363636363636364, 0.7348484848484849], ['BorderlineSMOTE', 'GBC', 'minority', 20, 30, 'borderline-2', 0.6470588235294118, 0.7272727272727273, 0.7272727272727273, 0.6136363636363636], ['BorderlineSMOTE', 'MLP', 'minority', 20, 30, 'borderline-2', 0.5882352941176471, 0.6428571428571429, 0.8181818181818182, 0.49242424242424243], ['BorderlineSMOTE', 'DT', 'minority', 20, 30, 'borderline-2', 0.7058823529411765, 0.75, 0.8181818181818182, 0.6590909090909092], ['BorderlineSMOTE', 'XGB', 'minority', 20, 30, 'borderline-2', 0.7058823529411765, 0.8, 0.7272727272727273, 0.696969696969697], ['BorderlineSMOTE', 'KNN', 'minority', 20, 30, 'borderline-2', 0.47058823529411764, 0.75, 0.2727272727272727, 0.553030303030303], ['BorderlineSMOTE', 'SVM', 'minority', 20, 30, 'borderline-2', 0.9411764705882353, 0.9230769230769231, 1.0, 0.9], ['BorderlineSMOTE', 'RF', 'minority', 20, 30, 'borderline-2', 0.7647058823529411, 0.75, 1.0, 0.6], ['BorderlineSMOTE', 'LR', 'minority', 20, 30, 'borderline-2', 0.7647058823529411, 0.9, 0.75, 0.775], ['BorderlineSMOTE', 'GBC', 'minority', 20, 30, 'borderline-2', 0.7058823529411765, 0.7333333333333333, 0.9166666666666666, 0.5583333333333333], ['BorderlineSMOTE', 'MLP', 'minority', 20, 30, 'borderline-2', 0.8823529411764706, 0.9166666666666666, 0.9166666666666666, 0.8583333333333334], ['BorderlineSMOTE', 'DT', 'minority', 20, 30, 'borderline-2', 0.8235294117647058, 0.8, 1.0, 0.7], ['BorderlineSMOTE', 'XGB', 'minority', 20, 30, 'borderline-2', 0.8235294117647058, 0.8461538461538461, 0.9166666666666666, 0.7583333333333333], ['BorderlineSMOTE', 'KNN', 'minority', 20, 30, 'borderline-2', 0.6470588235294118, 0.875, 0.5833333333333334, 0.6916666666666667], ['BorderlineSMOTE', 'SVM', 'minority', 20, 30, 'borderline-2', 0.7058823529411765, 1.0, 0.6428571428571429, 0.8214285714285714], ['BorderlineSMOTE', 'RF', 'minority', 20, 30, 'borderline-2', 0.8235294117647058, 0.8235294117647058, 1.0, 0.5], ['BorderlineSMOTE', 'LR', 'minority', 20, 30, 'borderline-2', 0.6470588235294118, 0.8333333333333334, 0.7142857142857143, 0.5238095238095238], ['BorderlineSMOTE', 'GBC', 'minority', 20, 30, 'borderline-2', 0.7058823529411765, 0.8461538461538461, 0.7857142857142857, 0.5595238095238095], ['BorderlineSMOTE', 'MLP', 'minority', 20, 30, 'borderline-2', 0.5882352941176471, 0.8888888888888888, 0.5714285714285714, 0.6190476190476191], ['BorderlineSMOTE', 'DT', 'minority', 20, 30, 'borderline-2', 0.9411764705882353, 1.0, 0.9285714285714286, 0.9642857142857143], ['BorderlineSMOTE', 'XGB', 'minority', 20, 30, 'borderline-2', 0.7058823529411765, 0.8461538461538461, 0.7857142857142857, 0.5595238095238095], ['BorderlineSMOTE', 'KNN', 'minority', 20, 30, 'borderline-2', 0.35294117647058826, 0.8, 0.2857142857142857, 0.47619047619047616], ['BorderlineSMOTE', 'SVM', 'minority', 20, 30, 'borderline-2', 0.7058823529411765, 0.8888888888888888, 0.6666666666666666, 0.7333333333333334], ['BorderlineSMOTE', 'RF', 'minority', 20, 30, 'borderline-2', 0.7647058823529411, 0.8333333333333334, 0.8333333333333334, 0.7166666666666667], ['BorderlineSMOTE', 'LR', 'minority', 20, 30, 'borderline-2', 0.7647058823529411, 0.9, 0.75, 0.775], ['BorderlineSMOTE', 'GBC', 'minority', 20, 30, 'borderline-2', 0.7058823529411765, 0.8181818181818182, 0.75, 0.675], ['BorderlineSMOTE', 'MLP', 'minority', 20, 30, 'borderline-2', 0.7058823529411765, 0.8181818181818182, 0.75, 0.675], ['BorderlineSMOTE', 'DT', 'minority', 20, 30, 'borderline-2', 0.8235294117647058, 1.0, 0.75, 0.875], ['BorderlineSMOTE', 'XGB', 'minority', 20, 30, 'borderline-2', 0.7058823529411765, 0.8181818181818182, 0.75, 0.675], ['BorderlineSMOTE', 'KNN', 'minority', 20, 30, 'borderline-2', 0.6470588235294118, 0.8, 0.6666666666666666, 0.6333333333333333]]\n"
          ]
        }
      ]
    },
    {
      "cell_type": "code",
      "source": [
        "import statistics"
      ],
      "metadata": {
        "id": "60WWE9AFwawK"
      },
      "execution_count": 27,
      "outputs": []
    },
    {
      "cell_type": "code",
      "source": [
        "average = statistics.mean(results_matrix_resample)"
      ],
      "metadata": {
        "colab": {
          "base_uri": "https://localhost:8080/",
          "height": 553
        },
        "id": "NdE0GZ2Bbalx",
        "outputId": "089f0a24-22e1-446b-afad-e4496bcc0c22"
      },
      "execution_count": 28,
      "outputs": [
        {
          "output_type": "error",
          "ename": "TypeError",
          "evalue": "ignored",
          "traceback": [
            "\u001b[0;31m---------------------------------------------------------------------------\u001b[0m",
            "\u001b[0;31mTypeError\u001b[0m                                 Traceback (most recent call last)",
            "\u001b[0;32m<ipython-input-28-515b233d600f>\u001b[0m in \u001b[0;36m<module>\u001b[0;34m\u001b[0m\n\u001b[0;32m----> 1\u001b[0;31m \u001b[0maverage\u001b[0m \u001b[0;34m=\u001b[0m \u001b[0mstatistics\u001b[0m\u001b[0;34m.\u001b[0m\u001b[0mmean\u001b[0m\u001b[0;34m(\u001b[0m\u001b[0mresults_matrix_resample\u001b[0m\u001b[0;34m)\u001b[0m\u001b[0;34m\u001b[0m\u001b[0;34m\u001b[0m\u001b[0m\n\u001b[0m",
            "\u001b[0;32m/usr/lib/python3.7/statistics.py\u001b[0m in \u001b[0;36mmean\u001b[0;34m(data)\u001b[0m\n\u001b[1;32m    309\u001b[0m     \u001b[0;32mif\u001b[0m \u001b[0mn\u001b[0m \u001b[0;34m<\u001b[0m \u001b[0;36m1\u001b[0m\u001b[0;34m:\u001b[0m\u001b[0;34m\u001b[0m\u001b[0;34m\u001b[0m\u001b[0m\n\u001b[1;32m    310\u001b[0m         \u001b[0;32mraise\u001b[0m \u001b[0mStatisticsError\u001b[0m\u001b[0;34m(\u001b[0m\u001b[0;34m'mean requires at least one data point'\u001b[0m\u001b[0;34m)\u001b[0m\u001b[0;34m\u001b[0m\u001b[0;34m\u001b[0m\u001b[0m\n\u001b[0;32m--> 311\u001b[0;31m     \u001b[0mT\u001b[0m\u001b[0;34m,\u001b[0m \u001b[0mtotal\u001b[0m\u001b[0;34m,\u001b[0m \u001b[0mcount\u001b[0m \u001b[0;34m=\u001b[0m \u001b[0m_sum\u001b[0m\u001b[0;34m(\u001b[0m\u001b[0mdata\u001b[0m\u001b[0;34m)\u001b[0m\u001b[0;34m\u001b[0m\u001b[0;34m\u001b[0m\u001b[0m\n\u001b[0m\u001b[1;32m    312\u001b[0m     \u001b[0;32massert\u001b[0m \u001b[0mcount\u001b[0m \u001b[0;34m==\u001b[0m \u001b[0mn\u001b[0m\u001b[0;34m\u001b[0m\u001b[0;34m\u001b[0m\u001b[0m\n\u001b[1;32m    313\u001b[0m     \u001b[0;32mreturn\u001b[0m \u001b[0m_convert\u001b[0m\u001b[0;34m(\u001b[0m\u001b[0mtotal\u001b[0m\u001b[0;34m/\u001b[0m\u001b[0mn\u001b[0m\u001b[0;34m,\u001b[0m \u001b[0mT\u001b[0m\u001b[0;34m)\u001b[0m\u001b[0;34m\u001b[0m\u001b[0;34m\u001b[0m\u001b[0m\n",
            "\u001b[0;32m/usr/lib/python3.7/statistics.py\u001b[0m in \u001b[0;36m_sum\u001b[0;34m(data, start)\u001b[0m\n\u001b[1;32m    145\u001b[0m     \u001b[0;32mfor\u001b[0m \u001b[0mtyp\u001b[0m\u001b[0;34m,\u001b[0m \u001b[0mvalues\u001b[0m \u001b[0;32min\u001b[0m \u001b[0mgroupby\u001b[0m\u001b[0;34m(\u001b[0m\u001b[0mdata\u001b[0m\u001b[0;34m,\u001b[0m \u001b[0mtype\u001b[0m\u001b[0;34m)\u001b[0m\u001b[0;34m:\u001b[0m\u001b[0;34m\u001b[0m\u001b[0;34m\u001b[0m\u001b[0m\n\u001b[1;32m    146\u001b[0m         \u001b[0mT\u001b[0m \u001b[0;34m=\u001b[0m \u001b[0m_coerce\u001b[0m\u001b[0;34m(\u001b[0m\u001b[0mT\u001b[0m\u001b[0;34m,\u001b[0m \u001b[0mtyp\u001b[0m\u001b[0;34m)\u001b[0m  \u001b[0;31m# or raise TypeError\u001b[0m\u001b[0;34m\u001b[0m\u001b[0;34m\u001b[0m\u001b[0m\n\u001b[0;32m--> 147\u001b[0;31m         \u001b[0;32mfor\u001b[0m \u001b[0mn\u001b[0m\u001b[0;34m,\u001b[0m\u001b[0md\u001b[0m \u001b[0;32min\u001b[0m \u001b[0mmap\u001b[0m\u001b[0;34m(\u001b[0m\u001b[0m_exact_ratio\u001b[0m\u001b[0;34m,\u001b[0m \u001b[0mvalues\u001b[0m\u001b[0;34m)\u001b[0m\u001b[0;34m:\u001b[0m\u001b[0;34m\u001b[0m\u001b[0;34m\u001b[0m\u001b[0m\n\u001b[0m\u001b[1;32m    148\u001b[0m             \u001b[0mcount\u001b[0m \u001b[0;34m+=\u001b[0m \u001b[0;36m1\u001b[0m\u001b[0;34m\u001b[0m\u001b[0;34m\u001b[0m\u001b[0m\n\u001b[1;32m    149\u001b[0m             \u001b[0mpartials\u001b[0m\u001b[0;34m[\u001b[0m\u001b[0md\u001b[0m\u001b[0;34m]\u001b[0m \u001b[0;34m=\u001b[0m \u001b[0mpartials_get\u001b[0m\u001b[0;34m(\u001b[0m\u001b[0md\u001b[0m\u001b[0;34m,\u001b[0m \u001b[0;36m0\u001b[0m\u001b[0;34m)\u001b[0m \u001b[0;34m+\u001b[0m \u001b[0mn\u001b[0m\u001b[0;34m\u001b[0m\u001b[0;34m\u001b[0m\u001b[0m\n",
            "\u001b[0;32m/usr/lib/python3.7/statistics.py\u001b[0m in \u001b[0;36m_exact_ratio\u001b[0;34m(x)\u001b[0m\n\u001b[1;32m    227\u001b[0m         \u001b[0;32mreturn\u001b[0m \u001b[0;34m(\u001b[0m\u001b[0mx\u001b[0m\u001b[0;34m,\u001b[0m \u001b[0;32mNone\u001b[0m\u001b[0;34m)\u001b[0m\u001b[0;34m\u001b[0m\u001b[0;34m\u001b[0m\u001b[0m\n\u001b[1;32m    228\u001b[0m     \u001b[0mmsg\u001b[0m \u001b[0;34m=\u001b[0m \u001b[0;34m\"can't convert type '{}' to numerator/denominator\"\u001b[0m\u001b[0;34m\u001b[0m\u001b[0;34m\u001b[0m\u001b[0m\n\u001b[0;32m--> 229\u001b[0;31m     \u001b[0;32mraise\u001b[0m \u001b[0mTypeError\u001b[0m\u001b[0;34m(\u001b[0m\u001b[0mmsg\u001b[0m\u001b[0;34m.\u001b[0m\u001b[0mformat\u001b[0m\u001b[0;34m(\u001b[0m\u001b[0mtype\u001b[0m\u001b[0;34m(\u001b[0m\u001b[0mx\u001b[0m\u001b[0;34m)\u001b[0m\u001b[0;34m.\u001b[0m\u001b[0m__name__\u001b[0m\u001b[0;34m)\u001b[0m\u001b[0;34m)\u001b[0m\u001b[0;34m\u001b[0m\u001b[0;34m\u001b[0m\u001b[0m\n\u001b[0m\u001b[1;32m    230\u001b[0m \u001b[0;34m\u001b[0m\u001b[0m\n\u001b[1;32m    231\u001b[0m \u001b[0;34m\u001b[0m\u001b[0m\n",
            "\u001b[0;31mTypeError\u001b[0m: can't convert type 'list' to numerator/denominator"
          ]
        }
      ]
    },
    {
      "cell_type": "code",
      "source": [],
      "metadata": {
        "colab": {
          "base_uri": "https://localhost:8080/",
          "height": 130
        },
        "id": "lj-NI9xbn26H",
        "outputId": "364b3bb0-400a-4c0c-f73f-280062197f45"
      },
      "execution_count": 51,
      "outputs": [
        {
          "output_type": "error",
          "ename": "SyntaxError",
          "evalue": "ignored",
          "traceback": [
            "\u001b[0;36m  File \u001b[0;32m\"<ipython-input-51-d2a70281c18d>\"\u001b[0;36m, line \u001b[0;32m1\u001b[0m\n\u001b[0;31m    input == {\"/name.jpeg\"} return\u001b[0m\n\u001b[0m                                 ^\u001b[0m\n\u001b[0;31mSyntaxError\u001b[0m\u001b[0;31m:\u001b[0m invalid syntax\n"
          ]
        }
      ]
    },
    {
      "cell_type": "code",
      "source": [
        "results_matrix_resample[].std()"
      ],
      "metadata": {
        "colab": {
          "base_uri": "https://localhost:8080/",
          "height": 165
        },
        "id": "jviTPxA0kr_9",
        "outputId": "e453d3e8-a9df-46c2-cb71-b36c0a682fe0"
      },
      "execution_count": 49,
      "outputs": [
        {
          "output_type": "error",
          "ename": "TypeError",
          "evalue": "ignored",
          "traceback": [
            "\u001b[0;31m---------------------------------------------------------------------------\u001b[0m",
            "\u001b[0;31mTypeError\u001b[0m                                 Traceback (most recent call last)",
            "\u001b[0;32m<ipython-input-49-ea1c8876ff8b>\u001b[0m in \u001b[0;36m<module>\u001b[0;34m\u001b[0m\n\u001b[0;32m----> 1\u001b[0;31m \u001b[0mresults_matrix_resample\u001b[0m\u001b[0;34m[\u001b[0m\u001b[0;34m[\u001b[0m\u001b[0;36m7\u001b[0m\u001b[0;34m,\u001b[0m\u001b[0;36m8\u001b[0m\u001b[0;34m,\u001b[0m\u001b[0;36m9\u001b[0m\u001b[0;34m]\u001b[0m\u001b[0;34m]\u001b[0m\u001b[0;34m.\u001b[0m\u001b[0mstd\u001b[0m\u001b[0;34m(\u001b[0m\u001b[0;34m)\u001b[0m\u001b[0;34m\u001b[0m\u001b[0;34m\u001b[0m\u001b[0m\n\u001b[0m",
            "\u001b[0;31mTypeError\u001b[0m: list indices must be integers or slices, not list"
          ]
        }
      ]
    },
    {
      "cell_type": "code",
      "source": [
        "print"
      ],
      "metadata": {
        "id": "K15kAVWdnk9m"
      },
      "execution_count": null,
      "outputs": []
    }
  ]
}